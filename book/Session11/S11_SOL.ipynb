{
  "nbformat": 4,
  "nbformat_minor": 0,
  "metadata": {
    "colab": {
      "provenance": [],
      "toc_visible": true
    },
    "kernelspec": {
      "name": "python3",
      "display_name": "Python 3"
    }
  },
  "cells": [
    {
      "cell_type": "markdown",
      "metadata": {
        "id": "VkDGYnGkpN2H"
      },
      "source": [
        "# Session 11: Coding Solution\n",
        "\n",
        "```{contents}\n",
        "\n",
        "```"
      ]
    },
    {
      "cell_type": "code",
      "source": [
        "!pip install gymnasium"
      ],
      "metadata": {
        "id": "QCH0mqjA2-ME"
      },
      "execution_count": null,
      "outputs": []
    },
    {
      "cell_type": "markdown",
      "metadata": {
        "id": "hvjqPdEUmoT6"
      },
      "source": [
        "# Giới thiệu môi trường game Taxi"
      ]
    },
    {
      "cell_type": "code",
      "source": [
        "import gymnasium as gym # thư viện tạo game\n",
        "import matplotlib.pyplot as plt"
      ],
      "metadata": {
        "id": "2dCRp5vX6zYZ"
      },
      "execution_count": null,
      "outputs": []
    },
    {
      "cell_type": "code",
      "source": [
        "env = gym.make(\"Taxi-v3\", render_mode=\"rgb_array\")\n",
        "env.reset() # must be called after creating"
      ],
      "metadata": {
        "id": "EvJLUeyP61zH"
      },
      "execution_count": null,
      "outputs": []
    },
    {
      "cell_type": "code",
      "source": [
        "frame = env.render()\n",
        "plt.imshow(frame)\n",
        "plt.show()"
      ],
      "metadata": {
        "id": "eyTpCpfq66fE"
      },
      "execution_count": null,
      "outputs": []
    },
    {
      "cell_type": "markdown",
      "source": [
        "Môi trường này giả lập việc taxi đón và trả khách.\n",
        "\n",
        "\n",
        ">Khi episode bắt đầu, taxi sẽ xuất hiện ở vị trí ngẫu nhiên trên bản đồ (grid 5x5).\n",
        "- Các ô màu thể hiện vị trí mà khách hàng sẽ xuất hiện ngẫu nhiên. Taxi cần chạy đến ô có khách hàng để đón khách.\n",
        "- Các ô màu cũng thể hiện vị trí khách sạn (nơi trả khách) (có trường hợp địa điểm đón khách cũng là địa điểm trả khách), taxi cần chạy đến ô khách sạn trả khách.\n",
        ">\n",
        ">Episode sẽ kết thúc khi **taxi thực hiện hành động trả khách**.\n",
        "\n",
        "Nếu ảnh game khó hình dung grid, bạn có thể tham khảo hình dưới\n",
        "```\n",
        "R, G, Y, B là các điểm đón/trả khách\n",
        "Các ô rỗng là vị trí taxi có thể đi\n",
        "Kí tự | và : ám chỉ lane đường\n",
        "\n",
        "+---------+\n",
        "|R: | : :G|\n",
        "| : | : : |\n",
        "| : : : : |\n",
        "| | : | : |\n",
        "|Y| : |B: |\n",
        "+---------+\n",
        "```\n",
        "\n",
        "\n",
        "**Agent có thể làm 6 hành động**\n",
        "- `0` Đi xuống\n",
        "- `1` Đi lên\n",
        "- `2` Sang phải\n",
        "- `3` Sang trái\n",
        "- `4` Đón khách\n",
        "- `5` Trả khách\n",
        "\n",
        "**Reward**\n",
        "- `+20` trả khách thành công\n",
        "- `-10` đón hoặc trả khách sai địa điểm\n",
        "- `-1` nếu không thuộc 2 trường hợp trên (mỗi lần taxi di chuyển)\n"
      ],
      "metadata": {
        "id": "h_6YSwCj7T6i"
      }
    },
    {
      "cell_type": "markdown",
      "source": [
        "Cùng tìm hiểu hệ thống các `State` trong môi trường này nhé"
      ],
      "metadata": {
        "id": "sWeO3orC9aZL"
      }
    },
    {
      "cell_type": "code",
      "source": [
        "first_state = env.reset()\n",
        "plt.imshow(env.render())\n",
        "plt.show()\n",
        "print()\n",
        "print(f\"First state: {first_state}\")"
      ],
      "metadata": {
        "id": "CWj-HLxc9QjZ"
      },
      "execution_count": null,
      "outputs": []
    },
    {
      "cell_type": "code",
      "source": [
        "print(f\"Action Space: {env.action_space}\")\n",
        "print(f\"State Space: {env.observation_space}\")"
      ],
      "metadata": {
        "id": "nDkxTZtmKnmE"
      },
      "execution_count": null,
      "outputs": []
    },
    {
      "cell_type": "markdown",
      "source": [
        "Game có tổng cộng 500 state: 25 vị trí taxi, 5 vị trí của khách (có 1 vị trí là \"in taxi\") 4 vị trí khách sạn → `Q Table` là 1 ma trận có shape `(500, 6)` (500 state, 6 action)\n",
        "\n",
        "State đầu tiên (khi gọi `reset()` ) mà game trả về là 1 `tuple`. Bạn chỉ cần quan tâm con số đầu tiên trong `tuple` này thôi. Con số này là 1 số nguyên biểu diễn state hiện tại theo công thức sau\n",
        "```\n",
        "((taxi_row_location * 5 + taxi_col_location) * 5 + passenger_location) * 4 + destination\n",
        "```\n",
        "\n",
        "Trong đó, `passenger_location` và `destination` được đánh số như sau\n",
        "\n",
        "`passenger_locations`\n",
        "- `0` Red\n",
        "- `1` Green\n",
        "- `2` Yellow\n",
        "- `3` Blue\n",
        "- `4` In taxi\n",
        "\n",
        "`destinations`\n",
        "- `0` Red\n",
        "- `1` Green\n",
        "- `2` Yellow\n",
        "- `3` Blue\n",
        "\n",
        "Vì mỗi lần chạy sẽ khác nhau, bạn hãy tự kiểm tra lại công thức trên nhé. Ở lần chạy của giảng viên, state là `461` với ảnh render sau\n",
        "\n",
        "![](https://i.imgur.com/UWEw5um.png)\n",
        "\n",
        "Số `461` gồm:\n",
        "- `taxi_row_location = 4` (góc tọa độ `0, 0` ở trên bên trái)\n",
        "- `taxi_col_location = 3`\n",
        "- `passenger_location = 0` (ô màu đỏ)\n",
        "- `destination = 1` (ô màu xanh)\n",
        "\n",
        "```\n",
        "461 = ((taxi_row_location * 5 + taxi_col_location) * 5 + passenger_location) * 4 + destination\n",
        "```\n"
      ],
      "metadata": {
        "id": "jdu4jPVYBFVr"
      }
    },
    {
      "cell_type": "markdown",
      "source": [
        "Hàm `step(action)` của môi trường sẽ trả về lần lượt các thông tin sau\n",
        "- `next_state` số nguyên biểu diễn state tiếp theo\n",
        "- `reward`\n",
        "- `terminal` gameover hay không\n",
        "- `truncate` KHÔNG DÙNG. Game được cài đặt sẽ kết thúc sau 200 steps (tương tự  biến `max_steps` trong bài lab, phần bên dưới ta sẽ thực hành q-learning với `max_steps=99`)\n",
        "- `info` KHÔNG DÙNG\n"
      ],
      "metadata": {
        "id": "nuutM3kdpkq7"
      }
    },
    {
      "cell_type": "code",
      "source": [
        "# đối với first_state lấy ra từ env.reset()\n",
        "# thì first_state là tuple\n",
        "# số nguyên biểu diễn state là phần từ đầu tiên trong tuple\n",
        "first_state = env.reset()\n",
        "print(first_state[0])\n",
        "# to render\n",
        "# plt.imshow(env.render())\n",
        "# plt.show()\n",
        "\n",
        "# next_state khi gọi step là 1 số nguyên luôn chứ không phải tuple\n",
        "next_state, reward, terminal, _, _ = env.step(1)\n",
        "# to render\n",
        "# plt.imshow(env.render())\n",
        "# plt.show()\n",
        "print(next_state, reward, terminal)"
      ],
      "metadata": {
        "id": "PzaYifVhpkNW"
      },
      "execution_count": null,
      "outputs": []
    },
    {
      "cell_type": "markdown",
      "metadata": {
        "id": "UDh4yBRgmuwP"
      },
      "source": [
        "# Q-Learning\n",
        "\n"
      ]
    },
    {
      "cell_type": "markdown",
      "source": [
        "#### TODO 1\n",
        "\n",
        "Cho sẵn các thông số sau\n",
        "```python\n",
        "import numpy as np\n",
        "\n",
        "q_table = np.zeros(shape=(env.observation_space.n, env.action_space.n)) # 500, 6\n",
        "\n",
        "episodes = 10000  # số lượng episode cần huấn luyện\n",
        "learning_rate = 0.1  # learning rate\n",
        "max_steps = 99  # Số step tối đa để gameover\n",
        "gamma = 1  # discount factor\n",
        "\n",
        "# thông số của thuật toán epsilon greedy with decay\n",
        "# epsilon sau khi kết thúc episode = epsilon * epsilon_decay_rate\n",
        "initial_epsilon = 1.0  \n",
        "min_epsilon = 0.001\n",
        "epsilon_decay_rate = 0.9\n",
        "\n",
        "# Evaluation\n",
        "# Mỗi 1000 episode, bạn cho taxi chơi theo greedy-policy 50 lần và thống kê reward\n",
        "evaluate_at_episode = 1000\n",
        "num_eval = 50\n",
        "```\n",
        "Dùng **thuật toán Q-Learning** để giải bài toán này.\n",
        "\n",
        "Bạn có thể tham khảo gợi ý bên dưới, khuyến khích học viên làm theo để tự suy nghĩ xem nên thiết kế các hàm như thế nào. Khi viết hàm, bạn nên hạn chế gọi biến GLOBAL mà nên truyền các biến này vào làm tham số của hàm\n",
        "\n",
        "**Gợi ý**\n",
        "\n",
        "Để code đẹp, bạn nên viết các hàm hỗ trợ sau:\n",
        "- `follow_policy` dùng `argmax` trên `q_table` để đi theo policy tốt nhất\n",
        "- `epsilon_greedy` nếu các action có cùng `q_values`, bạn có thể dùng argmax cho đơn giản (gọi hàm `follow_policy` bên trên)\n",
        "- `update_q`\n",
        "- `decay_epsilon`\n",
        "- `train_one_episode` hàm để huấn luyện Agent 1 lần\n",
        "- `evaluate_agent` hàm để đánh giá Agent (xem thông số bên trên)\n",
        "\n",
        "Sau khi viết xong các hàm trên, training loop của bạn nhìn sẽ rất đẹp\n",
        "```python\n",
        "# dùng để render progress bar khi train\n",
        "from tqdm.notebook import tqdm\n",
        "...\n",
        "reward_history = []\n",
        "for i in tqdm(range(episode)):\n",
        "  average_reward = train_one_episode(...)\n",
        "  # có thể vẽ chart xem sự thay đổi của reward sau khi train\n",
        "  reward_history.append(average_reward)\n",
        "  current_epsilon = decay_epsilon(...)\n",
        "  # evaluate\n",
        "  if i == 0 or (i+1) % evaluate_at_episode == 0:\n",
        "    eval_average_reward, num_loss = evaluate_agent(...)\n",
        "    print(f\"Evaluate after episode {i}\")\n",
        "    print(f\"   - Average reward: {eval_average_reward}\")\n",
        "    print(f\"   - Loss          : {num_loss}/50\")\n",
        "```"
      ],
      "metadata": {
        "id": "TexR_ib_LXJe"
      }
    },
    {
      "cell_type": "code",
      "source": [
        "# YOUR SOLUTION\n"
      ],
      "metadata": {
        "id": "eZ6fKFJKQx1X"
      },
      "execution_count": null,
      "outputs": []
    },
    {
      "cell_type": "markdown",
      "source": [
        "## Xem Agent chơi sau khi Train"
      ],
      "metadata": {
        "id": "5bxFNegJGznw"
      }
    },
    {
      "cell_type": "code",
      "source": [
        "import cv2\n",
        "\n",
        "frames = []\n",
        "# chơi 10 episode và thu thập các frame ảnh\n",
        "for i in range(10):\n",
        "  state = env.reset()[0]\n",
        "  # lưu lại frame ảnh\n",
        "  # resize để giảm kích thước cho nhẹ\n",
        "  frame = env.render()\n",
        "  frame = env.render()\n",
        "  new_size = int(frame.shape[1] * 0.5), int(frame.shape[0] * 0.5)\n",
        "  frame = cv2.resize(frame, new_size)\n",
        "  frames.append(frame)\n",
        "  step = 0\n",
        "  while True:\n",
        "    action = np.argmax(q_table[state])\n",
        "    state, reward, terminal, _, _ = env.step(action)\n",
        "    frame = env.render()\n",
        "    new_size = int(frame.shape[1] * 0.5), int(frame.shape[0] * 0.5)\n",
        "    frame = cv2.resize(frame, new_size)\n",
        "    frames.append(frame)\n",
        "    step += 1\n",
        "    if terminal or step > 200:\n",
        "      break"
      ],
      "metadata": {
        "id": "Cke52oaVv_Z9"
      },
      "execution_count": null,
      "outputs": []
    },
    {
      "cell_type": "markdown",
      "source": [
        "Chạy cell bên dưới để tạo animation, bạn cần xóa animation này trước khi nộp bài"
      ],
      "metadata": {
        "id": "1Vg25-NOLea9"
      }
    },
    {
      "cell_type": "code",
      "source": [
        "import matplotlib.animation as anim\n",
        "from IPython.display import HTML\n",
        "import matplotlib.pyplot as plt\n",
        "\n",
        "limit_frames = frames[:100]\n",
        "plt.figure(figsize=(limit_frames[0].shape[1] / 18.0, limit_frames[0].shape[0] / 18.0), dpi = 72)\n",
        "patch = plt.imshow(limit_frames[0])\n",
        "plt.axis('off')\n",
        "animate = lambda i: patch.set_data(limit_frames[i])\n",
        "ani = anim.FuncAnimation(plt.gcf(), animate, frames=len(limit_frames), interval = 300)\n",
        "HTML(ani.to_jshtml())"
      ],
      "metadata": {
        "id": "asEfSvUXHdgr"
      },
      "execution_count": null,
      "outputs": []
    }
  ]
}