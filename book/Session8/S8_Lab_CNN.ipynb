{
  "cells": [
    {
      "cell_type": "markdown",
      "metadata": {
        "id": "dDEVIAQHcmz0"
      },
      "source": [
        "# Session 8: Convolutional Neural Network\n",
        "\n",
        "You need to read the theory lectures before practicing with this notebook:\n",
        "- [Preclass S4](https://hackmd.io/@KylePaul/ML_Preclass_S8)\n",
        "- [Slide](https://hackmd.io/@KylePaul/ML_Slide_S8)\n",
        "\n",
        "```{contents}\n",
        "\n",
        "```\n"
      ]
    },
    {
      "cell_type": "markdown",
      "metadata": {
        "id": "yxYLS3uDC1QH"
      },
      "source": [
        "- **Convolution**\n",
        "  - The Convolution Layer in Tensorflow is declared by\n",
        "    ```python\n",
        "    from tensorflow.keras.layers import Conv2D\n",
        "    ```\n",
        "  - As we learned in the lecture, the main components of 1 Convolution operation are:\n",
        "    - Number of filters (output how many feature maps)\n",
        "    - Filter size\n",
        "    - Stride\n",
        "    - Padding\n",
        "  - The above elements are represented in the code as follows:\n",
        "    ```python\n",
        "    Conv2D(\n",
        "      filters = ..., # number of filters\n",
        "      kernel_size = ..., # filter size\n",
        "      padding = 'same' or 'valid', # with padding or not, the number of padding is calculated automatically\n",
        "      strides = (..., ...) # Vertical and horizontal step of filters\n",
        "    )\n",
        "    ```\n",
        "- **Max Pooling**\n",
        "  - Max Pooling Layer is declared as follows\n",
        "    ```python\n",
        "    from tensorflow.keras.layers import MaxPool2D\n",
        "    ```\n",
        "  - Representation in code\n",
        "    ```python\n",
        "    # Layer MaxPool2D has following default values:\n",
        "    pool_size (similar to kernel_size) = 2\n",
        "    strides = 2\n",
        "    padding = 'valid'\n",
        "    # So when using, we just need to simply call as follows:\n",
        "    MaxPool2D()\n",
        "    ```"
      ]
    },
    {
      "cell_type": "markdown",
      "metadata": {
        "id": "hFNgxEQWJ63c"
      },
      "source": [
        "#### TODO 1\n",
        "\n",
        "Let's design a `Sequential` model consisting of 1 Convolution layer and 1 Max Pooling layer according to the following description:\n",
        "  - The input model is `100x100x3` images\n",
        "  - Convolution Layer:\n",
        "    - 32 Feature map\n",
        "    - Filter size is `5x5`\n",
        "    - The size of each feature map is equal to the input size\n",
        "  - Max Pooling Layer reduces feature map size by 1 half\n",
        "- After design, run the command `model.summary()`"
      ]
    },
    {
      "cell_type": "code",
      "execution_count": null,
      "metadata": {
        "colab": {
          "base_uri": "https://localhost:8080/"
        },
        "id": "n_lVWTks6LqP",
        "outputId": "ea442a7f-77ba-40e4-b883-35954ba4ca7d"
      },
      "outputs": [
        {
          "name": "stdout",
          "output_type": "stream",
          "text": [
            "Model: \"sequential_3\"\n",
            "_________________________________________________________________\n",
            " Layer (type)                Output Shape              Param #   \n",
            "=================================================================\n",
            " Conv2d_1 (Conv2D)           (None, 10, 10, 32)        2432      \n",
            "                                                                 \n",
            " max_pooling2d_1 (MaxPooling  (None, 5, 5, 32)         0         \n",
            " 2D)                                                             \n",
            "                                                                 \n",
            "=================================================================\n",
            "Total params: 2,432\n",
            "Trainable params: 2,432\n",
            "Non-trainable params: 0\n",
            "_________________________________________________________________\n"
          ]
        }
      ],
      "source": [
        "from tensorflow.keras.models import Sequential\n",
        "from tensorflow.keras.layers import Conv2D, MaxPool2D, Dense, Input, Flatten\n",
        "\n",
        "model = Sequential()\n",
        "model.add(Input(shape=(10, 10, 3)))\n",
        "model.add(Conv2D(32, 5, padding=\"same\", activation='relu', name='Conv2d_1'))\n",
        "model.add(MaxPool2D(name=\"max_pooling2d_1\"))\n",
        "model.summary()"
      ]
    },
    {
      "cell_type": "code",
      "execution_count": null,
      "metadata": {
        "colab": {
          "base_uri": "https://localhost:8080/"
        },
        "id": "9GoZHsIrw3BW",
        "outputId": "e96d77e2-63d6-4e4d-cf97-e2de6d1c45b0"
      },
      "outputs": [
        {
          "data": {
            "text/plain": [
              "2432"
            ]
          },
          "execution_count": 9,
          "metadata": {},
          "output_type": "execute_result"
        }
      ],
      "source": [
        "5*5*32*3 + 32"
      ]
    },
    {
      "cell_type": "code",
      "execution_count": null,
      "metadata": {
        "colab": {
          "base_uri": "https://localhost:8080/"
        },
        "id": "CAWa6c7Ay0hL",
        "outputId": "45e760cd-47b2-4bdd-b480-ac1d5bba0a16"
      },
      "outputs": [
        {
          "data": {
            "text/plain": [
              "48000000"
            ]
          },
          "execution_count": 13,
          "metadata": {},
          "output_type": "execute_result"
        }
      ],
      "source": [
        "2 * (5 * 5 * 100 * 100 * 3 * 32)"
      ]
    },
    {
      "cell_type": "markdown",
      "metadata": {
        "id": "SoH9WJaXuny2"
      },
      "source": [
        "#### TODO 2\n",
        "- Explain the number of `trainalbe params`\n",
        "- FLOPs ⟷ the number of operations (multiplication and addition) that occur in 1 forward pass, for simplicity, calculate the number of multiplications that occur in the above model\n",
        "- FLOPS ⟷ in 1 second, how many calculations our hardware is capable of. If we know this information, we can approximate the processing speed."
      ]
    },
    {
      "cell_type": "markdown",
      "metadata": {
        "id": "w8dab740zw0E"
      },
      "source": [
        "# MNist Fashion"
      ]
    },
    {
      "cell_type": "code",
      "execution_count": null,
      "metadata": {
        "id": "8bws-VLpxh2W"
      },
      "outputs": [],
      "source": [
        "import numpy as np\n",
        "import matplotlib.pyplot as plt\n",
        "import tensorflow as tf\n",
        "import os\n",
        "import random\n",
        "\n",
        "def reset_random_seeds(CUR_SEED=42):\n",
        "   os.environ['PYTHONHASHSEED']=str(CUR_SEED)\n",
        "   tf.random.set_seed(CUR_SEED)\n",
        "   np.random.seed(CUR_SEED)\n",
        "   random.seed(CUR_SEED)\n",
        "\n",
        "reset_random_seeds()"
      ]
    },
    {
      "cell_type": "code",
      "execution_count": null,
      "metadata": {
        "colab": {
          "base_uri": "https://localhost:8080/"
        },
        "id": "XQE_-d1bz0Oy",
        "outputId": "c7175f06-58f0-40ea-c3d8-934b7842789a"
      },
      "outputs": [
        {
          "name": "stdout",
          "output_type": "stream",
          "text": [
            "Shape of x_train: (60000, 28, 28)\n",
            "Shape of y_train: (60000,)\n",
            "----------\n",
            "Shape of x_test: (10000, 28, 28)\n",
            "Shape of y_test: (10000,)\n",
            "----------\n",
            "Labels: [0 1 2 3 4 5 6 7 8 9]\n"
          ]
        }
      ],
      "source": [
        "(x_train, y_train), (x_test, y_test) = tf.keras.datasets.fashion_mnist.load_data()\n",
        "print('Shape of x_train:',x_train.shape)\n",
        "print('Shape of y_train:',y_train.shape)\n",
        "print('-'*10)\n",
        "print('Shape of x_test:',x_test.shape)\n",
        "print('Shape of y_test:',y_test.shape)\n",
        "print('-'*10)\n",
        "print('Labels:',np.unique(y_train))"
      ]
    },
    {
      "cell_type": "code",
      "execution_count": null,
      "metadata": {
        "id": "UXsfWXrxz2Ix"
      },
      "outputs": [],
      "source": [
        "labels = ['T-shirt/top', 'Trouser', 'Pullover', 'Dress', 'Coat',\n",
        "               'Sandal', 'Shirt', 'Sneaker', 'Bag', 'Ankle boot']"
      ]
    },
    {
      "cell_type": "code",
      "execution_count": null,
      "metadata": {
        "colab": {
          "base_uri": "https://localhost:8080/",
          "height": 1000
        },
        "id": "pTxv8lhMz3cS",
        "outputId": "28512a0d-76ed-4b8f-fbb8-93fcb37faad4"
      },
      "outputs": [
        {
          "data": {
            "image/png": "[encoded data removed]",
            "text/plain": [
              "<Figure size 700x1500 with 50 Axes>"
            ]
          },
          "metadata": {},
          "output_type": "display_data"
        }
      ],
      "source": [
        "rows = 10\n",
        "cols = 5\n",
        "_, axs = plt.subplots(nrows=rows,ncols=cols, figsize=(7,15))\n",
        "for row in range(rows):\n",
        "  for col in range(cols):\n",
        "    random_index = np.random.choice(np.where(y_train == row)[0])\n",
        "    axs[row][col].grid('off')\n",
        "    axs[row][col].axis('off')\n",
        "    axs[row][col].imshow(x_train[random_index], cmap='gray')\n",
        "    axs[row][col].set_title(labels[y_train[random_index]])"
      ]
    },
    {
      "cell_type": "code",
      "execution_count": null,
      "metadata": {
        "id": "P9WwjuYyz5qm"
      },
      "outputs": [],
      "source": [
        "x_train = x_train / 255.0\n",
        "x_test = x_test / 255.0"
      ]
    },
    {
      "cell_type": "code",
      "execution_count": null,
      "metadata": {
        "id": "p0Uo0Rxpz7Bi"
      },
      "outputs": [],
      "source": [
        "y_train_encode = tf.keras.utils.to_categorical(y_train, num_classes=10)\n",
        "y_test_encode = tf.keras.utils.to_categorical(y_test, num_classes=10)"
      ]
    },
    {
      "cell_type": "markdown",
      "metadata": {
        "id": "_cyW9jF80AIl"
      },
      "source": [
        "#### TODO 3\n",
        "\n",
        "Build a CNN model with the following architecture, naming the variable `model_1`:\n",
        "- 3 blocks (1 layer Convolution, 1 layer BatchNorm, 1 activation relu, 1 layer Max Pooling)\n",
        "  - The first block produces 32 feature maps, the next blocks multiply the number of feature maps by 2\n",
        "  - Layer Convolution does not change input size\n",
        "  - Layer Convolution has a jump of 1\n",
        "  - The input size is reduced by 1 more after each Max Pooling\n",
        "- Flatten layer to transform feature map into vector\n",
        "- Layer Fully Connected + BatchNorm gives a vector of size of 128\n",
        "- Fully Connected layer to predict results\n"
      ]
    },
    {
      "cell_type": "code",
      "execution_count": null,
      "metadata": {
        "id": "I4olElwLz-rb"
      },
      "outputs": [],
      "source": [
        "from tensorflow.keras.models import Sequential\n",
        "from tensorflow.keras.layers import Dense, Flatten, BatchNormalization, Conv2D, Input, Activation, MaxPool2D\n",
        "\n",
        "tf.keras.backend.clear_session()\n",
        "reset_random_seeds()\n",
        "\n",
        "model_1 = Sequential()\n",
        "model_1.add(Input(shape=(29,28,1)))\n",
        "\n",
        "model_1.add(Conv2D(32, 3, padding=\"same\", use_bias=False))\n",
        "model_1.add(BatchNormalization())\n",
        "model_1.add(Activation('relu'))\n",
        "model_1.add(MaxPool2D())\n",
        "\n",
        "model_1.add(Conv2D(64, 3, padding=\"same\", use_bias=False))\n",
        "model_1.add(BatchNormalization())\n",
        "model_1.add(Activation('relu'))\n",
        "model_1.add(MaxPool2D())\n",
        "\n",
        "model_1.add(Conv2D(128, 3, padding=\"same\", use_bias=False))\n",
        "model_1.add(BatchNormalization())\n",
        "model_1.add(Activation('relu'))\n",
        "model_1.add(MaxPool2D())\n",
        "# model_1.add(Conv2D(128, 3, strides=(2), padding=\"same\", activation='relu'))\n",
        "\n",
        "model_1.add(Flatten())\n",
        "model_1.add(Dense(128, use_bias=False))\n",
        "model_1.add(BatchNormalization())\n",
        "model_1.add(Activation('relu'))\n",
        "model_1.add(Dense(10, activation='softmax'))"
      ]
    },
    {
      "cell_type": "code",
      "execution_count": null,
      "metadata": {
        "colab": {
          "base_uri": "https://localhost:8080/"
        },
        "id": "8kVNkIbP18So",
        "outputId": "ea1437ff-78b1-432d-c678-efb4c8df38ed"
      },
      "outputs": [
        {
          "name": "stdout",
          "output_type": "stream",
          "text": [
            "Model: \"sequential\"\n",
            "_________________________________________________________________\n",
            " Layer (type)                Output Shape              Param #   \n",
            "=================================================================\n",
            " conv2d (Conv2D)             (None, 29, 28, 32)        288       \n",
            "                                                                 \n",
            " batch_normalization (BatchN  (None, 29, 28, 32)       128       \n",
            " ormalization)                                                   \n",
            "                                                                 \n",
            " activation (Activation)     (None, 29, 28, 32)        0         \n",
            "                                                                 \n",
            " max_pooling2d (MaxPooling2D  (None, 14, 14, 32)       0         \n",
            " )                                                               \n",
            "                                                                 \n",
            " conv2d_1 (Conv2D)           (None, 14, 14, 64)        18432     \n",
            "                                                                 \n",
            " batch_normalization_1 (Batc  (None, 14, 14, 64)       256       \n",
            " hNormalization)                                                 \n",
            "                                                                 \n",
            " activation_1 (Activation)   (None, 14, 14, 64)        0         \n",
            "                                                                 \n",
            " max_pooling2d_1 (MaxPooling  (None, 7, 7, 64)         0         \n",
            " 2D)                                                             \n",
            "                                                                 \n",
            " conv2d_2 (Conv2D)           (None, 7, 7, 128)         73728     \n",
            "                                                                 \n",
            " batch_normalization_2 (Batc  (None, 7, 7, 128)        512       \n",
            " hNormalization)                                                 \n",
            "                                                                 \n",
            " activation_2 (Activation)   (None, 7, 7, 128)         0         \n",
            "                                                                 \n",
            " max_pooling2d_2 (MaxPooling  (None, 3, 3, 128)        0         \n",
            " 2D)                                                             \n",
            "                                                                 \n",
            " flatten (Flatten)           (None, 1152)              0         \n",
            "                                                                 \n",
            " dense (Dense)               (None, 128)               147456    \n",
            "                                                                 \n",
            " batch_normalization_3 (Batc  (None, 128)              512       \n",
            " hNormalization)                                                 \n",
            "                                                                 \n",
            " activation_3 (Activation)   (None, 128)               0         \n",
            "                                                                 \n",
            " dense_1 (Dense)             (None, 10)                1290      \n",
            "                                                                 \n",
            "=================================================================\n",
            "Total params: 242,602\n",
            "Trainable params: 241,898\n",
            "Non-trainable params: 704\n",
            "_________________________________________________________________\n"
          ]
        }
      ],
      "source": [
        "model_1.summary()"
      ]
    },
    {
      "cell_type": "code",
      "execution_count": null,
      "metadata": {
        "id": "4H9BQ0ic4J8D"
      },
      "outputs": [],
      "source": [
        "# Note that using dropout in fully-connected layers is 0.5 and in convolutional neural net it is 0.2\n",
        "# Very rare use of dropout with Batchnorm (should only be with L2 regularization)"
      ]
    },
    {
      "cell_type": "code",
      "execution_count": null,
      "metadata": {
        "id": "opW5FG4n3WYM"
      },
      "outputs": [],
      "source": [
        "model_1.compile(optimizer=\"adam\", loss=\"categorical_crossentropy\", metrics=\"accuracy\")\n",
        "model_1.fit(x_train, y_train_encode, batch_size=100, epochs=5, validation_data=(x_test, y_test_encode))"
      ]
    },
    {
      "cell_type": "markdown",
      "metadata": {
        "id": "19-dhzQhM7RA"
      },
      "source": [
        "# Tensorflow Keras Model API"
      ]
    },
    {
      "cell_type": "markdown",
      "metadata": {
        "id": "jG2jbjHsNGJx"
      },
      "source": [
        "Is another way to build a model. Unlike the `Sequential` API, when using the `Model` we must:\n",
        "- Must connect layers manually\n",
        "- Declare the first layer and the last layer\n",
        "\n",
        "Code example of `model_1` but using `Model API` instead of `Sequential`"
      ]
    },
    {
      "cell_type": "code",
      "execution_count": null,
      "metadata": {
        "id": "rwe6Z0KNVYQk"
      },
      "outputs": [],
      "source": [
        "tf.keras.backend.clear_session()\n",
        "reset_random_seeds()\n",
        "\n",
        "def ConvBatchNormRelu(input, filters, kernel_size, padding, kernel_initializer, activation):\n",
        "  conv = Conv2D(\n",
        "      filters=filters,\n",
        "      kernel_size=kernel_size,\n",
        "      padding=padding,\n",
        "      kernel_initializer=kernel_initializer,\n",
        "      use_bias=False)(input)\n",
        "  bn = BatchNormalization()(conv)\n",
        "  relu = Activation(activation)(bn)\n",
        "  return relu\n",
        "\n",
        "input_ = Input(shape=(28,28,1))\n",
        "conv_group_1 = ConvBatchNormRelu(input_, 32, 3, \"same\", \"he_normal\", \"relu\")\n",
        "max_pool_1 = MaxPool2D()(conv_group_1)\n",
        "\n",
        "conv_group_2 = ConvBatchNormRelu(max_pool_1, 64, 3, \"same\", \"he_normal\", \"relu\")\n",
        "max_pool_2 = MaxPool2D()(conv_group_2)\n",
        "\n",
        "conv_group_3 = ConvBatchNormRelu(max_pool_2, 128, 3, \"same\", \"he_normal\", \"relu\")\n",
        "max_pool_3 = MaxPool2D()(conv_group_3)\n",
        "\n",
        "flatten = Flatten()(max_pool_3)\n",
        "dense_1 = Dense(128, kernel_initializer=\"he_normal\", use_bias=False)(flatten)\n",
        "bn_1 = BatchNormalization()(dense_1)\n",
        "act_1 = Activation(\"relu\")(bn_1)\n",
        "output = Dense(10, activation=\"softmax\", kernel_initializer=\"glorot_normal\")(act_1)\n",
        "\n",
        "model = Model(input_, output)\n",
        "model.summary()"
      ]
    },
    {
      "cell_type": "code",
      "execution_count": null,
      "metadata": {
        "id": "zQWZatceXjX3"
      },
      "outputs": [],
      "source": [
        "tf.keras.backend.clear_session()\n",
        "reset_random_seeds()\n",
        "\n",
        "# Instead of naming each layer variables, you can write all variable names as X\n",
        "# Just separate the proper names for the input and ouput layers\n",
        "\n",
        "input_ = Input(shape=(28,28,1))\n",
        "\n",
        "x = ConvBatchNormRelu(input_, 32, 3, \"same\", \"he_normal\", \"relu\")\n",
        "x = MaxPool2D()(x)\n",
        "x = ConvBatchNormRelu(x, 64, 3, \"same\", \"he_normal\", \"relu\")\n",
        "x = MaxPool2D()(x)\n",
        "x = ConvBatchNormRelu(x, 128, 3, \"same\", \"he_normal\", \"relu\")\n",
        "x = MaxPool2D()(x)\n",
        "x = Flatten()(x)\n",
        "x = Dense(128, kernel_initializer=\"he_normal\", use_bias=False)(x)\n",
        "x = BatchNormalization()(x)\n",
        "x = Activation(\"relu\")(x)\n",
        "\n",
        "output = Dense(10, activation=\"softmax\", kernel_initializer=\"glorot_normal\")(x)\n",
        "\n",
        "model = Model(input_, output)\n",
        "\n",
        "model.summary()"
      ]
    },
    {
      "cell_type": "markdown",
      "metadata": {
        "id": "8EL1xMA4UUyr"
      },
      "source": [
        "#### TODO 4\n",
        "\n",
        "![](https://i.imgur.com/GiYuOXb.png)\n",
        "\n",
        "Build the CNN model below, naming the variable `model_2`:\n",
        "- Includes 2 blocks simulating the drawing above\n",
        "  - Use layer `add` for addition `add([layer1, layer2])`\n",
        "  - Block 1: 64 feature map (image above) + Convolution to halve the size and increase the number of features to 128\n",
        "  - Block 2: 128 feature map (similar to Block 1) + Flatten to transform input into vector\n",
        "- Layer Fully Connected + BatchNorm yields a vector with a size of 128\n",
        "- Addd fully-connected layer to predict results\n",
        "\n",
        "\n",
        "\n"
      ]
    },
    {
      "cell_type": "code",
      "execution_count": null,
      "metadata": {
        "id": "KbBx4M9oNBTn"
      },
      "outputs": [],
      "source": [
        "from tensorflow.keras.layers import add\n",
        "tf.keras.backend.clear_session()\n",
        "reset_random_seeds()\n",
        "\n",
        "input_ = Input(shape=(28,28,1))\n",
        "x = Conv2D(64, 3, activation=\"relu\", padding=\"same\", strides=2, kernel_initializer=\"he_normal\",)(input_)\n",
        "\n",
        "\n",
        "#Initialize the model and use the summary function to adjust the shape gradually\n",
        "model_2 = Model(input_, x)\n",
        "model_2.summary()"
      ]
    },
    {
      "cell_type": "markdown",
      "metadata": {
        "id": "WzZ8CjIFb_kN"
      },
      "source": [
        "![](https://i.imgur.com/8eHCZkO.png)"
      ]
    },
    {
      "cell_type": "code",
      "execution_count": null,
      "metadata": {
        "id": "y-X4fVcSbhdk"
      },
      "outputs": [],
      "source": [
        "from tensorflow.keras.utils import plot_model\n",
        "\n",
        "plot_model(model_2, show_shapes=True, show_layer_activations=True)"
      ]
    },
    {
      "cell_type": "markdown",
      "metadata": {
        "id": "qmTyouIKuLOL"
      },
      "source": [
        "# Separable Convolution"
      ]
    },
    {
      "cell_type": "markdown",
      "metadata": {
        "id": "R_80vTj_uJAj"
      },
      "source": [
        "![Image Source: https://www.thinkautonomous.ai/blog/deep-learning-optimization/](https://i.imgur.com/3wWKL8c.png)"
      ]
    },
    {
      "cell_type": "code",
      "execution_count": null,
      "metadata": {
        "id": "zMNTRhT_uNZb"
      },
      "outputs": [],
      "source": [
        "model = Sequential()\n",
        "model.add(Conv2D(512, 3, input_shape=(100,100,256)))\n",
        "model.summary()"
      ]
    },
    {
      "cell_type": "code",
      "execution_count": null,
      "metadata": {
        "id": "zjwAHyJMuOQs"
      },
      "outputs": [],
      "source": [
        "# Separable Convolutions\n",
        "from tensorflow.keras.layers import SeparableConv2D\n",
        "model = Sequential()\n",
        "model.add(SeparableConv2D(512, 3, input_shape=(100,100,256)))\n",
        "\n",
        "model.summary()"
      ]
    },
    {
      "cell_type": "markdown",
      "metadata": {
        "id": "i4BCtDTPxKil"
      },
      "source": [
        "## Vgnet architecture"
      ]
    },
    {
      "cell_type": "code",
      "execution_count": null,
      "metadata": {
        "id": "xZ_xBBgUxNa_"
      },
      "outputs": [],
      "source": [
        "import tensorflow as tf\n",
        "from tensorflow.keras import layers, models\n",
        "\n",
        "# build a augmentation pipeline with tensorflow\n",
        "augmentation = tf.keras.Sequential([\n",
        "  layers.experimental.preprocessing.RandomFlip(\"horizontal_and_vertical\"),\n",
        "  layers.experimental.preprocessing.RandomRotation(0.2),\n",
        "  layers.experimental.preprocessing.RandomZoom(0.2),\n",
        "])\n",
        "\n",
        "# Build a CNN network (must have rescaling)\n",
        "# Use mulitple blocks of Convolutiion - Batch Normalization - Relu activation function\n",
        "# follow the VGG-16 architecture\n",
        "# Use SeparableConv2D instead of Conv2D and GlobalAveragePooling2D instead of Flatten to reduce parameters must be trained.\n",
        "\n",
        "cnn = models.Sequential([\n",
        "  layers.experimental.preprocessing.Rescaling(1./255, input_shape=(500, 500, 3)),\n",
        "  layers.SeparableConv2D(64, (3, 3), padding='same', activation='relu'),\n",
        "  layers.BatchNormalization(),\n",
        "  layers.SeparableConv2D(64, (3, 3), padding='same', activation='relu'),\n",
        "  layers.BatchNormalization(),\n",
        "  layers.MaxPooling2D((2, 2)),\n",
        "  layers.SeparableConv2D(128, (3, 3), padding='same', activation='relu'),\n",
        "  layers.BatchNormalization(),\n",
        "  layers.SeparableConv2D(128, (3, 3), padding='same', activation='relu'),\n",
        "  layers.BatchNormalization(),\n",
        "  layers.MaxPooling2D((2, 2)),\n",
        "  layers.SeparableConv2D(256, (3, 3), padding='same', activation='relu'),\n",
        "  layers.BatchNormalization(),\n",
        "  layers.SeparableConv2D(256, (3, 3), padding='same', activation='relu'),\n",
        "  layers.BatchNormalization(),\n",
        "  layers.SeparableConv2D(256, (3, 3), padding='same', activation='relu'),\n",
        "  layers.BatchNormalization(),\n",
        "  layers.MaxPooling2D((2, 2)),\n",
        "  layers.SeparableConv2D(512, (3, 3), padding='same', activation='relu'),\n",
        "  layers.BatchNormalization(),\n",
        "  layers.SeparableConv2D(512, (3, 3), padding='same', activation='relu'),\n",
        "  layers.BatchNormalization(),\n",
        "  layers.SeparableConv2D(512, (3, 3), padding='same', activation='relu'),\n",
        "  layers.BatchNormalization(),\n",
        "  layers.MaxPooling2D((2, 2)),\n",
        "  layers.SeparableConv2D(512, (3, 3), padding='same', activation='relu'),\n",
        "  layers.BatchNormalization(),\n",
        "  layers.SeparableConv2D(512, (3, 3), padding='same', activation='relu'),\n",
        "  layers.BatchNormalization(),\n",
        "  layers.SeparableConv2D(512, (3, 3), padding='same', activation='relu'),\n",
        "  layers.BatchNormalization(),\n",
        "  layers.MaxPooling2D((2, 2)),\n",
        "\n",
        "])\n",
        "\n",
        "# Connect Augmentation Pipeline and CNN using another Sequential\n",
        "model = models.Sequential([\n",
        "    augmentation,\n",
        "    cnn,\n",
        "    # Use GlobalAveragePooling2D instead of Flatten to reduce parameters must be trained.\n",
        "    # Add a final Dense layer with softmax activation for classification\n",
        "    # Assume there are two classes in the labels\n",
        "    layers.GlobalAveragePooling2D(),\n",
        "    layers.Dense(2, activation=\"softmax\")\n",
        "])\n",
        "\n",
        "# Then train the model (with tensorflow) and predict on test_image set\n",
        "# Choose small batchsize to avoid out of memory\n",
        "\n",
        "model.compile(optimizer=\"adam\", loss=\"sparse_categorical_crossentropy\", metrics=[\"accuracy\"])\n",
        "\n",
        "model.fit(train_image, train_label, batch_size=8, epochs=10)\n",
        "\n",
        "predictions = model.predict(test_image)"
      ]
    }
  ],
  "metadata": {
    "colab": {
      "gpuType": "T4",
      "provenance": []
    },
    "kernelspec": {
      "display_name": "Python 3",
      "name": "python3"
    },
    "language_info": {
      "name": "python"
    }
  },
  "nbformat": 4,
  "nbformat_minor": 0
}
