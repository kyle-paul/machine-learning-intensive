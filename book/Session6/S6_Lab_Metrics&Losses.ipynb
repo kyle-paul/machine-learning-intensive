{
  "cells": [
    {
      "cell_type": "markdown",
      "metadata": {
        "id": "X3IdvQEjX_g3"
      },
      "source": [
        "# Session 6: Metrics & Losses\n",
        "\n",
        "You need to read the theory lectures before practicing with this notebook:\n",
        "- [Preclass S6](https://hackmd.io/@KylePaul/ML_Preclass_S6)\n",
        "- [Slide](https://hackmd.io/@KylePaul/ML_Slide_S6)\n",
        "\n",
        "```{contents}\n",
        "\n",
        "```"
      ]
    },
    {
      "cell_type": "code",
      "execution_count": 1,
      "metadata": {
        "colab": {
          "base_uri": "https://localhost:8080/"
        },
        "id": "xrR2mkyn95Zq",
        "outputId": "eaf8462c-ac80-409a-d0e0-a845b39831c8"
      },
      "outputs": [
        {
          "name": "stdout",
          "output_type": "stream",
          "text": [
            "Mounted at /content/drive\n"
          ]
        }
      ],
      "source": [
        "from google.colab import drive\n",
        "drive.mount('/content/drive')"
      ]
    },
    {
      "cell_type": "code",
      "execution_count": null,
      "metadata": {
        "colab": {
          "base_uri": "https://localhost:8080/"
        },
        "id": "IpaF1Z5U2rwg",
        "outputId": "d8f2a111-bac0-4aa1-ec2e-57280710ba3e"
      },
      "outputs": [],
      "source": [
        "!unzip \"/content/drive/MyDrive/Colab Notebooks/ML-intensive/data/fashion_data.zip\" -d \"/content\""
      ]
    },
    {
      "cell_type": "markdown",
      "metadata": {
        "id": "RsKNv3tpsPIJ"
      },
      "source": [
        "## Custom `DataLoader`"
      ]
    },
    {
      "cell_type": "code",
      "execution_count": 15,
      "metadata": {
        "colab": {
          "base_uri": "https://localhost:8080/",
          "height": 91
        },
        "id": "YlqRS8gh4MkO",
        "outputId": "7c5e6234-ae05-4cbc-d350-edca29c418c6"
      },
      "outputs": [
        {
          "name": "stdout",
          "output_type": "stream",
          "text": [
            "(28, 28)\n"
          ]
        },
        {
          "data": {
            "image/png": "[encoded data removed]",
            "text/plain": [
              "<PIL.Image.Image image mode=L size=56x56 at 0x7F27B91DAB30>"
            ]
          },
          "execution_count": 15,
          "metadata": {},
          "output_type": "execute_result"
        }
      ],
      "source": [
        "from PIL import Image\n",
        "import os\n",
        "import numpy as np\n",
        "\n",
        "image = Image.open(\"/content/data/train/2/1001.png\")\n",
        "print(image.size)\n",
        "image = image.resize((image.width*2, image.height*2))\n",
        "image"
      ]
    },
    {
      "cell_type": "markdown",
      "metadata": {
        "id": "LKBLDH0z-NxE"
      },
      "source": [
        "### Create Path"
      ]
    },
    {
      "cell_type": "markdown",
      "metadata": {
        "id": "xwo4qoFP-UpG"
      },
      "source": [
        "#### Breakdown of code"
      ]
    },
    {
      "cell_type": "code",
      "execution_count": 22,
      "metadata": {
        "colab": {
          "base_uri": "https://localhost:8080/"
        },
        "id": "NspyhoCJ6QqJ",
        "outputId": "97639be2-e08e-47e2-d6d9-529f2fe5cfbb"
      },
      "outputs": [
        {
          "data": {
            "text/plain": [
              "['2', '8', '1', '7', '5', '0', '4', '3', '9', '6']"
            ]
          },
          "execution_count": 22,
          "metadata": {},
          "output_type": "execute_result"
        }
      ],
      "source": [
        "# View subfolders in train folder\n",
        "dir = '/content/data/train'\n",
        "folders = os.listdir(dir)\n",
        "folders"
      ]
    },
    {
      "cell_type": "code",
      "execution_count": 24,
      "metadata": {
        "colab": {
          "base_uri": "https://localhost:8080/"
        },
        "id": "HCNdOZP36nOr",
        "outputId": "0559c4bf-4b82-444d-a662-fbcbdb382f33"
      },
      "outputs": [
        {
          "data": {
            "text/plain": [
              "['3841.png',\n",
              " '7745.png',\n",
              " '793.png',\n",
              " '24082.png',\n",
              " '16689.png',\n",
              " '34190.png',\n",
              " '55052.png',\n",
              " '45270.png',\n",
              " '51924.png',\n",
              " '52590.png']"
            ]
          },
          "execution_count": 24,
          "metadata": {},
          "output_type": "execute_result"
        }
      ],
      "source": [
        "# access to folders and image names\n",
        "folder_path = os.path.join(dir, folders[0])\n",
        "image_names = os.listdir(folder_path)\n",
        "image_names[:10]"
      ]
    },
    {
      "cell_type": "code",
      "execution_count": 30,
      "metadata": {
        "colab": {
          "base_uri": "https://localhost:8080/"
        },
        "id": "lEuj4idv7bue",
        "outputId": "cc8d69bf-3783-498d-9751-96d95ef91bf4"
      },
      "outputs": [
        {
          "data": {
            "text/plain": [
              "['/content/data/train/2/3841.png',\n",
              " '/content/data/train/2/7745.png',\n",
              " '/content/data/train/2/793.png',\n",
              " '/content/data/train/2/24082.png',\n",
              " '/content/data/train/2/16689.png',\n",
              " '/content/data/train/2/34190.png',\n",
              " '/content/data/train/2/55052.png',\n",
              " '/content/data/train/2/45270.png',\n",
              " '/content/data/train/2/51924.png',\n",
              " '/content/data/train/2/52590.png']"
            ]
          },
          "execution_count": 30,
          "metadata": {},
          "output_type": "execute_result"
        }
      ],
      "source": [
        "# connect the folder path with the image name using loop\n",
        "image_paths = []\n",
        "temp = []\n",
        "for image_name in image_names:\n",
        "  temp.append(os.path.join(folder_path, image_name))\n",
        "image_paths.extend(temp)\n",
        "image_paths[:10]"
      ]
    },
    {
      "cell_type": "code",
      "execution_count": 31,
      "metadata": {
        "colab": {
          "base_uri": "https://localhost:8080/"
        },
        "id": "2B16ll8_8oEO",
        "outputId": "fd3eb00b-555f-43b0-8d7e-b560919ecddb"
      },
      "outputs": [
        {
          "data": {
            "text/plain": [
              "['/content/data/train/2/3841.png',\n",
              " '/content/data/train/2/7745.png',\n",
              " '/content/data/train/2/793.png',\n",
              " '/content/data/train/2/24082.png',\n",
              " '/content/data/train/2/16689.png',\n",
              " '/content/data/train/2/34190.png',\n",
              " '/content/data/train/2/55052.png',\n",
              " '/content/data/train/2/45270.png',\n",
              " '/content/data/train/2/51924.png',\n",
              " '/content/data/train/2/52590.png']"
            ]
          },
          "execution_count": 31,
          "metadata": {},
          "output_type": "execute_result"
        }
      ],
      "source": [
        "# connect the folder path with the image using list comprehension\n",
        "image_paths.extend([os.path.join(folder_path, image_name) for image_name in image_names])\n",
        "image_paths[:10]"
      ]
    },
    {
      "cell_type": "code",
      "execution_count": 33,
      "metadata": {
        "colab": {
          "base_uri": "https://localhost:8080/"
        },
        "id": "8LNVQjmp9UHP",
        "outputId": "c7c0ee18-e938-418f-b9a3-aa6154267125"
      },
      "outputs": [
        {
          "data": {
            "text/plain": [
              "[2, 2, 2, 2, 2, 2, 2, 2, 2, 2]"
            ]
          },
          "execution_count": 33,
          "metadata": {},
          "output_type": "execute_result"
        }
      ],
      "source": [
        "labels = []\n",
        "# string type -> int type\n",
        "list_label = [int(folders[0])] * len(image_names)\n",
        "labels.extend(list_label)  # extend: add a list to another list\n",
        "labels[:10]"
      ]
    },
    {
      "cell_type": "markdown",
      "metadata": {
        "id": "aCx-cKaH-deP"
      },
      "source": [
        "#### Collect into 1 cell code"
      ]
    },
    {
      "cell_type": "code",
      "execution_count": 38,
      "metadata": {
        "id": "ucpmivco6Hvt"
      },
      "outputs": [],
      "source": [
        "dir = '/content/data/train'\n",
        "image_paths = []\n",
        "labels = []\n",
        "for folder in os.listdir(dir):\n",
        "  folder_path = os.path.join(dir, folder)\n",
        "  image_names = os.listdir(folder_path)\n",
        "  image_paths.extend([os.path.join(folder_path, image_name) for image_name in image_names])\n",
        "  labels.extend([int(folder)] * len(image_names))"
      ]
    },
    {
      "cell_type": "markdown",
      "metadata": {
        "id": "bxk5Gc8p-gws"
      },
      "source": [
        "#### View the result"
      ]
    },
    {
      "cell_type": "code",
      "execution_count": 45,
      "metadata": {
        "colab": {
          "base_uri": "https://localhost:8080/"
        },
        "id": "J3CQurHv-IfL",
        "outputId": "eda3febf-b8cc-431c-ec0b-cee2d2bffd3e"
      },
      "outputs": [
        {
          "data": {
            "text/plain": [
              "['/content/data/train/8/9187.png',\n",
              " '/content/data/train/8/53578.png',\n",
              " '/content/data/train/8/8960.png',\n",
              " '/content/data/train/8/26191.png',\n",
              " '/content/data/train/8/49778.png',\n",
              " '/content/data/train/8/49695.png',\n",
              " '/content/data/train/8/41676.png',\n",
              " '/content/data/train/8/51462.png',\n",
              " '/content/data/train/8/22633.png',\n",
              " '/content/data/train/8/27530.png']"
            ]
          },
          "execution_count": 45,
          "metadata": {},
          "output_type": "execute_result"
        }
      ],
      "source": [
        "image_paths[6000:6010]"
      ]
    },
    {
      "cell_type": "code",
      "execution_count": 46,
      "metadata": {
        "colab": {
          "base_uri": "https://localhost:8080/"
        },
        "id": "CbYOFmIF-jNe",
        "outputId": "def4af2b-2388-4930-b170-344a05d84a49"
      },
      "outputs": [
        {
          "data": {
            "text/plain": [
              "[8, 8, 8, 8, 8, 8, 8, 8, 8, 8]"
            ]
          },
          "execution_count": 46,
          "metadata": {},
          "output_type": "execute_result"
        }
      ],
      "source": [
        "labels[6000:6010]"
      ]
    },
    {
      "cell_type": "markdown",
      "metadata": {
        "id": "vffv8XRh_GAH"
      },
      "source": [
        "### Main class for data logger"
      ]
    },
    {
      "cell_type": "markdown",
      "metadata": {
        "id": "5eUz2uflARh5"
      },
      "source": [
        "Let's see the overal structure of our class\n",
        "\n",
        "Note: method with format `__method__` is required, with `_method` means you only should use inside the class and `method` means you can call it from the outside"
      ]
    },
    {
      "cell_type": "code",
      "execution_count": null,
      "metadata": {
        "id": "ZHbUOFKQ_n_x"
      },
      "outputs": [],
      "source": [
        "import tensorflow as tf\n",
        "class FashionDataset(tf.keras.utils.Sequence):\n",
        "  # three methods __init__, __getiteem__, __len__ should be implemented\n",
        "  def __init__(self, root_dir, batch_size=32):\n",
        "    pass\n",
        "  def _get_all_paths_and_labels(self, dir):\n",
        "    pass\n",
        "  def on_epoch_end(self):\n",
        "    pass\n",
        "  def __getitem__(self):\n",
        "    pass\n",
        "  def get_input_path(self, start, end):\n",
        "    pass\n",
        "  def get_output_batch(self, start, end):\n",
        "    pass\n",
        "  def __len__(self):\n",
        "    pass"
      ]
    },
    {
      "cell_type": "code",
      "execution_count": 59,
      "metadata": {
        "id": "Sh5trVxHA28H"
      },
      "outputs": [],
      "source": [
        "import tensorflow as tf\n",
        "class FashionDataset(tf.keras.utils.Sequence):\n",
        "  # three methods __init__, __getiteem__, __len__ should be implemented\n",
        "  def __init__(self, root_dir, batch_size=32):\n",
        "    self.image_paths, self.labels, self.num_classes = self._get_all_paths_and_labels(root_dir)\n",
        "    self.batch_size = batch_size\n",
        "    self.num_samples = len(self.labels)\n",
        "    self.length = self.num_samples // self.batch_size  # training step\n",
        "\n",
        "  def _get_all_paths_and_labels(self, dir):\n",
        "    image_paths = []\n",
        "    labels = []\n",
        "    num_classes = len(os.listdir(dir))\n",
        "    for folder in os.listdir(dir):\n",
        "      folder_path = os.path.join(dir, folder)\n",
        "      image_names = os.listdir(folder_path)\n",
        "      image_paths.extend([os.path.join(folder_path, image_name) for image_name in image_names])\n",
        "      labels.extend([int(folder)] * len(image_names))\n",
        "    image_paths = np.array(image_paths)\n",
        "    labels = np.array(labels)\n",
        "    return image_paths, labels, num_classes\n",
        "\n",
        "  def on_epoch_end(self):\n",
        "    pass\n",
        "\n",
        "  def __getitem__(self, index):\n",
        "    start_index = index * self.batch_size\n",
        "    end_index = start_index + self.batch_size\n",
        "    inputs = self._get_input_batch(start_index, end_index)\n",
        "    outputs = self._get_output_batch(start_index, end_index)\n",
        "    return inputs, outputs\n",
        "\n",
        "  def _get_input_batch(self, start, end):\n",
        "    inputs = []\n",
        "    for path in self.image_paths[start:end]:\n",
        "      pil_image = Image.open(path)\n",
        "      image = np.array(pil_image)\n",
        "      image = image.flatten()\n",
        "      inputs.append(image)\n",
        "    inputs = np.array(inputs)\n",
        "    inputs = inputs / 255.0  # normalize\n",
        "    return inputs\n",
        "\n",
        "  def _get_output_batch(self, start, end):\n",
        "    outputs = self.labels[start:end]\n",
        "    outputs = tf.keras.utils.to_categorical(outputs, self.num_classes) # one-hot-encoding\n",
        "    return outputs\n",
        "\n",
        "  def __len__(self):\n",
        "    return self.length"
      ]
    },
    {
      "cell_type": "code",
      "execution_count": 60,
      "metadata": {
        "colab": {
          "base_uri": "https://localhost:8080/"
        },
        "id": "LWpsTk7BB5a8",
        "outputId": "b1a319f7-51eb-4f9f-8acd-39b879667842"
      },
      "outputs": [
        {
          "name": "stdout",
          "output_type": "stream",
          "text": [
            "(32, 784)\n",
            "(32, 10)\n"
          ]
        }
      ],
      "source": [
        "train_dataset = FashionDataset(\"/content/data/train\", batch_size=32)\n",
        "x, y = train_dataset[0]\n",
        "print(x.shape)\n",
        "print(y.shape)"
      ]
    },
    {
      "cell_type": "markdown",
      "metadata": {
        "id": "XkcXtq3pFSX6"
      },
      "source": [
        "Now you can either use the available training loop with this mlp architecture or you can customize the training loop by youself"
      ]
    },
    {
      "cell_type": "code",
      "execution_count": 61,
      "metadata": {
        "colab": {
          "base_uri": "https://localhost:8080/"
        },
        "id": "7q7Nb4KGF4OX",
        "outputId": "9f615611-9afe-44fd-a6be-239ded1207e4"
      },
      "outputs": [
        {
          "name": "stdout",
          "output_type": "stream",
          "text": [
            "Model: \"sequential\"\n",
            "_________________________________________________________________\n",
            " Layer (type)                Output Shape              Param #   \n",
            "=================================================================\n",
            " layer_1 (Dense)             (None, 32)                25120     \n",
            "                                                                 \n",
            " layer_2 (Dense)             (None, 64)                2112      \n",
            "                                                                 \n",
            " layer_3 (Dense)             (None, 128)               8320      \n",
            "                                                                 \n",
            " layer_4 (Dense)             (None, 64)                8256      \n",
            "                                                                 \n",
            " layer_5 (Dense)             (None, 32)                2080      \n",
            "                                                                 \n",
            " output_layer (Dense)        (None, 10)                330       \n",
            "                                                                 \n",
            "=================================================================\n",
            "Total params: 46,218\n",
            "Trainable params: 46,218\n",
            "Non-trainable params: 0\n",
            "_________________________________________________________________\n"
          ]
        }
      ],
      "source": [
        "from tensorflow.keras.models import Sequential\n",
        "from tensorflow.keras.layers import Input, Dense, Flatten, Activation\n",
        "from tensorflow.random import set_seed\n",
        "from tensorflow.keras.backend import clear_session\n",
        "\n",
        "clear_session()\n",
        "set_seed(42)\n",
        "np.random.seed(42)\n",
        "\n",
        "# YOUR CODE HERE\n",
        "model = Sequential()\n",
        "# input layer\n",
        "model.add(Input(shape=(x.shape[1:])))\n",
        "# mlp\n",
        "model.add(Dense(32, activation='relu', name='layer_1'))\n",
        "model.add(Dense(64, activation='relu', name='layer_2'))\n",
        "model.add(Dense(128, activation='relu', name='layer_3'))\n",
        "model.add(Dense(64, activation='relu', name='layer_4'))\n",
        "model.add(Dense(32, activation='relu', name='layer_5'))\n",
        "model.add(Dense(10, activation='softmax', name='output_layer'))\n",
        "model.summary()"
      ]
    },
    {
      "cell_type": "code",
      "execution_count": 64,
      "metadata": {
        "colab": {
          "base_uri": "https://localhost:8080/"
        },
        "id": "5-c4MVIaGLye",
        "outputId": "c97a8962-b416-4463-87ca-390eab4d0fba"
      },
      "outputs": [
        {
          "name": "stdout",
          "output_type": "stream",
          "text": [
            "Epoch 1/5\n",
            "1875/1875 [==============================] - 22s 10ms/step - loss: 0.4907 - accuracy: 0.8140\n",
            "Epoch 2/5\n",
            "1875/1875 [==============================] - 18s 9ms/step - loss: 0.4389 - accuracy: 0.8345\n",
            "Epoch 3/5\n",
            "1875/1875 [==============================] - 18s 9ms/step - loss: 0.4127 - accuracy: 0.8445\n",
            "Epoch 4/5\n",
            "1875/1875 [==============================] - 18s 9ms/step - loss: 0.3901 - accuracy: 0.8519\n",
            "Epoch 5/5\n",
            "1875/1875 [==============================] - 18s 10ms/step - loss: 0.3854 - accuracy: 0.8551\n"
          ]
        }
      ],
      "source": [
        "model.compile(optimizer='adam', loss='categorical_crossentropy', metrics=['accuracy'])\n",
        "history = model.fit(train_dataset, epochs=5)"
      ]
    },
    {
      "cell_type": "code",
      "execution_count": 65,
      "metadata": {
        "colab": {
          "base_uri": "https://localhost:8080/",
          "height": 355
        },
        "id": "Y7SfUvn4HCrH",
        "outputId": "e0d599f4-a6d2-43e3-9769-729326c17369"
      },
      "outputs": [
        {
          "data": {
            "image/png": "[encoded data removed]",
            "text/plain": [
              "<Figure size 1200x400 with 2 Axes>"
            ]
          },
          "metadata": {},
          "output_type": "display_data"
        }
      ],
      "source": [
        "import matplotlib.pyplot as plt\n",
        "\n",
        "plt.figure(figsize=(12,4))\n",
        "plt.subplot(1,2,1)\n",
        "plt.title('Loss')\n",
        "plt.plot(history.history['loss'])\n",
        "\n",
        "plt.subplot(1,2,2)\n",
        "plt.title('Accuracy')\n",
        "plt.plot(history.history['accuracy'])\n",
        "plt.show()"
      ]
    },
    {
      "cell_type": "markdown",
      "metadata": {
        "id": "l7v0GNoETBWD"
      },
      "source": [
        "## Custom Training Loops"
      ]
    },
    {
      "cell_type": "code",
      "execution_count": 68,
      "metadata": {
        "colab": {
          "base_uri": "https://localhost:8080/"
        },
        "id": "SoZU4DBrHQQl",
        "outputId": "84247794-abc9-4d8b-91b7-4fad0e6c4016"
      },
      "outputs": [
        {
          "name": "stderr",
          "output_type": "stream",
          "text": [
            "\r  0%|          | 0/10 [00:00<?, ?it/s]"
          ]
        },
        {
          "name": "stdout",
          "output_type": "stream",
          "text": [
            "Epoch 0:\n"
          ]
        },
        {
          "name": "stderr",
          "output_type": "stream",
          "text": [
            "\r 10%|█         | 1/10 [00:38<05:47, 38.63s/it]"
          ]
        },
        {
          "name": "stdout",
          "output_type": "stream",
          "text": [
            "    Avg loss: 0.6363075375556946\n",
            "    Avg accuracy: 0.9368966817855835\n",
            "Epoch 1:\n"
          ]
        },
        {
          "name": "stderr",
          "output_type": "stream",
          "text": [
            "\r 20%|██        | 2/10 [01:16<05:07, 38.43s/it]"
          ]
        },
        {
          "name": "stdout",
          "output_type": "stream",
          "text": [
            "    Avg loss: 0.5718590021133423\n",
            "    Avg accuracy: 0.9366992115974426\n",
            "Epoch 2:\n"
          ]
        },
        {
          "name": "stderr",
          "output_type": "stream",
          "text": [
            "\r 30%|███       | 3/10 [01:54<04:24, 37.83s/it]"
          ]
        },
        {
          "name": "stdout",
          "output_type": "stream",
          "text": [
            "    Avg loss: 0.3835413157939911\n",
            "    Avg accuracy: 0.9407686591148376\n",
            "Epoch 3:\n"
          ]
        },
        {
          "name": "stderr",
          "output_type": "stream",
          "text": [
            "\r 40%|████      | 4/10 [02:33<03:50, 38.35s/it]"
          ]
        },
        {
          "name": "stdout",
          "output_type": "stream",
          "text": [
            "    Avg loss: 0.3060646951198578\n",
            "    Avg accuracy: 0.9453691840171814\n",
            "Epoch 4:\n"
          ]
        },
        {
          "name": "stderr",
          "output_type": "stream",
          "text": [
            "\r 50%|█████     | 5/10 [03:11<03:11, 38.28s/it]"
          ]
        },
        {
          "name": "stdout",
          "output_type": "stream",
          "text": [
            "    Avg loss: 0.30652278661727905\n",
            "    Avg accuracy: 0.948620080947876\n",
            "Epoch 5:\n"
          ]
        },
        {
          "name": "stderr",
          "output_type": "stream",
          "text": [
            "\r 60%|██████    | 6/10 [03:49<02:32, 38.24s/it]"
          ]
        },
        {
          "name": "stdout",
          "output_type": "stream",
          "text": [
            "    Avg loss: 0.3172031342983246\n",
            "    Avg accuracy: 0.9508426785469055\n",
            "Epoch 6:\n"
          ]
        },
        {
          "name": "stderr",
          "output_type": "stream",
          "text": [
            "\r 70%|███████   | 7/10 [04:28<01:55, 38.42s/it]"
          ]
        },
        {
          "name": "stdout",
          "output_type": "stream",
          "text": [
            "    Avg loss: 0.3223407566547394\n",
            "    Avg accuracy: 0.9524418711662292\n",
            "Epoch 7:\n"
          ]
        },
        {
          "name": "stderr",
          "output_type": "stream",
          "text": [
            "\r 80%|████████  | 8/10 [05:07<01:17, 38.57s/it]"
          ]
        },
        {
          "name": "stdout",
          "output_type": "stream",
          "text": [
            "    Avg loss: 0.3202023506164551\n",
            "    Avg accuracy: 0.9536822438240051\n",
            "Epoch 8:\n"
          ]
        },
        {
          "name": "stderr",
          "output_type": "stream",
          "text": [
            "\r 90%|█████████ | 9/10 [05:45<00:38, 38.36s/it]"
          ]
        },
        {
          "name": "stdout",
          "output_type": "stream",
          "text": [
            "    Avg loss: 0.3167265057563782\n",
            "    Avg accuracy: 0.9547190070152283\n",
            "Epoch 9:\n"
          ]
        },
        {
          "name": "stderr",
          "output_type": "stream",
          "text": [
            "100%|██████████| 10/10 [06:23<00:00, 38.36s/it]"
          ]
        },
        {
          "name": "stdout",
          "output_type": "stream",
          "text": [
            "    Avg loss: 0.3130231201648712\n",
            "    Avg accuracy: 0.9556078314781189\n"
          ]
        },
        {
          "name": "stderr",
          "output_type": "stream",
          "text": [
            "\n"
          ]
        }
      ],
      "source": [
        "from tqdm import tqdm # for progress bar\n",
        "\n",
        "# Create a Sequential model\n",
        "model = tf.keras.models.Sequential()\n",
        "model.add(tf.keras.layers.Dense(10, activation='softmax'))\n",
        "\n",
        "# set the hyperparameters\n",
        "epochs = 10\n",
        "loss_func = tf.keras.losses.CategoricalCrossentropy()\n",
        "optimizer = tf.keras.optimizers.Adam()\n",
        "\n",
        "# for calculating the mean\n",
        "mean_loss = tf.keras.metrics.Mean()\n",
        "mean_accuracy = tf.keras.metrics.Mean()\n",
        "accuracy = tf.keras.metrics.CategoricalAccuracy()\n",
        "\n",
        "his_loss = {}\n",
        "his_accuracy = {}\n",
        "# training loops (feed forward and backpropagation)\n",
        "for epoch in tqdm(range(epochs)):\n",
        "  print(f\"Epoch {epoch}:\")\n",
        "  for step in range(len(train_dataset)):\n",
        "    # 1. Get data\n",
        "    x, y = train_dataset[step]\n",
        "\n",
        "    # 2. Neural networks\n",
        "    with tf.GradientTape() as tape:\n",
        "      # 2.1 Feed forward\n",
        "      preds = model(x)\n",
        "      loss = loss_func(y, preds)\n",
        "      # 2.2 Backpropation\n",
        "      grads = tape.gradient(loss, model.trainable_weights)\n",
        "      optimizer.apply_gradients(zip(grads, model.trainable_weights))\n",
        "\n",
        "    # 3. Store the metric\n",
        "    mean_loss.update_state(loss)\n",
        "    mean_accuracy.update_state(accuracy(y, preds))\n",
        "\n",
        "  print(f\"    Avg loss: {mean_loss.result().numpy()}\")\n",
        "  print(f\"    Avg accuracy: {mean_accuracy.result().numpy()}\")\n",
        "  his_loss[epoch] = mean_loss.result().numpy()\n",
        "  his_accuracy[epoch] = mean_accuracy.result().numpy()\n",
        "  mean_loss.reset_state()\n",
        "  mean_accuracy.reset_state()"
      ]
    },
    {
      "cell_type": "markdown",
      "metadata": {
        "id": "u0U5sgrKN9yq"
      },
      "source": [
        "### Visualize"
      ]
    },
    {
      "cell_type": "code",
      "execution_count": 77,
      "metadata": {
        "colab": {
          "base_uri": "https://localhost:8080/",
          "height": 365
        },
        "id": "btdyr2D9Mhtl",
        "outputId": "005bf137-46a2-492a-8c8d-956a0f872659"
      },
      "outputs": [
        {
          "data": {
            "image/png": "[encoded data removed]",
            "text/plain": [
              "<Figure size 1200x400 with 2 Axes>"
            ]
          },
          "metadata": {},
          "output_type": "display_data"
        }
      ],
      "source": [
        "plt.figure(figsize=(12,4))\n",
        "plt.subplot(1,2,1)\n",
        "plt.plot(his_loss.keys(), his_loss.values(), color='blue')\n",
        "plt.xlabel('Epochs')\n",
        "plt.ylabel('Training Loss')\n",
        "plt.title('Training Loss vs Epochs')\n",
        "plt.xticks(list(his_loss.keys()))\n",
        "\n",
        "plt.subplot(1,2,2)\n",
        "plt.plot(his_accuracy.keys(), his_accuracy.values(), color='red')\n",
        "plt.xlabel('Epochs')\n",
        "plt.ylabel('Training Accuracy')\n",
        "plt.title('Training Accuracy vs Epochs')\n",
        "plt.xticks(list(his_accuracy.keys()))\n",
        "\n",
        "plt.show()"
      ]
    },
    {
      "cell_type": "code",
      "execution_count": null,
      "metadata": {
        "colab": {
          "base_uri": "https://localhost:8080/"
        },
        "id": "zKB9YCIHTXgn",
        "outputId": "24f015a0-2f23-441e-b22b-598309bc631d"
      },
      "outputs": [
        {
          "name": "stdout",
          "output_type": "stream",
          "text": [
            "Epoch 0:\n",
            "    Avg loss: 0.59450763463974\n",
            "    Avg accuracy: 0.7385523319244385\n"
          ]
        }
      ],
      "source": [
        "model = tf.keras.models.Sequential()\n",
        "model.add(tf.keras.layers.Dense(10, activation='softmax'))\n",
        "\n",
        "epochs = 1\n",
        "loss_func = tf.keras.losses.CategoricalCrossentropy()\n",
        "optimizer = tf.keras.optimizers.Adam()\n",
        "# for calculate mean\n",
        "mean_loss = tf.keras.metrics.Mean()\n",
        "mean_accuracy = tf.keras.metrics.Mean()\n",
        "accuracy = tf.keras.metrics.CategoricalAccuracy()\n",
        "\n",
        "# tqdm progress bar\n",
        "for epoch in range(epochs):\n",
        "  print(f\"Epoch {epoch}:\")\n",
        "  for step in range(len(train_dataset)):\n",
        "    ## Get data\n",
        "    x, y = train_dataset[step]\n",
        "    with tf.GradientTape() as tape:\n",
        "    ## Get prediction\n",
        "      preds = model(x)\n",
        "    ## Calculate loss\n",
        "      loss = loss_func(y, preds)\n",
        "    ## Calculate gradients\n",
        "      grads = tape.gradient(loss, model.trainable_weights)\n",
        "    ## Update weight\n",
        "      optimizer.apply_gradients(zip(grads, model.trainable_weights))\n",
        "    ## Calculate metric\n",
        "    mean_loss.update_state(loss)\n",
        "    mean_accuracy.update_state(accuracy(y, preds))\n",
        "  print(f\"    Avg loss: {mean_loss.result().numpy()}\")\n",
        "  print(f\"    Avg accuracy: {mean_accuracy.result().numpy()}\")\n",
        "  mean_loss.reset_state()\n",
        "  mean_accuracy.reset_state()"
      ]
    },
    {
      "cell_type": "code",
      "execution_count": 78,
      "metadata": {
        "colab": {
          "base_uri": "https://localhost:8080/"
        },
        "id": "mO9e_n1JXWcv",
        "outputId": "d9671bfa-ce0a-4edf-f839-1c3536b614e9"
      },
      "outputs": [
        {
          "name": "stdout",
          "output_type": "stream",
          "text": [
            "1/1 [==============================] - 0s 81ms/step\n"
          ]
        },
        {
          "data": {
            "text/plain": [
              "6"
            ]
          },
          "execution_count": 78,
          "metadata": {},
          "output_type": "execute_result"
        }
      ],
      "source": [
        "def inference_path(image_path):\n",
        "  pil_image = Image.open(image_path)\n",
        "  # resize if need\n",
        "  image = np.array(pil_image)\n",
        "  image = image.flatten()\n",
        "  image = image / 255\n",
        "  image = np.expand_dims(image, axis=0) # batch == 1\n",
        "  pred = model.predict(image)\n",
        "  pred_class = np.argmax(pred, axis=-1)[0]\n",
        "  return pred_class\n",
        "\n",
        "inference_path(\"/content/data/train/0/1.png\")"
      ]
    }
  ],
  "metadata": {
    "accelerator": "GPU",
    "colab": {
      "gpuType": "T4",
      "provenance": [],
      "toc_visible": true
    },
    "kernelspec": {
      "display_name": "Python 3",
      "name": "python3"
    },
    "language_info": {
      "name": "python"
    }
  },
  "nbformat": 4,
  "nbformat_minor": 0
}
