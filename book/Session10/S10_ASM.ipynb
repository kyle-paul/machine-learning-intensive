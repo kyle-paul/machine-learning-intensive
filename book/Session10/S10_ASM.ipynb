{
  "cells": [
    {
      "cell_type": "markdown",
      "metadata": {
        "id": "uVU__5ENeaHz"
      },
      "source": [
        "# Session 10: Assigment\n",
        "\n",
        "```{contents}\n",
        "\n",
        "```"
      ]
    },
    {
      "cell_type": "code",
      "execution_count": null,
      "metadata": {
        "colab": {
          "base_uri": "https://localhost:8080/"
        },
        "id": "wrtk-L_r-PSK",
        "outputId": "31853420-20ce-4c50-c8ab-585a0917683e"
      },
      "outputs": [],
      "source": [
        "!pip install gymnasium"
      ]
    },
    {
      "cell_type": "markdown",
      "metadata": {
        "id": "LTDPbnSJerhE"
      },
      "source": [
        "# Coding Practice"
      ]
    },
    {
      "cell_type": "markdown",
      "metadata": {
        "id": "pq8bxr5Oe76z"
      },
      "source": [
        "In this assignment, we will perform Planning for the game Frozen Lake. Unlike the lab, the game will be created automatically by OpenAI's `gymnasium` library and this is the Stochastic Environment (performing an `A` action will have a probability of reaching different `s` states)\n"
      ]
    },
    {
      "cell_type": "code",
      "execution_count": null,
      "metadata": {
        "id": "TSw3sEao_YMG"
      },
      "outputs": [],
      "source": [
        "import gymnasium as gym\n",
        "import matplotlib.pyplot as plt"
      ]
    },
    {
      "cell_type": "code",
      "execution_count": null,
      "metadata": {
        "colab": {
          "base_uri": "https://localhost:8080/"
        },
        "id": "QwSOO05e_D3m",
        "outputId": "15a1c57d-048f-433b-f8f4-88fc6c2a333d"
      },
      "outputs": [],
      "source": [
        "# intialize the environment\n",
        "env = gym.make('FrozenLake-v1', desc=None, map_name=\"4x4\", is_slippery=True, render_mode=\"rgb_array\")\n",
        "env.reset() # use this to reset the environment to intial state"
      ]
    },
    {
      "cell_type": "code",
      "execution_count": null,
      "metadata": {
        "colab": {
          "base_uri": "https://localhost:8080/",
          "height": 435
        },
        "id": "ue0QWspk_F30",
        "outputId": "703c19c7-2758-4a03-814d-a2b85801063a"
      },
      "outputs": [],
      "source": [
        "# render game\n",
        "frame = env.render()\n",
        "plt.imshow(frame)\n",
        "plt.show()"
      ]
    },
    {
      "cell_type": "markdown",
      "metadata": {
        "id": "VddvtYPjAjhZ"
      },
      "source": [
        "According to the documentation of the library [here](https://gymnasium.farama.org/environments/toy_text/frozen_lake/)\n",
        "\n",
        "The game has 4 actions as follows:\n",
        "- `0` Move left\n",
        "- `1` Move down\n",
        "- `2` Move right\n",
        "- `3` Move up\n",
        "\n",
        "Reward\n",
        "- Reach goal: `+1`\n",
        "- Reach hole: `0`\n",
        "- Reach frozen: `0`"
      ]
    },
    {
      "cell_type": "markdown",
      "metadata": {
        "id": "1OAPTS15DKaF"
      },
      "source": [
        "## Instructions for dealing with Environment"
      ]
    },
    {
      "cell_type": "markdown",
      "metadata": {
        "id": "eKiqFv9kDOmQ"
      },
      "source": [
        "When calling the `reset` function, the game environment will be reset to its original state, the player will be in position `0`."
      ]
    },
    {
      "cell_type": "code",
      "execution_count": null,
      "metadata": {
        "colab": {
          "base_uri": "https://localhost:8080/"
        },
        "id": "EAPBj-U1DXli",
        "outputId": "f107dbdd-33e8-4eed-ad6a-06883fe650a7"
      },
      "outputs": [
        {
          "name": "stdout",
          "output_type": "stream",
          "text": [
            "0\n",
            "{'prob': 1}\n"
          ]
        }
      ],
      "source": [
        "state, info = env.reset()\n",
        "print(state)\n",
        "# info is a dictionary contains secondary information\n",
        "# In this case the probability of resulting in state=0 is 100%\n",
        "print(info)"
      ]
    },
    {
      "cell_type": "markdown",
      "metadata": {
        "id": "V7TpCGZTF-qP"
      },
      "source": [
        "The `step(action)` function will return the following information:\n",
        "- `next_state` index of the next state\n",
        "- `Reward` reward of next state\n",
        "- `terminated` Boolean indicates whether the game is over or not (falling into the hole, reaching the goal)\n",
        "- `truncated` in this notebook we don`t use this value\n",
        "- `info` dictionary contains probabilistic information to reach `next_state`"
      ]
    },
    {
      "cell_type": "code",
      "execution_count": null,
      "metadata": {
        "id": "rzMaLipfE-qt"
      },
      "outputs": [],
      "source": [
        "next_state, reward, terminated, truncated, info = env.step(1)"
      ]
    },
    {
      "cell_type": "markdown",
      "metadata": {
        "id": "H9EGeOxHgfOj"
      },
      "source": [
        "Said earlier, this is the Stochastic Environment.\n",
        "\n",
        "Running the cell below many times we observe that although performing Action=Right, the new position of the player can be in 1 of the following 3 cases:\n",
        "- No change\n",
        "- To the right\n",
        "- Going down"
      ]
    },
    {
      "cell_type": "code",
      "execution_count": null,
      "metadata": {
        "colab": {
          "base_uri": "https://localhost:8080/",
          "height": 435
        },
        "id": "b6sOY8CCgUEa",
        "outputId": "577d2566-0357-4b89-89d1-acb0d9ebbf44"
      },
      "outputs": [],
      "source": [
        "# to reset the state of the game to original\n",
        "env.reset()\n",
        "# Perform action to the right\n",
        "env.step(2)\n",
        "# render\n",
        "frame = env.render()\n",
        "plt.imshow(frame)\n",
        "plt.show()"
      ]
    },
    {
      "cell_type": "code",
      "execution_count": null,
      "metadata": {
        "colab": {
          "base_uri": "https://localhost:8080/"
        },
        "id": "vweIwWicbUou",
        "outputId": "4a18cc63-4d29-42b0-abdb-97a3563755ac"
      },
      "outputs": [],
      "source": [
        "env.reset()\n",
        "info = env.step(2)\n",
        "info"
      ]
    },
    {
      "cell_type": "markdown",
      "metadata": {
        "id": "zTWiwmKbJHWY"
      },
      "source": [
        "We can get a complete description of the environment with the command `env.P`\n",
        "\n",
        "Kết quả là 1 dictionary theo format sau\n",
        "```python\n",
        "{\n",
        "  state_0: { # state index 0\n",
        "    action_0: [ # list contains cases that occur when executing action_0\n",
        "      # probability for next state to happen, next_state, reward, terminated (true or false)\n",
        "      (prob_0, next_state_0, reward_0, terminated_0),\n",
        "      (prob_1, next_state_1, reward_1, terminated_1),\n",
        "      ...\n",
        "    ]\n",
        "    action_1: [ # similar to action_0, but for action_1\n",
        "      (prob_0, next_state_0, reward_0, terminated_0),\n",
        "      (prob_1, next_state_1, reward_1, terminated_1),\n",
        "      ...\n",
        "    ],\n",
        "    ... # the rest of actions\n",
        "  }\n",
        "  state_1: {}, # similar to state_0, but for state_1\n",
        "  ... # the rest of state\n",
        "}\n",
        "```\n",
        "For example, we will take out all the possible cases when the agent is in State 9."
      ]
    },
    {
      "cell_type": "code",
      "execution_count": null,
      "metadata": {
        "id": "XWILQAHcRY2w"
      },
      "outputs": [],
      "source": [
        "env.P"
      ]
    },
    {
      "cell_type": "code",
      "execution_count": null,
      "metadata": {
        "colab": {
          "base_uri": "https://localhost:8080/"
        },
        "id": "lXTCf4nBI0wR",
        "outputId": "cdd2e9af-743e-4b6d-dc28-410bce9d7b26"
      },
      "outputs": [],
      "source": [
        "ACTION_LABELS = [\"GO LEFT\", \"GO DOWN\", \"GO RIGHT\", \"GO UP\"]\n",
        "print(\"At State 9\")\n",
        "for k, v in env.P[9].items():\n",
        "  # key là action\n",
        "  # value là list chứa các trường hợp sẽ xảy khi thực hiện action\n",
        "  print(f\"If executing action: {ACTION_LABELS[k]}\")\n",
        "  for result in v:\n",
        "    prob, next_state, reward, terminated = result\n",
        "    print(f\"Probability {prob} to get into {next_state} with reward={reward}, game over = {terminated}\")\n",
        "  print(\"=\"*30)"
      ]
    },
    {
      "cell_type": "markdown",
      "metadata": {
        "id": "noRtWLvuixVd"
      },
      "source": [
        "#### TODO 1\n",
        "\n",
        "From the above tests, conclude how the game's slide feature works?\n",
        "\n",
        "Once you understand how to play, try to think about what is the optimal way to solve this problem?\n",
        "\n"
      ]
    },
    {
      "cell_type": "markdown",
      "metadata": {
        "id": "wjDAtdwrju6K"
      },
      "source": [
        "**Your answer here**\n"
      ]
    },
    {
      "cell_type": "markdown",
      "metadata": {
        "id": "H_6KVhAyjtuf"
      },
      "source": [
        "## Planning"
      ]
    },
    {
      "cell_type": "markdown",
      "metadata": {
        "id": "96rzj6iMNPqn"
      },
      "source": [
        "In this section, we use Bellman's Optimality Equations to perform Planning for the glacial lake problem with the Stochastic Environment\n",
        "\n",
        "**Bellman's Optimality Equations**\n",
        "\n",
        "$$\n",
        "\\forall s,a: ~ Q(s,a) = \\sum_{s'} P(s'|s,a)\\big[R(s,a,s') + \\gamma \\max_{a'}(Q(s',a'))\\big].\n",
        "$$\n",
        "\n",
        "- $\\max(Q(s',a'))$: The max value of ``Q[next_state]``\n",
        "- $P(s'|s,a)$: Probability of reaching the state $s'$ after executing action $a$ at state $s$  \n",
        "- $R(s,a,s')$: reward received upon arrival in the state $s'$ from state $s$ with action $a$"
      ]
    },
    {
      "cell_type": "markdown",
      "metadata": {
        "id": "GSGSc4m2Mv5z"
      },
      "source": [
        "#### TODO 2\n",
        "\n",
        "Use Bellman Equations to complete the `planning` function below (similar to Lab, but with probability)\n",
        "\n",
        "Note: if the current state is terminal, do not update\n",
        "\n",
        "\n",
        "Hint: use loops to compute the sum $\\sum$ `for probability, next_state, reward, _ in env.P[state][action]`"
      ]
    },
    {
      "cell_type": "code",
      "execution_count": null,
      "metadata": {
        "id": "C60J2LZ7NyQ-"
      },
      "outputs": [],
      "source": [
        "# YOUR SOLUTION HERE"
      ]
    },
    {
      "cell_type": "markdown",
      "metadata": {
        "id": "WdKqwAarTRUK"
      },
      "source": [
        "#### TODO 3\n",
        "\n"
      ]
    },
    {
      "cell_type": "markdown",
      "metadata": {
        "id": "0-hrVdqHPtDB"
      },
      "source": [
        "From the `Q` matrix, complete the `get_optimal_actions` below.\n",
        "\n",
        "This function returns `1 list` with the number of elements equal to the number of states, the numbers inside indicate the best action that the agent must perform when in the corresponding state based on the optimized `Q` matrix\n"
      ]
    },
    {
      "cell_type": "code",
      "execution_count": null,
      "metadata": {
        "id": "Vce77i-AT9XJ"
      },
      "outputs": [],
      "source": [
        "# YOUR SOLUTION HERE"
      ]
    },
    {
      "cell_type": "markdown",
      "metadata": {
        "id": "_4pbaszcd2AR"
      },
      "source": [
        "**Visualize optimal policy**"
      ]
    },
    {
      "cell_type": "code",
      "execution_count": null,
      "metadata": {
        "id": "TRkXLtHldzmQ"
      },
      "outputs": [],
      "source": [
        "import pandas as pd\n",
        "from matplotlib.table import Table\n",
        "\n",
        "def visualize_policy(optimal_actions, terminal):\n",
        "  ACTION_LABELS = [\"left\", \"down\", \"right\", \"up\"]\n",
        "\n",
        "  temp = []\n",
        "  for i in range(4):\n",
        "    temp_1 = []\n",
        "    for j in range(4):\n",
        "      temp_1.append(ACTION_LABELS[optimal_actions[i*4+j]])\n",
        "    temp.append(temp_1)\n",
        "\n",
        "  data = pd.DataFrame(temp)\n",
        "  fig, ax = plt.subplots(figsize=(7,7))\n",
        "  ax.set_axis_off()\n",
        "  tb = Table(ax, bbox=[0,0,1,1])\n",
        "\n",
        "  nrows, ncols = 4, 4\n",
        "  width, height = 1.0 / ncols, 1.0 / nrows\n",
        "\n",
        "  bkg_colors = ['teal' for i in range(16)]\n",
        "  for pos in terminal:\n",
        "    bkg_colors[pos] = 'blue'\n",
        "  bkg_colors[0] = 'orange'\n",
        "  bkg_colors[15] = 'green'\n",
        "\n",
        "  # Add cells\n",
        "  for (i,j), val in np.ndenumerate(data):\n",
        "    # Index either the first or second item of bkg_colors based on\n",
        "    # a checker board pattern\n",
        "    color = bkg_colors[i*4 + j]\n",
        "    if i*4+j in terminal and i*4+j!=15:\n",
        "      tb.add_cell(i, j, width, height, text='die',\n",
        "                  loc='center', facecolor=color)\n",
        "    elif i*4+j==15:\n",
        "      tb.add_cell(i, j, width, height, text='goal',\n",
        "                  loc='center', facecolor=color)\n",
        "    else:\n",
        "      tb.add_cell(i, j, width, height, text=val,\n",
        "                  loc='center', facecolor=color)\n",
        "\n",
        "  ax.add_table(tb)\n",
        "  plt.show()"
      ]
    },
    {
      "cell_type": "code",
      "execution_count": null,
      "metadata": {
        "colab": {
          "base_uri": "https://localhost:8080/",
          "height": 576
        },
        "id": "ioK5qiPgd6ah",
        "outputId": "d1a30a4b-3150-4060-992f-753bfa9dcb13"
      },
      "outputs": [],
      "source": [
        "visualize_policy(optimal_actions, terminal=[5, 7, 11, 12, 15])"
      ]
    },
    {
      "cell_type": "markdown",
      "metadata": {
        "id": "JW5S46lsV4dX"
      },
      "source": [
        "Support function to compute winrate"
      ]
    },
    {
      "cell_type": "code",
      "execution_count": null,
      "metadata": {
        "id": "KlojIAC7V9gv"
      },
      "outputs": [],
      "source": [
        "from tqdm.notebook import tqdm\n",
        "\n",
        "def get_average_winrate(env, optimal_actions, num_play=10000):\n",
        "  lost_count = 0\n",
        "  step_count = 0\n",
        "  for episode in tqdm(range(num_play)):\n",
        "    state, info = env.reset()\n",
        "    steps = 0\n",
        "    while True:\n",
        "      action = optimal_actions[state]\n",
        "      state, reward, terminated, _, _ = env.step(action)\n",
        "      steps += 1\n",
        "      if terminated and reward == 1:\n",
        "        # win\n",
        "        step_count += steps\n",
        "        break\n",
        "      elif terminated and reward == 0:\n",
        "        # lose\n",
        "        lost_count += 1\n",
        "        break\n",
        "  print(f\"{num_play} games\")\n",
        "  print(\"----------------------------------------------\")\n",
        "  print(\"You took an average of {:.2f} steps to reach goal\".format(step_count / num_play))\n",
        "  print(\"And you fell in the hole {} times ({:.2f}%)\".format(lost_count, (lost_count/num_play) * 100))\n",
        "  print(\"----------------------------------------------\")"
      ]
    },
    {
      "cell_type": "code",
      "execution_count": null,
      "metadata": {
        "colab": {
          "background_save": true,
          "base_uri": "https://localhost:8080/",
          "height": 49,
          "referenced_widgets": [
            "e9ffd2265afa470380500639c5e4d442",
            "f62ae6ebdc464bdb86700f53bf143581",
            "a9beb4f3183947dc83c82b7cdaf6cda8",
            "cfc3ed00595e4e878bf90371b447192c",
            "ee105e0a8c544fc48a9440548af266f2",
            "2fffa66754424afbb6d23e27e8e5578b",
            "790dbcb0f04c46779b01280ed0daefb7",
            "ff52089b2d3041bcac851db1389f60bf",
            "90958c09f71343f6ac0a7677b43aeaae",
            "c0b8953652be420595760daa5500c1e1",
            "1ae9af0a947f43e69e23f78b857026b4"
          ]
        },
        "id": "ijQ7FdFYv8T-",
        "outputId": "4e3ab5cb-28aa-4dfc-e50f-71f2685adf8b"
      },
      "outputs": [],
      "source": [
        "get_average_winrate(env, optimal_actions)"
      ]
    },
    {
      "cell_type": "markdown",
      "metadata": {
        "id": "T7ycm33R4BGs"
      },
      "source": [
        "## Watch Agent plays"
      ]
    },
    {
      "cell_type": "code",
      "execution_count": null,
      "metadata": {
        "id": "A2jYG_cx4D2V"
      },
      "outputs": [],
      "source": [
        "def play_one_game(env, optimal_actions):\n",
        "  frames = []\n",
        "  cur_state, _ = env.reset()\n",
        "  frames.append(env.render())\n",
        "  while True:\n",
        "    best_action = optimal_actions[cur_state]\n",
        "    cur_state, _, terminated, _, _ = env.step(best_action)\n",
        "    frames.append(env.render())\n",
        "    if terminated:\n",
        "      break\n",
        "  return frames"
      ]
    },
    {
      "cell_type": "code",
      "execution_count": null,
      "metadata": {
        "id": "WSMMVnOKwCZQ"
      },
      "outputs": [],
      "source": [
        "frames = play_one_game(env, optimal_actions)"
      ]
    },
    {
      "cell_type": "code",
      "execution_count": null,
      "metadata": {
        "colab": {
          "base_uri": "https://localhost:8080/",
          "height": 562
        },
        "id": "FipmlGr14Phw",
        "outputId": "62dbebec-03ea-421e-da2a-d9fab0322eeb"
      },
      "outputs": [],
      "source": [
        "import matplotlib.animation as anim\n",
        "from IPython.display import HTML\n",
        "\n",
        "plt.figure(figsize=(frames[0].shape[1] / 72.0, frames[0].shape[0] / 72.0), dpi = 72)\n",
        "patch = plt.imshow(frames[0])\n",
        "plt.axis('off') \n",
        "animate = lambda i: patch.set_data(frames[i])\n",
        "ani = anim.FuncAnimation(plt.gcf(), animate, frames=len(frames), interval = 50)\n",
        "HTML(ani.to_jshtml())"
      ]
    }
  ],
  "metadata": {
    "colab": {
      "provenance": [],
      "toc_visible": true
    },
    "kernelspec": {
      "display_name": "Python 3",
      "name": "python3"
    },
    "widgets": {
      "application/vnd.jupyter.widget-state+json": {
        "1ae9af0a947f43e69e23f78b857026b4": {
          "model_module": "@jupyter-widgets/controls",
          "model_module_version": "1.5.0",
          "model_name": "DescriptionStyleModel",
          "state": {
            "_model_module": "@jupyter-widgets/controls",
            "_model_module_version": "1.5.0",
            "_model_name": "DescriptionStyleModel",
            "_view_count": null,
            "_view_module": "@jupyter-widgets/base",
            "_view_module_version": "1.2.0",
            "_view_name": "StyleView",
            "description_width": ""
          }
        },
        "2fffa66754424afbb6d23e27e8e5578b": {
          "model_module": "@jupyter-widgets/base",
          "model_module_version": "1.2.0",
          "model_name": "LayoutModel",
          "state": {
            "_model_module": "@jupyter-widgets/base",
            "_model_module_version": "1.2.0",
            "_model_name": "LayoutModel",
            "_view_count": null,
            "_view_module": "@jupyter-widgets/base",
            "_view_module_version": "1.2.0",
            "_view_name": "LayoutView",
            "align_content": null,
            "align_items": null,
            "align_self": null,
            "border": null,
            "bottom": null,
            "display": null,
            "flex": null,
            "flex_flow": null,
            "grid_area": null,
            "grid_auto_columns": null,
            "grid_auto_flow": null,
            "grid_auto_rows": null,
            "grid_column": null,
            "grid_gap": null,
            "grid_row": null,
            "grid_template_areas": null,
            "grid_template_columns": null,
            "grid_template_rows": null,
            "height": null,
            "justify_content": null,
            "justify_items": null,
            "left": null,
            "margin": null,
            "max_height": null,
            "max_width": null,
            "min_height": null,
            "min_width": null,
            "object_fit": null,
            "object_position": null,
            "order": null,
            "overflow": null,
            "overflow_x": null,
            "overflow_y": null,
            "padding": null,
            "right": null,
            "top": null,
            "visibility": null,
            "width": null
          }
        },
        "790dbcb0f04c46779b01280ed0daefb7": {
          "model_module": "@jupyter-widgets/controls",
          "model_module_version": "1.5.0",
          "model_name": "DescriptionStyleModel",
          "state": {
            "_model_module": "@jupyter-widgets/controls",
            "_model_module_version": "1.5.0",
            "_model_name": "DescriptionStyleModel",
            "_view_count": null,
            "_view_module": "@jupyter-widgets/base",
            "_view_module_version": "1.2.0",
            "_view_name": "StyleView",
            "description_width": ""
          }
        },
        "90958c09f71343f6ac0a7677b43aeaae": {
          "model_module": "@jupyter-widgets/controls",
          "model_module_version": "1.5.0",
          "model_name": "ProgressStyleModel",
          "state": {
            "_model_module": "@jupyter-widgets/controls",
            "_model_module_version": "1.5.0",
            "_model_name": "ProgressStyleModel",
            "_view_count": null,
            "_view_module": "@jupyter-widgets/base",
            "_view_module_version": "1.2.0",
            "_view_name": "StyleView",
            "bar_color": null,
            "description_width": ""
          }
        },
        "a9beb4f3183947dc83c82b7cdaf6cda8": {
          "model_module": "@jupyter-widgets/controls",
          "model_module_version": "1.5.0",
          "model_name": "FloatProgressModel",
          "state": {
            "_dom_classes": [],
            "_model_module": "@jupyter-widgets/controls",
            "_model_module_version": "1.5.0",
            "_model_name": "FloatProgressModel",
            "_view_count": null,
            "_view_module": "@jupyter-widgets/controls",
            "_view_module_version": "1.5.0",
            "_view_name": "ProgressView",
            "bar_style": "",
            "description": "",
            "description_tooltip": null,
            "layout": "IPY_MODEL_ff52089b2d3041bcac851db1389f60bf",
            "max": 10000,
            "min": 0,
            "orientation": "horizontal",
            "style": "IPY_MODEL_90958c09f71343f6ac0a7677b43aeaae",
            "value": 0
          }
        },
        "c0b8953652be420595760daa5500c1e1": {
          "model_module": "@jupyter-widgets/base",
          "model_module_version": "1.2.0",
          "model_name": "LayoutModel",
          "state": {
            "_model_module": "@jupyter-widgets/base",
            "_model_module_version": "1.2.0",
            "_model_name": "LayoutModel",
            "_view_count": null,
            "_view_module": "@jupyter-widgets/base",
            "_view_module_version": "1.2.0",
            "_view_name": "LayoutView",
            "align_content": null,
            "align_items": null,
            "align_self": null,
            "border": null,
            "bottom": null,
            "display": null,
            "flex": null,
            "flex_flow": null,
            "grid_area": null,
            "grid_auto_columns": null,
            "grid_auto_flow": null,
            "grid_auto_rows": null,
            "grid_column": null,
            "grid_gap": null,
            "grid_row": null,
            "grid_template_areas": null,
            "grid_template_columns": null,
            "grid_template_rows": null,
            "height": null,
            "justify_content": null,
            "justify_items": null,
            "left": null,
            "margin": null,
            "max_height": null,
            "max_width": null,
            "min_height": null,
            "min_width": null,
            "object_fit": null,
            "object_position": null,
            "order": null,
            "overflow": null,
            "overflow_x": null,
            "overflow_y": null,
            "padding": null,
            "right": null,
            "top": null,
            "visibility": null,
            "width": null
          }
        },
        "cfc3ed00595e4e878bf90371b447192c": {
          "model_module": "@jupyter-widgets/controls",
          "model_module_version": "1.5.0",
          "model_name": "HTMLModel",
          "state": {
            "_dom_classes": [],
            "_model_module": "@jupyter-widgets/controls",
            "_model_module_version": "1.5.0",
            "_model_name": "HTMLModel",
            "_view_count": null,
            "_view_module": "@jupyter-widgets/controls",
            "_view_module_version": "1.5.0",
            "_view_name": "HTMLView",
            "description": "",
            "description_tooltip": null,
            "layout": "IPY_MODEL_c0b8953652be420595760daa5500c1e1",
            "placeholder": "​",
            "style": "IPY_MODEL_1ae9af0a947f43e69e23f78b857026b4",
            "value": " 0/10000 [00:00&lt;?, ?it/s]"
          }
        },
        "e9ffd2265afa470380500639c5e4d442": {
          "model_module": "@jupyter-widgets/controls",
          "model_module_version": "1.5.0",
          "model_name": "HBoxModel",
          "state": {
            "_dom_classes": [],
            "_model_module": "@jupyter-widgets/controls",
            "_model_module_version": "1.5.0",
            "_model_name": "HBoxModel",
            "_view_count": null,
            "_view_module": "@jupyter-widgets/controls",
            "_view_module_version": "1.5.0",
            "_view_name": "HBoxView",
            "box_style": "",
            "children": [
              "IPY_MODEL_f62ae6ebdc464bdb86700f53bf143581",
              "IPY_MODEL_a9beb4f3183947dc83c82b7cdaf6cda8",
              "IPY_MODEL_cfc3ed00595e4e878bf90371b447192c"
            ],
            "layout": "IPY_MODEL_ee105e0a8c544fc48a9440548af266f2"
          }
        },
        "ee105e0a8c544fc48a9440548af266f2": {
          "model_module": "@jupyter-widgets/base",
          "model_module_version": "1.2.0",
          "model_name": "LayoutModel",
          "state": {
            "_model_module": "@jupyter-widgets/base",
            "_model_module_version": "1.2.0",
            "_model_name": "LayoutModel",
            "_view_count": null,
            "_view_module": "@jupyter-widgets/base",
            "_view_module_version": "1.2.0",
            "_view_name": "LayoutView",
            "align_content": null,
            "align_items": null,
            "align_self": null,
            "border": null,
            "bottom": null,
            "display": null,
            "flex": null,
            "flex_flow": null,
            "grid_area": null,
            "grid_auto_columns": null,
            "grid_auto_flow": null,
            "grid_auto_rows": null,
            "grid_column": null,
            "grid_gap": null,
            "grid_row": null,
            "grid_template_areas": null,
            "grid_template_columns": null,
            "grid_template_rows": null,
            "height": null,
            "justify_content": null,
            "justify_items": null,
            "left": null,
            "margin": null,
            "max_height": null,
            "max_width": null,
            "min_height": null,
            "min_width": null,
            "object_fit": null,
            "object_position": null,
            "order": null,
            "overflow": null,
            "overflow_x": null,
            "overflow_y": null,
            "padding": null,
            "right": null,
            "top": null,
            "visibility": null,
            "width": null
          }
        },
        "f62ae6ebdc464bdb86700f53bf143581": {
          "model_module": "@jupyter-widgets/controls",
          "model_module_version": "1.5.0",
          "model_name": "HTMLModel",
          "state": {
            "_dom_classes": [],
            "_model_module": "@jupyter-widgets/controls",
            "_model_module_version": "1.5.0",
            "_model_name": "HTMLModel",
            "_view_count": null,
            "_view_module": "@jupyter-widgets/controls",
            "_view_module_version": "1.5.0",
            "_view_name": "HTMLView",
            "description": "",
            "description_tooltip": null,
            "layout": "IPY_MODEL_2fffa66754424afbb6d23e27e8e5578b",
            "placeholder": "​",
            "style": "IPY_MODEL_790dbcb0f04c46779b01280ed0daefb7",
            "value": "  0%"
          }
        },
        "ff52089b2d3041bcac851db1389f60bf": {
          "model_module": "@jupyter-widgets/base",
          "model_module_version": "1.2.0",
          "model_name": "LayoutModel",
          "state": {
            "_model_module": "@jupyter-widgets/base",
            "_model_module_version": "1.2.0",
            "_model_name": "LayoutModel",
            "_view_count": null,
            "_view_module": "@jupyter-widgets/base",
            "_view_module_version": "1.2.0",
            "_view_name": "LayoutView",
            "align_content": null,
            "align_items": null,
            "align_self": null,
            "border": null,
            "bottom": null,
            "display": null,
            "flex": null,
            "flex_flow": null,
            "grid_area": null,
            "grid_auto_columns": null,
            "grid_auto_flow": null,
            "grid_auto_rows": null,
            "grid_column": null,
            "grid_gap": null,
            "grid_row": null,
            "grid_template_areas": null,
            "grid_template_columns": null,
            "grid_template_rows": null,
            "height": null,
            "justify_content": null,
            "justify_items": null,
            "left": null,
            "margin": null,
            "max_height": null,
            "max_width": null,
            "min_height": null,
            "min_width": null,
            "object_fit": null,
            "object_position": null,
            "order": null,
            "overflow": null,
            "overflow_x": null,
            "overflow_y": null,
            "padding": null,
            "right": null,
            "top": null,
            "visibility": null,
            "width": null
          }
        }
      }
    }
  },
  "nbformat": 4,
  "nbformat_minor": 0
}
