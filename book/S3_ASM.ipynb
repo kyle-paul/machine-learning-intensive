{
  "cells": [
    {
      "cell_type": "markdown",
      "metadata": {
        "id": "kwU5Wer892jv"
      },
      "source": [
        "# Session 3: Assigment\n",
        "\n",
        "```{contents}\n",
        "\n",
        "```"
      ]
    },
    {
      "cell_type": "markdown",
      "metadata": {
        "id": "RVMNx2vq-TNv"
      },
      "source": [
        "## Movies Recommender System"
      ]
    },
    {
      "cell_type": "markdown",
      "metadata": {
        "id": "c7-9sTFv-cG_"
      },
      "source": [
        "### Download dataset"
      ]
    },
    {
      "cell_type": "code",
      "execution_count": null,
      "metadata": {
        "colab": {
          "base_uri": "https://localhost:8080/"
        },
        "id": "mdwvswIU9viz",
        "outputId": "4566391e-0789-4d9f-be43-48c8b2d5cc36"
      },
      "outputs": [],
      "source": [
        "!wget \"http://files.grouplens.org/datasets/movielens/ml-latest-small.zip\"\n",
        "!unzip \"ml-latest-small.zip\""
      ]
    },
    {
      "cell_type": "code",
      "execution_count": null,
      "metadata": {
        "id": "g9wWrfPi-Eq2"
      },
      "outputs": [],
      "source": [
        "import pandas as pd\n",
        "import numpy as np"
      ]
    },
    {
      "cell_type": "markdown",
      "metadata": {
        "id": "-XDF_3EiqARI"
      },
      "source": [
        "**Load movie dataset**"
      ]
    },
    {
      "cell_type": "code",
      "execution_count": null,
      "metadata": {
        "colab": {
          "base_uri": "https://localhost:8080/",
          "height": 206
        },
        "id": "KDFsvSHJ-sM-",
        "outputId": "11ab8960-e1e9-44a2-9774-4e2fa0b2cc0d"
      },
      "outputs": [],
      "source": [
        "df_movie = pd.read_csv('ml-latest-small/movies.csv', encoding='latin-1')\n",
        "df_movie.head()"
      ]
    },
    {
      "cell_type": "markdown",
      "metadata": {
        "id": "bDAmfLJLqFwo"
      },
      "source": [
        "**Load rating datase**"
      ]
    },
    {
      "cell_type": "code",
      "execution_count": null,
      "metadata": {
        "colab": {
          "base_uri": "https://localhost:8080/",
          "height": 206
        },
        "id": "T2NkhvyF-INV",
        "outputId": "c5ab8481-57e9-4b62-e7ad-4de5c70b3fcb"
      },
      "outputs": [],
      "source": [
        "df_rating = pd.read_csv('ml-latest-small/ratings.csv', encoding='latin-1')\n",
        "df_rating.head()"
      ]
    },
    {
      "cell_type": "markdown",
      "metadata": {
        "id": "lpu34vzb_pne"
      },
      "source": [
        "## Data Analysis"
      ]
    },
    {
      "cell_type": "markdown",
      "metadata": {
        "id": "8YzJpwWUxP0M"
      },
      "source": [
        "Some of the things that we need to do include:\n",
        "- The meaning of columns in the dataset.\n",
        "- A few basic statistics about the data.\n",
        "- Is the data type reasonable, are there any columns that contain numeric values but type `string`?\n",
        "- Is there a column that semantically appears only 1 time, but in fact they appear more than once?\n",
        "- In DataFrame, do cells containing empty values (`None`, `null`, `NaN`) exist?\n",
        "- If there are more than 1 DataFrame, we need to check the link between them to see if it makes sense."
      ]
    },
    {
      "cell_type": "code",
      "execution_count": null,
      "metadata": {
        "colab": {
          "base_uri": "https://localhost:8080/"
        },
        "id": "zDiCEOJfqc4n",
        "outputId": "d10cfcc3-ec20-46fd-c36d-a9c391e63193"
      },
      "outputs": [],
      "source": [
        "df_movie.info()"
      ]
    },
    {
      "cell_type": "markdown",
      "metadata": {
        "id": "W_BIWMJDqnKG"
      },
      "source": [
        "Observing the results printed above, we see that the column `title` and `genres` have `Dtype=object`, which is `string` in DataFrame"
      ]
    },
    {
      "cell_type": "code",
      "execution_count": null,
      "metadata": {
        "colab": {
          "base_uri": "https://localhost:8080/"
        },
        "id": "-MlaN2lorTe_",
        "outputId": "5a104339-dda8-4312-addb-cc2da8b499ff"
      },
      "outputs": [],
      "source": [
        "df_rating.info()"
      ]
    },
    {
      "cell_type": "markdown",
      "metadata": {
        "id": "9wRHVS_Esdkj"
      },
      "source": [
        "Will any `movieId` appear 2 times in `df_movie`?"
      ]
    },
    {
      "cell_type": "code",
      "execution_count": null,
      "metadata": {
        "colab": {
          "base_uri": "https://localhost:8080/"
        },
        "id": "tmPq1tAIsk_Q",
        "outputId": "193accfa-8519-4934-8a19-e1279c061b29"
      },
      "outputs": [],
      "source": [
        "df_movie.duplicated(subset=[\"movieId\"], keep=False)"
      ]
    },
    {
      "cell_type": "markdown",
      "metadata": {
        "id": "p-fd3kdWtZW6"
      },
      "source": [
        "We see that the above code only returns `True` or `False`. To display the full result, we need to nest these `True/False` values into `df_movie`"
      ]
    },
    {
      "cell_type": "code",
      "execution_count": null,
      "metadata": {
        "colab": {
          "base_uri": "https://localhost:8080/",
          "height": 49
        },
        "id": "j6CPa7iXs7n0",
        "outputId": "2b3f9f79-b632-480b-c7c4-d03005bd2bc7"
      },
      "outputs": [
        {
          "data": {
            "text/html": [
              "\n",
              "\n",
              "  <div id=\"df-4688673a-7a7c-40ec-b17a-26499286cda2\">\n",
              "    <div class=\"colab-df-container\">\n",
              "      <div>\n",
              "<style scoped>\n",
              "    .dataframe tbody tr th:only-of-type {\n",
              "        vertical-align: middle;\n",
              "    }\n",
              "\n",
              "    .dataframe tbody tr th {\n",
              "        vertical-align: top;\n",
              "    }\n",
              "\n",
              "    .dataframe thead th {\n",
              "        text-align: right;\n",
              "    }\n",
              "</style>\n",
              "<table border=\"1\" class=\"dataframe\">\n",
              "  <thead>\n",
              "    <tr style=\"text-align: right;\">\n",
              "      <th></th>\n",
              "      <th>movieId</th>\n",
              "      <th>title</th>\n",
              "      <th>genres</th>\n",
              "    </tr>\n",
              "  </thead>\n",
              "  <tbody>\n",
              "  </tbody>\n",
              "</table>\n",
              "</div>\n",
              "      <button class=\"colab-df-convert\" onclick=\"convertToInteractive('df-4688673a-7a7c-40ec-b17a-26499286cda2')\"\n",
              "              title=\"Convert this dataframe to an interactive table.\"\n",
              "              style=\"display:none;\">\n",
              "\n",
              "  <svg xmlns=\"http://www.w3.org/2000/svg\" height=\"24px\"viewBox=\"0 0 24 24\"\n",
              "       width=\"24px\">\n",
              "    <path d=\"M0 0h24v24H0V0z\" fill=\"none\"/>\n",
              "    <path d=\"M18.56 5.44l.94 2.06.94-2.06 2.06-.94-2.06-.94-.94-2.06-.94 2.06-2.06.94zm-11 1L8.5 8.5l.94-2.06 2.06-.94-2.06-.94L8.5 2.5l-.94 2.06-2.06.94zm10 10l.94 2.06.94-2.06 2.06-.94-2.06-.94-.94-2.06-.94 2.06-2.06.94z\"/><path d=\"M17.41 7.96l-1.37-1.37c-.4-.4-.92-.59-1.43-.59-.52 0-1.04.2-1.43.59L10.3 9.45l-7.72 7.72c-.78.78-.78 2.05 0 2.83L4 21.41c.39.39.9.59 1.41.59.51 0 1.02-.2 1.41-.59l7.78-7.78 2.81-2.81c.8-.78.8-2.07 0-2.86zM5.41 20L4 18.59l7.72-7.72 1.47 1.35L5.41 20z\"/>\n",
              "  </svg>\n",
              "      </button>\n",
              "\n",
              "\n",
              "\n",
              "    <div id=\"df-14e92028-67bb-498b-97ea-c7ba3caa4d4e\">\n",
              "      <button class=\"colab-df-quickchart\" onclick=\"quickchart('df-14e92028-67bb-498b-97ea-c7ba3caa4d4e')\"\n",
              "              title=\"Suggest charts.\"\n",
              "              style=\"display:none;\">\n",
              "\n",
              "<svg xmlns=\"http://www.w3.org/2000/svg\" height=\"24px\"viewBox=\"0 0 24 24\"\n",
              "     width=\"24px\">\n",
              "    <g>\n",
              "        <path d=\"M19 3H5c-1.1 0-2 .9-2 2v14c0 1.1.9 2 2 2h14c1.1 0 2-.9 2-2V5c0-1.1-.9-2-2-2zM9 17H7v-7h2v7zm4 0h-2V7h2v10zm4 0h-2v-4h2v4z\"/>\n",
              "    </g>\n",
              "</svg>\n",
              "      </button>\n",
              "    </div>\n",
              "\n",
              "<style>\n",
              "  .colab-df-quickchart {\n",
              "    background-color: #E8F0FE;\n",
              "    border: none;\n",
              "    border-radius: 50%;\n",
              "    cursor: pointer;\n",
              "    display: none;\n",
              "    fill: #1967D2;\n",
              "    height: 32px;\n",
              "    padding: 0 0 0 0;\n",
              "    width: 32px;\n",
              "  }\n",
              "\n",
              "  .colab-df-quickchart:hover {\n",
              "    background-color: #E2EBFA;\n",
              "    box-shadow: 0px 1px 2px rgba(60, 64, 67, 0.3), 0px 1px 3px 1px rgba(60, 64, 67, 0.15);\n",
              "    fill: #174EA6;\n",
              "  }\n",
              "\n",
              "  [theme=dark] .colab-df-quickchart {\n",
              "    background-color: #3B4455;\n",
              "    fill: #D2E3FC;\n",
              "  }\n",
              "\n",
              "  [theme=dark] .colab-df-quickchart:hover {\n",
              "    background-color: #434B5C;\n",
              "    box-shadow: 0px 1px 3px 1px rgba(0, 0, 0, 0.15);\n",
              "    filter: drop-shadow(0px 1px 2px rgba(0, 0, 0, 0.3));\n",
              "    fill: #FFFFFF;\n",
              "  }\n",
              "</style>\n",
              "\n",
              "    <script>\n",
              "      async function quickchart(key) {\n",
              "        const containerElement = document.querySelector('#' + key);\n",
              "        const charts = await google.colab.kernel.invokeFunction(\n",
              "            'suggestCharts', [key], {});\n",
              "      }\n",
              "    </script>\n",
              "\n",
              "      <script>\n",
              "\n",
              "function displayQuickchartButton(domScope) {\n",
              "  let quickchartButtonEl =\n",
              "    domScope.querySelector('#df-14e92028-67bb-498b-97ea-c7ba3caa4d4e button.colab-df-quickchart');\n",
              "  quickchartButtonEl.style.display =\n",
              "    google.colab.kernel.accessAllowed ? 'block' : 'none';\n",
              "}\n",
              "\n",
              "        displayQuickchartButton(document);\n",
              "      </script>\n",
              "      <style>\n",
              "    .colab-df-container {\n",
              "      display:flex;\n",
              "      flex-wrap:wrap;\n",
              "      gap: 12px;\n",
              "    }\n",
              "\n",
              "    .colab-df-convert {\n",
              "      background-color: #E8F0FE;\n",
              "      border: none;\n",
              "      border-radius: 50%;\n",
              "      cursor: pointer;\n",
              "      display: none;\n",
              "      fill: #1967D2;\n",
              "      height: 32px;\n",
              "      padding: 0 0 0 0;\n",
              "      width: 32px;\n",
              "    }\n",
              "\n",
              "    .colab-df-convert:hover {\n",
              "      background-color: #E2EBFA;\n",
              "      box-shadow: 0px 1px 2px rgba(60, 64, 67, 0.3), 0px 1px 3px 1px rgba(60, 64, 67, 0.15);\n",
              "      fill: #174EA6;\n",
              "    }\n",
              "\n",
              "    [theme=dark] .colab-df-convert {\n",
              "      background-color: #3B4455;\n",
              "      fill: #D2E3FC;\n",
              "    }\n",
              "\n",
              "    [theme=dark] .colab-df-convert:hover {\n",
              "      background-color: #434B5C;\n",
              "      box-shadow: 0px 1px 3px 1px rgba(0, 0, 0, 0.15);\n",
              "      filter: drop-shadow(0px 1px 2px rgba(0, 0, 0, 0.3));\n",
              "      fill: #FFFFFF;\n",
              "    }\n",
              "  </style>\n",
              "\n",
              "      <script>\n",
              "        const buttonEl =\n",
              "          document.querySelector('#df-4688673a-7a7c-40ec-b17a-26499286cda2 button.colab-df-convert');\n",
              "        buttonEl.style.display =\n",
              "          google.colab.kernel.accessAllowed ? 'block' : 'none';\n",
              "\n",
              "        async function convertToInteractive(key) {\n",
              "          const element = document.querySelector('#df-4688673a-7a7c-40ec-b17a-26499286cda2');\n",
              "          const dataTable =\n",
              "            await google.colab.kernel.invokeFunction('convertToInteractive',\n",
              "                                                     [key], {});\n",
              "          if (!dataTable) return;\n",
              "\n",
              "          const docLinkHtml = 'Like what you see? Visit the ' +\n",
              "            '<a target=\"_blank\" href=https://colab.research.google.com/notebooks/data_table.ipynb>data table notebook</a>'\n",
              "            + ' to learn more about interactive tables.';\n",
              "          element.innerHTML = '';\n",
              "          dataTable['output_type'] = 'display_data';\n",
              "          await google.colab.output.renderOutput(dataTable, element);\n",
              "          const docLink = document.createElement('div');\n",
              "          docLink.innerHTML = docLinkHtml;\n",
              "          element.appendChild(docLink);\n",
              "        }\n",
              "      </script>\n",
              "    </div>\n",
              "  </div>\n"
            ],
            "text/plain": [
              "Empty DataFrame\n",
              "Columns: [movieId, title, genres]\n",
              "Index: []"
            ]
          },
          "execution_count": 9,
          "metadata": {},
          "output_type": "execute_result"
        }
      ],
      "source": [
        "df_movie[df_movie.duplicated(subset=[\"movieId\"], keep=False)]"
      ]
    },
    {
      "cell_type": "markdown",
      "metadata": {
        "id": "dudjOQectpD9"
      },
      "source": [
        "Do the same with the `title` column"
      ]
    },
    {
      "cell_type": "code",
      "execution_count": null,
      "metadata": {
        "colab": {
          "base_uri": "https://localhost:8080/",
          "height": 363
        },
        "id": "1WQqQrsvtEqX",
        "outputId": "cb7c1435-7801-48ca-e209-8e5d9157fd08"
      },
      "outputs": [],
      "source": [
        "df_movie[df_movie.duplicated(subset=[\"title\"], keep=False)].sort_values(by=[\"title\"])"
      ]
    },
    {
      "cell_type": "code",
      "execution_count": null,
      "metadata": {
        "colab": {
          "base_uri": "https://localhost:8080/",
          "height": 206
        },
        "id": "YJRm4z4y07Va",
        "outputId": "09c20954-d4a5-42a6-dd0a-7d535085f226"
      },
      "outputs": [],
      "source": [
        "df_movie[df_movie.duplicated(subset=[\"title\"], keep=\"first\")].sort_values(by=[\"title\"])"
      ]
    },
    {
      "cell_type": "code",
      "execution_count": null,
      "metadata": {
        "colab": {
          "base_uri": "https://localhost:8080/",
          "height": 206
        },
        "id": "Q2P60f8b1Fcj",
        "outputId": "ab3575e9-c446-4a3e-fec4-187f08433b60"
      },
      "outputs": [],
      "source": [
        "df_movie[df_movie.duplicated(subset=[\"title\"], keep=\"last\")].sort_values(by=[\"title\"])"
      ]
    },
    {
      "cell_type": "markdown",
      "metadata": {
        "id": "UCqFVQx96YiD"
      },
      "source": [
        "Different values of the parameter `keep` (`first`, `last`, `False`)\n",
        "- `keep=\"first\"` that is, retaining duplicate but minimal values (in this case, that value is the smallest `movieId`) and returns the largest duplicate values.\n",
        "- `keep=\"last\"` means retaining the largest but duplicate values (in this case, that value is the largest `movieId`) and returning the smallest duplicate values\n",
        "- `keep=False` means no value retained, returned in full\n",
        "\n",
        "Observing the above results, we see that the films have the same name but the column value`genre` is different. You can write code to keep movies that have longer`genre`. However, in this step we will do it manually. Can you write code to filter out movies with longer genres?"
      ]
    },
    {
      "cell_type": "code",
      "execution_count": null,
      "metadata": {
        "id": "TrCy7oRwa_KH"
      },
      "outputs": [],
      "source": [
        "# key is the deleted ID, value is the retained ID\n",
        "keep_dict = {\n",
        "   64997: 34048,\n",
        "   168358: 2851,\n",
        "   32600: 147002,\n",
        "   26958: 838,\n",
        "   6003: 144606\n",
        "}"
      ]
    },
    {
      "cell_type": "markdown",
      "metadata": {
        "id": "BXO__evK4iWg"
      },
      "source": [
        "We delete the duplicate `movieId` in `df_movie` with the command `~ isin`"
      ]
    },
    {
      "cell_type": "code",
      "execution_count": null,
      "metadata": {
        "id": "pZjDY0cUs2l_"
      },
      "outputs": [],
      "source": [
        "df_movie = df_movie[~ df_movie[\"movieId\"].isin(list(keep_dict.keys()))]"
      ]
    },
    {
      "cell_type": "code",
      "execution_count": null,
      "metadata": {
        "colab": {
          "base_uri": "https://localhost:8080/",
          "height": 49
        },
        "id": "twY9LdSn2CPz",
        "outputId": "2c89d020-8d25-43cb-bbf3-669aa3cf5eae"
      },
      "outputs": [],
      "source": [
        "df_movie[df_movie.duplicated(subset=[\"title\"], keep=False)].sort_values(by=[\"title\"])"
      ]
    },
    {
      "cell_type": "markdown",
      "metadata": {
        "id": "ztntVqlIuLw5"
      },
      "source": [
        "Then, we use the `replace` function to update the `movieId` in `df_rating`"
      ]
    },
    {
      "cell_type": "code",
      "execution_count": null,
      "metadata": {
        "id": "Cw-yD5J9tpIE"
      },
      "outputs": [],
      "source": [
        "df_rating[\"movieId\"].replace(keep_dict, inplace=True)"
      ]
    },
    {
      "cell_type": "markdown",
      "metadata": {
        "id": "91pYVWmF8_Pc"
      },
      "source": [
        "At this point, we have a new problem: after replacing `movieId`, `df_rating` has duplicate values in the `userId` and `movieId` columns."
      ]
    },
    {
      "cell_type": "code",
      "execution_count": null,
      "metadata": {
        "colab": {
          "base_uri": "https://localhost:8080/",
          "height": 300
        },
        "id": "on5KfmGKAt36",
        "outputId": "56855566-429e-4a91-b562-c6402393ee2f"
      },
      "outputs": [],
      "source": [
        "df_rating[df_rating.duplicated(subset=[\"userId\", \"movieId\"], keep=False)]"
      ]
    },
    {
      "cell_type": "markdown",
      "metadata": {
        "id": "6E3Pmfzs9nOm"
      },
      "source": [
        "We see that there are 2 cases here:\n",
        "- 1. The `user-movie` folder `68-34048` has 2 reviews with different scores $\\to$ we will keep the line with the larger `timestamp`\n",
        "- 2. For the remaining pairs, we just need to delete the 1 of 2\n",
        "\n",
        "For simplicity's sake, we`ll do step 1 manually, not write code"
      ]
    },
    {
      "cell_type": "code",
      "execution_count": null,
      "metadata": {
        "colab": {
          "base_uri": "https://localhost:8080/",
          "height": 238
        },
        "id": "YtVr9hZp_5Sh",
        "outputId": "e02ac917-d3e9-4d1e-bd5c-89c830b6bd5b"
      },
      "outputs": [],
      "source": [
        "# Another way to delete any line in DataFrame is to use the drop function and pass it to the index of the line to be deleted\n",
        "df_rating.drop([11241], axis=0, inplace=True)\n",
        "\n",
        "# print it out again for testing\n",
        "df_rating[df_rating.duplicated(subset=[\"userId\", \"movieId\"], keep=False)]"
      ]
    },
    {
      "cell_type": "code",
      "execution_count": null,
      "metadata": {
        "id": "KzqF4nIQBe_g"
      },
      "outputs": [],
      "source": [
        "# Delete remaining dupplicate lines with keep=\"last\"\n",
        "df_rating.drop_duplicates(subset=[\"userId\", \"movieId\"], keep=\"last\", inplace=True)"
      ]
    },
    {
      "cell_type": "code",
      "execution_count": null,
      "metadata": {
        "colab": {
          "base_uri": "https://localhost:8080/",
          "height": 49
        },
        "id": "MmFcAMWV3Eac",
        "outputId": "6379f167-7ce8-441b-8104-daefbd64abc6"
      },
      "outputs": [],
      "source": [
        "# Reprint for testing\n",
        "df_rating[df_rating.duplicated(subset=[\"userId\", \"movieId\"], keep=False)]"
      ]
    },
    {
      "cell_type": "markdown",
      "metadata": {
        "id": "8iVwBOOdRV7b"
      },
      "source": [
        "We only keep movies and users with 50 or more reviews as model training data.\n",
        "\n",
        "Steps to follow:\n",
        "\n",
        "1. We use the `value_counts` function to statistics the number of `movieIds`. The result of the `value_counts` function has\n",
        "  - `index`: the `movieId`\n",
        "  - `values`: the number of occurrences of the `movieId`\n",
        "2. From the result of the `value_counts` function we can find out which `movieIds` have `>= 50` occurrences to keep\n",
        "3. Do the same with the `userId`"
      ]
    },
    {
      "cell_type": "code",
      "execution_count": null,
      "metadata": {
        "id": "n2UMN-LcyyeT"
      },
      "outputs": [],
      "source": [
        "filter = df_rating[\"movieId\"].value_counts().values > 50\n",
        "indices = df_rating[\"movieId\"].value_counts().index[filter]\n",
        "df_rating = df_rating[df_rating[\"movieId\"].isin(indices)]\n",
        "\n",
        "filter = df_rating[\"userId\"].value_counts().values > 50\n",
        "indices = df_rating[\"userId\"].value_counts().index[filter]\n",
        "df_rating = df_rating[df_rating[\"userId\"].isin(indices)]\n",
        "\n",
        "df_movie = df_movie[df_movie[\"movieId\"].isin(df_rating[\"movieId\"].values)]"
      ]
    },
    {
      "cell_type": "markdown",
      "metadata": {
        "id": "DRp4_cDvjTiF"
      },
      "source": [
        "We check the number of movies and users remaining after filtering"
      ]
    },
    {
      "cell_type": "code",
      "execution_count": null,
      "metadata": {
        "colab": {
          "base_uri": "https://localhost:8080/"
        },
        "id": "M_PqiVpweKRo",
        "outputId": "e43514d2-bc1a-4a49-d984-92091af177fe"
      },
      "outputs": [],
      "source": [
        "len(df_rating['movieId'].unique())"
      ]
    },
    {
      "cell_type": "code",
      "execution_count": null,
      "metadata": {
        "colab": {
          "base_uri": "https://localhost:8080/"
        },
        "id": "I4afREKXX7pu",
        "outputId": "851b4b25-1bee-4d25-9420-7d9a6067add5"
      },
      "outputs": [],
      "source": [
        "len(df_rating['userId'].unique())"
      ]
    },
    {
      "cell_type": "markdown",
      "metadata": {
        "id": "TX5Hfujm2QO6"
      },
      "source": [
        "We use the `merge` function of pandas to combine 2 DataFrames `df_rating` and `df_movie`\n",
        "- The merge function will automatically find the common column between 2 DataFrames (in this case, **movieId**) to join those 2 DataFrames together"
      ]
    },
    {
      "cell_type": "code",
      "execution_count": null,
      "metadata": {
        "colab": {
          "base_uri": "https://localhost:8080/",
          "height": 206
        },
        "id": "RP6hbalo2nXF",
        "outputId": "7dd9fb55-1dae-4678-f28d-0c25b51fb13f"
      },
      "outputs": [],
      "source": [
        "df = pd.merge(df_rating, df_movie)\n",
        "df.head()"
      ]
    },
    {
      "cell_type": "code",
      "execution_count": null,
      "metadata": {
        "colab": {
          "base_uri": "https://localhost:8080/"
        },
        "id": "PVig7nBb4yHZ",
        "outputId": "20a51d15-49f6-455c-a57b-77360ebf38fa"
      },
      "outputs": [],
      "source": [
        "df.shape"
      ]
    },
    {
      "cell_type": "markdown",
      "metadata": {
        "id": "jopPJN2W3Z0R"
      },
      "source": [
        "Next, we use`LabelEncode` to transform`userI` and`movieI`"
      ]
    },
    {
      "cell_type": "code",
      "execution_count": null,
      "metadata": {
        "colab": {
          "base_uri": "https://localhost:8080/",
          "height": 206
        },
        "id": "my3UfpGM3mBh",
        "outputId": "321dc23b-8121-40d9-f1d9-838ef186a015"
      },
      "outputs": [],
      "source": [
        "from sklearn.preprocessing import LabelEncoder\n",
        "\n",
        "user_encoder = LabelEncoder()\n",
        "movie_encoder = LabelEncoder()\n",
        "\n",
        "user_encoder.fit(df[\"userId\"].unique())\n",
        "movie_encoder.fit(df[\"movieId\"].unique())\n",
        "\n",
        "df[\"userId\"] = user_encoder.transform(df[\"userId\"].values)\n",
        "df[\"movieId\"] = movie_encoder.transform(df[\"movieId\"].values)\n",
        "\n",
        "df.head()"
      ]
    },
    {
      "cell_type": "markdown",
      "metadata": {
        "id": "N2YmYbFu43h6"
      },
      "source": [
        "Number of users and movies"
      ]
    },
    {
      "cell_type": "code",
      "execution_count": null,
      "metadata": {
        "colab": {
          "base_uri": "https://localhost:8080/"
        },
        "id": "6tSAbgOT458I",
        "outputId": "4ca6a334-2fbe-4064-bcc1-8c99a4c2c887"
      },
      "outputs": [],
      "source": [
        "df[\"userId\"].unique().shape"
      ]
    },
    {
      "cell_type": "code",
      "execution_count": null,
      "metadata": {
        "colab": {
          "base_uri": "https://localhost:8080/"
        },
        "id": "B2wSX6GO49pr",
        "outputId": "c9b724a3-4981-448d-bc74-04ab86d8b2dd"
      },
      "outputs": [],
      "source": [
        "df[\"movieId\"].unique().shape"
      ]
    },
    {
      "cell_type": "markdown",
      "metadata": {
        "id": "tJyW9kpBAsEi"
      },
      "source": [
        "## Content-based Recommender System"
      ]
    },
    {
      "cell_type": "markdown",
      "metadata": {
        "id": "JHRCRAuZAu9i"
      },
      "source": [
        "With the Content-based Recommender System model, we need to build **n models** for **n users** in the system (each user has 1 unique model)\n",
        "\n",
        "We see that the above method will be very good if we have 1 set of standard features for each item and each user.\n",
        "\n",
        "In this dataset, we will use the genres column as a feature for each movie.\n",
        "- We have 19 film genres -> 19 featured, the value of which consists only of 0 or 1 representing zero or yes\n",
        "- We have 260 users > 260 models, each model consists of 19 weights and 1 bias, symbolizing the user's preferences for each genre of film.\n",
        "- The model will receive 19 features of any 1 movie and pay points for that movie.\n",
        "\n",
        "\n",
        "\n"
      ]
    },
    {
      "cell_type": "markdown",
      "metadata": {
        "id": "46Ia9MP_Bsgv"
      },
      "source": [
        "**Split the genres column into values 0, 1**"
      ]
    },
    {
      "cell_type": "code",
      "execution_count": null,
      "metadata": {
        "colab": {
          "base_uri": "https://localhost:8080/"
        },
        "id": "V8f6dLUZ9sDT",
        "outputId": "a5d89801-6c1a-4586-aac5-ec557f9137b7"
      },
      "outputs": [],
      "source": [
        "# Take out the values in the Genres column and convert it to Numpy Array\n",
        "genres = df[\"genres\"].values\n",
        "unique_genre = []\n",
        "\n",
        "for genre in genres:\n",
        "  temp = genre.split('|') # # Separate words by character |\n",
        "  for g in temp:\n",
        "    if g not in unique_genre:\n",
        "      unique_genre.append(g)\n",
        "\n",
        "\n",
        "unique_genre = sorted(unique_genre) # sorting in the aphabetical order\n",
        "\n",
        "print(unique_genre)\n",
        "print(len(unique_genre))"
      ]
    },
    {
      "cell_type": "markdown",
      "metadata": {
        "id": "uDviTyEfCYzC"
      },
      "source": [
        "Create a dictionary with **key** as `movieID` and **value** as values 0-1 corresponding to categories"
      ]
    },
    {
      "cell_type": "code",
      "execution_count": null,
      "metadata": {
        "colab": {
          "base_uri": "https://localhost:8080/"
        },
        "id": "6ZdH2BMpCARl",
        "outputId": "7685da87-8f7d-43cb-c35e-3934cdc52d85"
      },
      "outputs": [],
      "source": [
        "# Take out the values in the movieID column and convert it to Numpy Array\n",
        "ids = df[\"movieId\"].values\n",
        "movie_id_genre_mapping = {}\n",
        "\n",
        "\n",
        "for id, genre in zip(ids, genres):\n",
        "\n",
        "  temp = genre.split('|')\n",
        "  movie_id_genre_mapping[id] = np.zeros(len(unique_genre), dtype=int)  # Add key-value pair\n",
        "\n",
        "  for g in temp:\n",
        "    genre_index = unique_genre.index(g) # determine the index of the genre\n",
        "    movie_id_genre_mapping[id][genre_index] = 1 # assign value 1\n",
        "\n",
        "print(movie_id_genre_mapping[1])"
      ]
    },
    {
      "cell_type": "markdown",
      "metadata": {
        "id": "GxIrGivQCo5a"
      },
      "source": [
        "To create a DataFrame from 1 dictionary, we need that dict with the following structure\n",
        "```\n",
        "my_dict = {\n",
        "  'column_name_1': [] # contains all values of column 1,\n",
        "  'column_name_2': [] # contains all values of column 2,\n",
        "  'column_name_3': [] # contains all values of column 3,\n",
        "  ...\n",
        "}\n",
        "```\n",
        "We convert the dict `movie_id_genre_mapping` into the above format"
      ]
    },
    {
      "cell_type": "code",
      "execution_count": null,
      "metadata": {
        "colab": {
          "base_uri": "https://localhost:8080/"
        },
        "id": "SZAGEACQChx0",
        "outputId": "0464fd83-904f-4ec5-d8c1-f9dfbcd3babc"
      },
      "outputs": [],
      "source": [
        "genre_data = {'movieId': []}\n",
        "for genre in unique_genre:\n",
        "  genre_data[genre] = []\n",
        "print(genre_data)"
      ]
    },
    {
      "cell_type": "code",
      "execution_count": null,
      "metadata": {
        "colab": {
          "base_uri": "https://localhost:8080/"
        },
        "id": "bGOW0eeeCtHZ",
        "outputId": "b2afb6b4-0b3a-4ccf-f795-8e2c074c0182"
      },
      "outputs": [],
      "source": [
        "for key, value in movie_id_genre_mapping.items():\n",
        "  genre_data['movieId'].append(key)\n",
        "  for i, v in enumerate(value):\n",
        "    genre_data[unique_genre[i]].append(v)\n",
        "print(genre_data)"
      ]
    },
    {
      "cell_type": "markdown",
      "metadata": {
        "id": "skjTDHlNCveU"
      },
      "source": [
        "Create 1 DataFrame to contain genre columns"
      ]
    },
    {
      "cell_type": "code",
      "execution_count": null,
      "metadata": {
        "colab": {
          "base_uri": "https://localhost:8080/",
          "height": 288
        },
        "id": "K2i-0S8oCx7u",
        "outputId": "f2564071-945e-42bf-db3c-34db2c9b55ef"
      },
      "outputs": [],
      "source": [
        "df_genre = pd.DataFrame(data=genre_data)\n",
        "df_genre.head()"
      ]
    },
    {
      "cell_type": "markdown",
      "metadata": {
        "id": "dvBWZxfEC5mK"
      },
      "source": [
        "We use function `merge` from pandas to combine two DataFrame `df_genre` and `df`\n",
        "- Function `merge` will automoatically find the common columns of 2 Dataframes(**movieId** in this case) to concate two Dataframes together"
      ]
    },
    {
      "cell_type": "code",
      "execution_count": null,
      "metadata": {
        "colab": {
          "base_uri": "https://localhost:8080/",
          "height": 490
        },
        "id": "Ba5RcmgUCzoH",
        "outputId": "67e36de7-d10a-4ed4-8e50-b4c1e60fb60e"
      },
      "outputs": [],
      "source": [
        "df = pd.merge(df, df_genre)\n",
        "df.head()"
      ]
    },
    {
      "cell_type": "markdown",
      "metadata": {
        "id": "bL6DV5hkDmcb"
      },
      "source": [
        "### Step to perform Content-based Recommender System\n",
        "- Iterate through all users\n",
        "  - Get a list of movies and points that the user has rated\n",
        "  - Train the Linear Regression model separately for that user (please use the `sklearn` library to train Linear Regression for convenience)\n",
        "  - Save the model for that user."
      ]
    },
    {
      "cell_type": "markdown",
      "metadata": {
        "id": "c-qqQj32DrKX"
      },
      "source": [
        "First, we need information about which movies each user has rated with what scores and what are the characteristics of the movies\n",
        "\n",
        "We build a `get_user_training_data` function to do this\n",
        "- `database` in this case is `df`\n",
        "- Returns 3 `numpy arrays` containing movieIds, ratings and features respectively"
      ]
    },
    {
      "cell_type": "code",
      "execution_count": null,
      "metadata": {
        "id": "txnR358hDtwW"
      },
      "outputs": [],
      "source": [
        "def get_user_training_data(database, user_id):\n",
        "  filter = (database[\"userId\"] == user_id)\n",
        "  movie_ids = database[filter][\"movieId\"].values\n",
        "  ratings = database[filter][\"rating\"].values\n",
        "  # taken from the 6th column onwards for features\n",
        "  features = database[filter].iloc[:, 6:].values\n",
        "  return movie_ids, ratings, features"
      ]
    },
    {
      "cell_type": "markdown",
      "metadata": {
        "id": "ZZg2r4FW6-zd"
      },
      "source": [
        "Call functions to test"
      ]
    },
    {
      "cell_type": "code",
      "execution_count": null,
      "metadata": {
        "colab": {
          "base_uri": "https://localhost:8080/"
        },
        "id": "yjLrA53u7Ach",
        "outputId": "1a309490-36e6-42cf-e1aa-04ec8fe69d0b"
      },
      "outputs": [],
      "source": [
        "test = get_user_training_data(df, user_id=2)\n",
        "print(test[0].shape) # movieId\n",
        "print(test[1].shape) # rating\n",
        "print(test[2].shape) # list of movies' features"
      ]
    },
    {
      "cell_type": "markdown",
      "metadata": {
        "id": "VQ39nrogD5hs"
      },
      "source": [
        "#### TODO 1 (5 pts)\n",
        "\n",
        "Implement the Content-based Recommender System following the steps described above (use `LinearRegression` from `sklearn`)"
      ]
    },
    {
      "cell_type": "code",
      "execution_count": null,
      "metadata": {
        "colab": {
          "base_uri": "https://localhost:8080/"
        },
        "id": "2Tir79GKDCwo",
        "outputId": "44bcb822-7d95-4841-f2c9-b10ce7f5630e"
      },
      "outputs": [],
      "source": [
        "# YOUR SOLUTION"
      ]
    },
    {
      "cell_type": "markdown",
      "metadata": {
        "id": "HB4HNPIRG5jC"
      },
      "source": [
        "So we have the whole model to predict the score for each user.\n",
        "\n",
        "To suggest movies for any 1 user, we do the following steps:\n",
        "- Find ids of movies that users have not reviewed\n",
        "- Take out the featured set of those films\n",
        "- Use the model with the corresponding key in `all_model` to predict the score\n",
        "- If the movie is predicted high score $→$ suggest that movie to the user\n",
        "\n",
        "In fact:\n",
        "- If we find predicting points difficult, we can predict whether the user will like the movie or not (based on the `rating` to create the Like/Dislike column and then use LogisticRegression to do it)\n",
        "- I will not train the model on the entire series that the user has evaluated, but will split it into 2 episodes of Train and Test in an 80-20 ratio. Then train on Train and evaluate on Test"
      ]
    },
    {
      "cell_type": "markdown",
      "metadata": {
        "id": "YGYOUi_PHKHf"
      },
      "source": [
        "## Item-based Collaborative Filtering"
      ]
    },
    {
      "cell_type": "markdown",
      "metadata": {
        "id": "Hj5mTS_yHMa_"
      },
      "source": [
        "Look at the image carefully to understand the logic\n",
        "\n",
        "![](https://i.imgur.com/HEqxtJF.png)"
      ]
    },
    {
      "cell_type": "markdown",
      "metadata": {
        "id": "6jbr2ASWHSmo"
      },
      "source": [
        "We create a Word Utility Matrix using the function `pivot_table`\n",
        "- `index`: rows\n",
        "- `columns`: columns"
      ]
    },
    {
      "cell_type": "code",
      "execution_count": null,
      "metadata": {
        "id": "FuPhXQtPtrZY"
      },
      "outputs": [],
      "source": [
        "utility_matrix = df.pivot_table(index=['movieId'], columns=['userId'], values='rating').reset_index(drop=True)\n",
        "utility_matrix"
      ]
    },
    {
      "cell_type": "code",
      "execution_count": null,
      "metadata": {
        "colab": {
          "base_uri": "https://localhost:8080/"
        },
        "id": "9NUWGYEREGi_",
        "outputId": "56c10643-a5c8-4dcb-f98b-bc9e2baaed43"
      },
      "outputs": [
        {
          "name": "stdout",
          "output_type": "stream",
          "text": [
            "(436, 260)\n"
          ]
        }
      ],
      "source": [
        "# create utility matrix\n",
        "utility_matrix = df.pivot_table(index=['movieId'], columns=['userId'], values='rating').reset_index(drop=True)\n",
        "\n",
        "# fill empty values with 0\n",
        "utility_matrix.fillna(0, inplace=True)\n",
        "\n",
        "# convert DataFrame to numpy array\n",
        "utility_matrix = utility_matrix.values\n",
        "print(utility_matrix.shape)"
      ]
    },
    {
      "cell_type": "markdown",
      "metadata": {
        "id": "OSL-AwGZH2pd"
      },
      "source": [
        "Function to compute consine similarity for two vectors"
      ]
    },
    {
      "cell_type": "code",
      "execution_count": null,
      "metadata": {
        "id": "tY5FDmXmH154"
      },
      "outputs": [],
      "source": [
        "def cosine(a, b):\n",
        "  # to avoid denominator = 0 --> add a very samll number call epsilon to the denominator\n",
        "  return a.dot(b) / ((np.linalg.norm(a) * np.linalg.norm(b)) + np.finfo(np.float64).eps)"
      ]
    },
    {
      "cell_type": "markdown",
      "metadata": {
        "id": "Q-cz2CGCH1Ek"
      },
      "source": [
        "Compute item-to-item similarity matrix"
      ]
    },
    {
      "cell_type": "code",
      "execution_count": null,
      "metadata": {
        "colab": {
          "base_uri": "https://localhost:8080/",
          "height": 49,
          "referenced_widgets": [
            "450452adee5b4ab0b720d0b36b056875",
            "ce2ba1f18b834a28a62215ec5898d15f",
            "45c9c7a4394444da92fa35d3930c801c",
            "dc10b08ed08e4ba398133666eea1c488",
            "d726f3c46593490798dd832d44a205b3",
            "8d1a42e2e8714841a7bd6dfb753d8ada",
            "d47947e94c1349408e526bf339819196",
            "14076277abbb4c828b423402aede9d89",
            "beb8e663251a4a5d90fc14c076242ea5",
            "e45fff22f8b34424bdfbde343fc5af0c",
            "a53ee520b64c4ef790ecf56f3b4736df"
          ]
        },
        "id": "O6nENlExH_Nu",
        "outputId": "5869eaec-94f0-4b65-8775-53004f3fdbe7"
      },
      "outputs": [],
      "source": [
        "from tqdm.notebook import tqdm\n",
        "\n",
        "movie_len = df[\"movieId\"].unique().shape[0]\n",
        "\n",
        "# Create a square matrix with a shape equal to the number of films containing only zero\n",
        "item_to_item_similarity_matrix = np.zeros((movie_len, movie_len))\n",
        "\n",
        "for i in tqdm(range(movie_len)):\n",
        "  for j in range(movie_len):\n",
        "\n",
        "    # Take out one pair of item\n",
        "    item_1 = utility_matrix[i]\n",
        "    item_2 = utility_matrix[j]\n",
        "\n",
        "    # Find rating > 0 of each item\n",
        "    index_not_zero = (item_1 > 0) & (item_2 > 0)\n",
        "\n",
        "    # Compute the cosine similarity and assign to the similarity/square matrix\n",
        "    item_to_item_similarity_matrix[i,j] = cosine(item_1[index_not_zero], item_2[index_not_zero])"
      ]
    },
    {
      "cell_type": "markdown",
      "metadata": {
        "id": "of4pUpBgIS10"
      },
      "source": [
        "Check if the diagonal of the `item_to_item_similarity_matrix` is equal to 1."
      ]
    },
    {
      "cell_type": "code",
      "execution_count": null,
      "metadata": {
        "colab": {
          "base_uri": "https://localhost:8080/"
        },
        "id": "WPhW7HACIOgi",
        "outputId": "fc23b00e-d3ea-45bf-8f0b-037fa8880dce"
      },
      "outputs": [],
      "source": [
        "item_to_item_similarity_matrix.diagonal()"
      ]
    },
    {
      "cell_type": "markdown",
      "metadata": {
        "id": "ELLIGAJFTX1u"
      },
      "source": [
        "We take out the positions in `utility_matrix` where there is `rating=0`"
      ]
    },
    {
      "cell_type": "code",
      "execution_count": null,
      "metadata": {
        "colab": {
          "base_uri": "https://localhost:8080/"
        },
        "id": "EzsnPIF7TjXU",
        "outputId": "27fe8b5c-d9b2-40ac-fb4a-4a119dff3cb0"
      },
      "outputs": [],
      "source": [
        "zero_rating_indices = np.where(utility_matrix == 0)\n",
        "zero_rating_indices"
      ]
    },
    {
      "cell_type": "markdown",
      "metadata": {
        "id": "YKNGCAsITm-x"
      },
      "source": [
        "Variable `zero_rating_indices` above return 2 arrays, corresponding with each of pair of (row-column) values in which value in `utility_matrix` is 0"
      ]
    },
    {
      "cell_type": "markdown",
      "metadata": {
        "id": "dgUk4KQETJgd"
      },
      "source": [
        "#### TODO 2 (5 pts)\n",
        "- Think about how to do step 3 of the Item-based Collaborative Filtering method. After calculating the score, you need to reassign it to the corresponding box in `utility_matrix`\n",
        "- Hints:\n",
        "  - Variables in use include `zero_rating_indices`, `item_to_item_similarity_matrix`\n",
        "  -  When applying the formula in step 3, to avoid the denominator being zero, we add to the denominator 1 a very small number `np.finfo(np.float64).eps`\n"
      ]
    },
    {
      "cell_type": "code",
      "execution_count": null,
      "metadata": {
        "id": "Fxirxq-FIWK3"
      },
      "outputs": [],
      "source": [
        "# YOUR SOLUTION\n"
      ]
    },
    {
      "cell_type": "markdown",
      "metadata": {
        "id": "3A59fLmmTszs"
      },
      "source": [
        "So we have the complete Utility Matrix. We can use the heatmap to view"
      ]
    },
    {
      "cell_type": "code",
      "execution_count": null,
      "metadata": {
        "colab": {
          "base_uri": "https://localhost:8080/",
          "height": 702
        },
        "id": "HwZ5SJFzTpmo",
        "outputId": "584c169c-af30-4446-e54c-559980cff96d"
      },
      "outputs": [],
      "source": [
        "# YOUR SOLUTION"
      ]
    },
    {
      "cell_type": "markdown",
      "metadata": {
        "id": "XD_ciV70TwbS"
      },
      "source": [
        "At this point, we can reapply the Content-based method above to find a unique suggestion model for each user.\n",
        "\n",
        "refer to the code above to try the User-based method.\n"
      ]
    },
    {
      "cell_type": "code",
      "execution_count": null,
      "metadata": {
        "colab": {
          "base_uri": "https://localhost:8080/"
        },
        "id": "pZb5GmxvNS4l",
        "outputId": "54856c23-7d45-47d6-d858-7e07c78d3c09"
      },
      "outputs": [],
      "source": [
        "# YOUR SOLUTION"
      ]
    }
  ],
  "metadata": {
    "colab": {
      "provenance": [],
      "toc_visible": true
    },
    "kernelspec": {
      "display_name": "Python 3",
      "name": "python3"
    },
    "language_info": {
      "codemirror_mode": {
        "name": "ipython",
        "version": 3
      },
      "file_extension": ".py",
      "mimetype": "text/x-python",
      "name": "python",
      "nbconvert_exporter": "python",
      "pygments_lexer": "ipython3",
      "version": "3.10.2"
    },
    "widgets": {
      "application/vnd.jupyter.widget-state+json": {
        "14076277abbb4c828b423402aede9d89": {
          "model_module": "@jupyter-widgets/base",
          "model_module_version": "1.2.0",
          "model_name": "LayoutModel",
          "state": {
            "_model_module": "@jupyter-widgets/base",
            "_model_module_version": "1.2.0",
            "_model_name": "LayoutModel",
            "_view_count": null,
            "_view_module": "@jupyter-widgets/base",
            "_view_module_version": "1.2.0",
            "_view_name": "LayoutView",
            "align_content": null,
            "align_items": null,
            "align_self": null,
            "border": null,
            "bottom": null,
            "display": null,
            "flex": null,
            "flex_flow": null,
            "grid_area": null,
            "grid_auto_columns": null,
            "grid_auto_flow": null,
            "grid_auto_rows": null,
            "grid_column": null,
            "grid_gap": null,
            "grid_row": null,
            "grid_template_areas": null,
            "grid_template_columns": null,
            "grid_template_rows": null,
            "height": null,
            "justify_content": null,
            "justify_items": null,
            "left": null,
            "margin": null,
            "max_height": null,
            "max_width": null,
            "min_height": null,
            "min_width": null,
            "object_fit": null,
            "object_position": null,
            "order": null,
            "overflow": null,
            "overflow_x": null,
            "overflow_y": null,
            "padding": null,
            "right": null,
            "top": null,
            "visibility": null,
            "width": null
          }
        },
        "450452adee5b4ab0b720d0b36b056875": {
          "model_module": "@jupyter-widgets/controls",
          "model_module_version": "1.5.0",
          "model_name": "HBoxModel",
          "state": {
            "_dom_classes": [],
            "_model_module": "@jupyter-widgets/controls",
            "_model_module_version": "1.5.0",
            "_model_name": "HBoxModel",
            "_view_count": null,
            "_view_module": "@jupyter-widgets/controls",
            "_view_module_version": "1.5.0",
            "_view_name": "HBoxView",
            "box_style": "",
            "children": [
              "IPY_MODEL_ce2ba1f18b834a28a62215ec5898d15f",
              "IPY_MODEL_45c9c7a4394444da92fa35d3930c801c",
              "IPY_MODEL_dc10b08ed08e4ba398133666eea1c488"
            ],
            "layout": "IPY_MODEL_d726f3c46593490798dd832d44a205b3"
          }
        },
        "45c9c7a4394444da92fa35d3930c801c": {
          "model_module": "@jupyter-widgets/controls",
          "model_module_version": "1.5.0",
          "model_name": "FloatProgressModel",
          "state": {
            "_dom_classes": [],
            "_model_module": "@jupyter-widgets/controls",
            "_model_module_version": "1.5.0",
            "_model_name": "FloatProgressModel",
            "_view_count": null,
            "_view_module": "@jupyter-widgets/controls",
            "_view_module_version": "1.5.0",
            "_view_name": "ProgressView",
            "bar_style": "success",
            "description": "",
            "description_tooltip": null,
            "layout": "IPY_MODEL_14076277abbb4c828b423402aede9d89",
            "max": 436,
            "min": 0,
            "orientation": "horizontal",
            "style": "IPY_MODEL_beb8e663251a4a5d90fc14c076242ea5",
            "value": 436
          }
        },
        "59cf283cb99e4a019ae02ba5ceb6697f": {
          "model_module": "@jupyter-widgets/controls",
          "model_module_version": "1.5.0",
          "model_name": "ProgressStyleModel",
          "state": {
            "_model_module": "@jupyter-widgets/controls",
            "_model_module_version": "1.5.0",
            "_model_name": "ProgressStyleModel",
            "_view_count": null,
            "_view_module": "@jupyter-widgets/base",
            "_view_module_version": "1.2.0",
            "_view_name": "StyleView",
            "bar_color": null,
            "description_width": ""
          }
        },
        "6fa415b0853c43d8bfb1c86c64938a25": {
          "model_module": "@jupyter-widgets/controls",
          "model_module_version": "1.5.0",
          "model_name": "FloatProgressModel",
          "state": {
            "_dom_classes": [],
            "_model_module": "@jupyter-widgets/controls",
            "_model_module_version": "1.5.0",
            "_model_name": "FloatProgressModel",
            "_view_count": null,
            "_view_module": "@jupyter-widgets/controls",
            "_view_module_version": "1.5.0",
            "_view_name": "ProgressView",
            "bar_style": "success",
            "description": "",
            "description_tooltip": null,
            "layout": "IPY_MODEL_bc83b607605d4cf9aa1213c72f131a06",
            "max": 260,
            "min": 0,
            "orientation": "horizontal",
            "style": "IPY_MODEL_59cf283cb99e4a019ae02ba5ceb6697f",
            "value": 260
          }
        },
        "8d1a42e2e8714841a7bd6dfb753d8ada": {
          "model_module": "@jupyter-widgets/base",
          "model_module_version": "1.2.0",
          "model_name": "LayoutModel",
          "state": {
            "_model_module": "@jupyter-widgets/base",
            "_model_module_version": "1.2.0",
            "_model_name": "LayoutModel",
            "_view_count": null,
            "_view_module": "@jupyter-widgets/base",
            "_view_module_version": "1.2.0",
            "_view_name": "LayoutView",
            "align_content": null,
            "align_items": null,
            "align_self": null,
            "border": null,
            "bottom": null,
            "display": null,
            "flex": null,
            "flex_flow": null,
            "grid_area": null,
            "grid_auto_columns": null,
            "grid_auto_flow": null,
            "grid_auto_rows": null,
            "grid_column": null,
            "grid_gap": null,
            "grid_row": null,
            "grid_template_areas": null,
            "grid_template_columns": null,
            "grid_template_rows": null,
            "height": null,
            "justify_content": null,
            "justify_items": null,
            "left": null,
            "margin": null,
            "max_height": null,
            "max_width": null,
            "min_height": null,
            "min_width": null,
            "object_fit": null,
            "object_position": null,
            "order": null,
            "overflow": null,
            "overflow_x": null,
            "overflow_y": null,
            "padding": null,
            "right": null,
            "top": null,
            "visibility": null,
            "width": null
          }
        },
        "9191d76f821345308a4b381ccbe1643e": {
          "model_module": "@jupyter-widgets/controls",
          "model_module_version": "1.5.0",
          "model_name": "HTMLModel",
          "state": {
            "_dom_classes": [],
            "_model_module": "@jupyter-widgets/controls",
            "_model_module_version": "1.5.0",
            "_model_name": "HTMLModel",
            "_view_count": null,
            "_view_module": "@jupyter-widgets/controls",
            "_view_module_version": "1.5.0",
            "_view_name": "HTMLView",
            "description": "",
            "description_tooltip": null,
            "layout": "IPY_MODEL_cb285504e49c447394c388fc2653ce8c",
            "placeholder": "​",
            "style": "IPY_MODEL_adea889edbf84f76b7a42d85d3087187",
            "value": "100%"
          }
        },
        "a53ee520b64c4ef790ecf56f3b4736df": {
          "model_module": "@jupyter-widgets/controls",
          "model_module_version": "1.5.0",
          "model_name": "DescriptionStyleModel",
          "state": {
            "_model_module": "@jupyter-widgets/controls",
            "_model_module_version": "1.5.0",
            "_model_name": "DescriptionStyleModel",
            "_view_count": null,
            "_view_module": "@jupyter-widgets/base",
            "_view_module_version": "1.2.0",
            "_view_name": "StyleView",
            "description_width": ""
          }
        },
        "a6c76938832e460ba1b378e5a16987d4": {
          "model_module": "@jupyter-widgets/controls",
          "model_module_version": "1.5.0",
          "model_name": "DescriptionStyleModel",
          "state": {
            "_model_module": "@jupyter-widgets/controls",
            "_model_module_version": "1.5.0",
            "_model_name": "DescriptionStyleModel",
            "_view_count": null,
            "_view_module": "@jupyter-widgets/base",
            "_view_module_version": "1.2.0",
            "_view_name": "StyleView",
            "description_width": ""
          }
        },
        "adea889edbf84f76b7a42d85d3087187": {
          "model_module": "@jupyter-widgets/controls",
          "model_module_version": "1.5.0",
          "model_name": "DescriptionStyleModel",
          "state": {
            "_model_module": "@jupyter-widgets/controls",
            "_model_module_version": "1.5.0",
            "_model_name": "DescriptionStyleModel",
            "_view_count": null,
            "_view_module": "@jupyter-widgets/base",
            "_view_module_version": "1.2.0",
            "_view_name": "StyleView",
            "description_width": ""
          }
        },
        "bc83b607605d4cf9aa1213c72f131a06": {
          "model_module": "@jupyter-widgets/base",
          "model_module_version": "1.2.0",
          "model_name": "LayoutModel",
          "state": {
            "_model_module": "@jupyter-widgets/base",
            "_model_module_version": "1.2.0",
            "_model_name": "LayoutModel",
            "_view_count": null,
            "_view_module": "@jupyter-widgets/base",
            "_view_module_version": "1.2.0",
            "_view_name": "LayoutView",
            "align_content": null,
            "align_items": null,
            "align_self": null,
            "border": null,
            "bottom": null,
            "display": null,
            "flex": null,
            "flex_flow": null,
            "grid_area": null,
            "grid_auto_columns": null,
            "grid_auto_flow": null,
            "grid_auto_rows": null,
            "grid_column": null,
            "grid_gap": null,
            "grid_row": null,
            "grid_template_areas": null,
            "grid_template_columns": null,
            "grid_template_rows": null,
            "height": null,
            "justify_content": null,
            "justify_items": null,
            "left": null,
            "margin": null,
            "max_height": null,
            "max_width": null,
            "min_height": null,
            "min_width": null,
            "object_fit": null,
            "object_position": null,
            "order": null,
            "overflow": null,
            "overflow_x": null,
            "overflow_y": null,
            "padding": null,
            "right": null,
            "top": null,
            "visibility": null,
            "width": null
          }
        },
        "beb8e663251a4a5d90fc14c076242ea5": {
          "model_module": "@jupyter-widgets/controls",
          "model_module_version": "1.5.0",
          "model_name": "ProgressStyleModel",
          "state": {
            "_model_module": "@jupyter-widgets/controls",
            "_model_module_version": "1.5.0",
            "_model_name": "ProgressStyleModel",
            "_view_count": null,
            "_view_module": "@jupyter-widgets/base",
            "_view_module_version": "1.2.0",
            "_view_name": "StyleView",
            "bar_color": null,
            "description_width": ""
          }
        },
        "c0ce3bdb7a3644c986e41f44d9cb7c09": {
          "model_module": "@jupyter-widgets/controls",
          "model_module_version": "1.5.0",
          "model_name": "HTMLModel",
          "state": {
            "_dom_classes": [],
            "_model_module": "@jupyter-widgets/controls",
            "_model_module_version": "1.5.0",
            "_model_name": "HTMLModel",
            "_view_count": null,
            "_view_module": "@jupyter-widgets/controls",
            "_view_module_version": "1.5.0",
            "_view_name": "HTMLView",
            "description": "",
            "description_tooltip": null,
            "layout": "IPY_MODEL_cbe32d748d554afeabb0793b8a56cfc7",
            "placeholder": "​",
            "style": "IPY_MODEL_a6c76938832e460ba1b378e5a16987d4",
            "value": " 260/260 [00:01&lt;00:00, 155.54it/s]"
          }
        },
        "c6bc67cf490b4c9190253bf84b6381db": {
          "model_module": "@jupyter-widgets/controls",
          "model_module_version": "1.5.0",
          "model_name": "HBoxModel",
          "state": {
            "_dom_classes": [],
            "_model_module": "@jupyter-widgets/controls",
            "_model_module_version": "1.5.0",
            "_model_name": "HBoxModel",
            "_view_count": null,
            "_view_module": "@jupyter-widgets/controls",
            "_view_module_version": "1.5.0",
            "_view_name": "HBoxView",
            "box_style": "",
            "children": [
              "IPY_MODEL_9191d76f821345308a4b381ccbe1643e",
              "IPY_MODEL_6fa415b0853c43d8bfb1c86c64938a25",
              "IPY_MODEL_c0ce3bdb7a3644c986e41f44d9cb7c09"
            ],
            "layout": "IPY_MODEL_d2355d58ecc74e43abe3959d95cc902b"
          }
        },
        "cb285504e49c447394c388fc2653ce8c": {
          "model_module": "@jupyter-widgets/base",
          "model_module_version": "1.2.0",
          "model_name": "LayoutModel",
          "state": {
            "_model_module": "@jupyter-widgets/base",
            "_model_module_version": "1.2.0",
            "_model_name": "LayoutModel",
            "_view_count": null,
            "_view_module": "@jupyter-widgets/base",
            "_view_module_version": "1.2.0",
            "_view_name": "LayoutView",
            "align_content": null,
            "align_items": null,
            "align_self": null,
            "border": null,
            "bottom": null,
            "display": null,
            "flex": null,
            "flex_flow": null,
            "grid_area": null,
            "grid_auto_columns": null,
            "grid_auto_flow": null,
            "grid_auto_rows": null,
            "grid_column": null,
            "grid_gap": null,
            "grid_row": null,
            "grid_template_areas": null,
            "grid_template_columns": null,
            "grid_template_rows": null,
            "height": null,
            "justify_content": null,
            "justify_items": null,
            "left": null,
            "margin": null,
            "max_height": null,
            "max_width": null,
            "min_height": null,
            "min_width": null,
            "object_fit": null,
            "object_position": null,
            "order": null,
            "overflow": null,
            "overflow_x": null,
            "overflow_y": null,
            "padding": null,
            "right": null,
            "top": null,
            "visibility": null,
            "width": null
          }
        },
        "cbe32d748d554afeabb0793b8a56cfc7": {
          "model_module": "@jupyter-widgets/base",
          "model_module_version": "1.2.0",
          "model_name": "LayoutModel",
          "state": {
            "_model_module": "@jupyter-widgets/base",
            "_model_module_version": "1.2.0",
            "_model_name": "LayoutModel",
            "_view_count": null,
            "_view_module": "@jupyter-widgets/base",
            "_view_module_version": "1.2.0",
            "_view_name": "LayoutView",
            "align_content": null,
            "align_items": null,
            "align_self": null,
            "border": null,
            "bottom": null,
            "display": null,
            "flex": null,
            "flex_flow": null,
            "grid_area": null,
            "grid_auto_columns": null,
            "grid_auto_flow": null,
            "grid_auto_rows": null,
            "grid_column": null,
            "grid_gap": null,
            "grid_row": null,
            "grid_template_areas": null,
            "grid_template_columns": null,
            "grid_template_rows": null,
            "height": null,
            "justify_content": null,
            "justify_items": null,
            "left": null,
            "margin": null,
            "max_height": null,
            "max_width": null,
            "min_height": null,
            "min_width": null,
            "object_fit": null,
            "object_position": null,
            "order": null,
            "overflow": null,
            "overflow_x": null,
            "overflow_y": null,
            "padding": null,
            "right": null,
            "top": null,
            "visibility": null,
            "width": null
          }
        },
        "ce2ba1f18b834a28a62215ec5898d15f": {
          "model_module": "@jupyter-widgets/controls",
          "model_module_version": "1.5.0",
          "model_name": "HTMLModel",
          "state": {
            "_dom_classes": [],
            "_model_module": "@jupyter-widgets/controls",
            "_model_module_version": "1.5.0",
            "_model_name": "HTMLModel",
            "_view_count": null,
            "_view_module": "@jupyter-widgets/controls",
            "_view_module_version": "1.5.0",
            "_view_name": "HTMLView",
            "description": "",
            "description_tooltip": null,
            "layout": "IPY_MODEL_8d1a42e2e8714841a7bd6dfb753d8ada",
            "placeholder": "​",
            "style": "IPY_MODEL_d47947e94c1349408e526bf339819196",
            "value": "100%"
          }
        },
        "d2355d58ecc74e43abe3959d95cc902b": {
          "model_module": "@jupyter-widgets/base",
          "model_module_version": "1.2.0",
          "model_name": "LayoutModel",
          "state": {
            "_model_module": "@jupyter-widgets/base",
            "_model_module_version": "1.2.0",
            "_model_name": "LayoutModel",
            "_view_count": null,
            "_view_module": "@jupyter-widgets/base",
            "_view_module_version": "1.2.0",
            "_view_name": "LayoutView",
            "align_content": null,
            "align_items": null,
            "align_self": null,
            "border": null,
            "bottom": null,
            "display": null,
            "flex": null,
            "flex_flow": null,
            "grid_area": null,
            "grid_auto_columns": null,
            "grid_auto_flow": null,
            "grid_auto_rows": null,
            "grid_column": null,
            "grid_gap": null,
            "grid_row": null,
            "grid_template_areas": null,
            "grid_template_columns": null,
            "grid_template_rows": null,
            "height": null,
            "justify_content": null,
            "justify_items": null,
            "left": null,
            "margin": null,
            "max_height": null,
            "max_width": null,
            "min_height": null,
            "min_width": null,
            "object_fit": null,
            "object_position": null,
            "order": null,
            "overflow": null,
            "overflow_x": null,
            "overflow_y": null,
            "padding": null,
            "right": null,
            "top": null,
            "visibility": null,
            "width": null
          }
        },
        "d47947e94c1349408e526bf339819196": {
          "model_module": "@jupyter-widgets/controls",
          "model_module_version": "1.5.0",
          "model_name": "DescriptionStyleModel",
          "state": {
            "_model_module": "@jupyter-widgets/controls",
            "_model_module_version": "1.5.0",
            "_model_name": "DescriptionStyleModel",
            "_view_count": null,
            "_view_module": "@jupyter-widgets/base",
            "_view_module_version": "1.2.0",
            "_view_name": "StyleView",
            "description_width": ""
          }
        },
        "d726f3c46593490798dd832d44a205b3": {
          "model_module": "@jupyter-widgets/base",
          "model_module_version": "1.2.0",
          "model_name": "LayoutModel",
          "state": {
            "_model_module": "@jupyter-widgets/base",
            "_model_module_version": "1.2.0",
            "_model_name": "LayoutModel",
            "_view_count": null,
            "_view_module": "@jupyter-widgets/base",
            "_view_module_version": "1.2.0",
            "_view_name": "LayoutView",
            "align_content": null,
            "align_items": null,
            "align_self": null,
            "border": null,
            "bottom": null,
            "display": null,
            "flex": null,
            "flex_flow": null,
            "grid_area": null,
            "grid_auto_columns": null,
            "grid_auto_flow": null,
            "grid_auto_rows": null,
            "grid_column": null,
            "grid_gap": null,
            "grid_row": null,
            "grid_template_areas": null,
            "grid_template_columns": null,
            "grid_template_rows": null,
            "height": null,
            "justify_content": null,
            "justify_items": null,
            "left": null,
            "margin": null,
            "max_height": null,
            "max_width": null,
            "min_height": null,
            "min_width": null,
            "object_fit": null,
            "object_position": null,
            "order": null,
            "overflow": null,
            "overflow_x": null,
            "overflow_y": null,
            "padding": null,
            "right": null,
            "top": null,
            "visibility": null,
            "width": null
          }
        },
        "dc10b08ed08e4ba398133666eea1c488": {
          "model_module": "@jupyter-widgets/controls",
          "model_module_version": "1.5.0",
          "model_name": "HTMLModel",
          "state": {
            "_dom_classes": [],
            "_model_module": "@jupyter-widgets/controls",
            "_model_module_version": "1.5.0",
            "_model_name": "HTMLModel",
            "_view_count": null,
            "_view_module": "@jupyter-widgets/controls",
            "_view_module_version": "1.5.0",
            "_view_name": "HTMLView",
            "description": "",
            "description_tooltip": null,
            "layout": "IPY_MODEL_e45fff22f8b34424bdfbde343fc5af0c",
            "placeholder": "​",
            "style": "IPY_MODEL_a53ee520b64c4ef790ecf56f3b4736df",
            "value": " 436/436 [00:05&lt;00:00, 92.40it/s]"
          }
        },
        "e45fff22f8b34424bdfbde343fc5af0c": {
          "model_module": "@jupyter-widgets/base",
          "model_module_version": "1.2.0",
          "model_name": "LayoutModel",
          "state": {
            "_model_module": "@jupyter-widgets/base",
            "_model_module_version": "1.2.0",
            "_model_name": "LayoutModel",
            "_view_count": null,
            "_view_module": "@jupyter-widgets/base",
            "_view_module_version": "1.2.0",
            "_view_name": "LayoutView",
            "align_content": null,
            "align_items": null,
            "align_self": null,
            "border": null,
            "bottom": null,
            "display": null,
            "flex": null,
            "flex_flow": null,
            "grid_area": null,
            "grid_auto_columns": null,
            "grid_auto_flow": null,
            "grid_auto_rows": null,
            "grid_column": null,
            "grid_gap": null,
            "grid_row": null,
            "grid_template_areas": null,
            "grid_template_columns": null,
            "grid_template_rows": null,
            "height": null,
            "justify_content": null,
            "justify_items": null,
            "left": null,
            "margin": null,
            "max_height": null,
            "max_width": null,
            "min_height": null,
            "min_width": null,
            "object_fit": null,
            "object_position": null,
            "order": null,
            "overflow": null,
            "overflow_x": null,
            "overflow_y": null,
            "padding": null,
            "right": null,
            "top": null,
            "visibility": null,
            "width": null
          }
        }
      }
    }
  },
  "nbformat": 4,
  "nbformat_minor": 0
}
