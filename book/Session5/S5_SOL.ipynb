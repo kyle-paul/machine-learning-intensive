{
  "cells": [
    {
      "cell_type": "markdown",
      "metadata": {
        "id": "w8rMQGrU_Ct0"
      },
      "source": [
        "# Session 5: Coding Solution\n",
        "\n",
        "```{contents}\n",
        "\n",
        "```"
      ]
    },
    {
      "cell_type": "markdown",
      "metadata": {
        "id": "S_gZHKSvM-VQ"
      },
      "source": [
        "## The mechanism of Dropout Layer"
      ]
    },
    {
      "cell_type": "markdown",
      "metadata": {
        "id": "V_tKwaP3M837"
      },
      "source": [
        "```python\n",
        "from tensorflow.keras.layers import Input, Dense, Dropout\n",
        "from tensorflow.keras.models import Sequential\n",
        "\n",
        "model = Sequential()\n",
        "model.add(Input(...))\n",
        "model.add(Dense(...)) # no activation\n",
        "model.add(Dropout(0.2))\n",
        "model.add(Activation(...))\n",
        "```\n",
        "\n",
        "In the above exmaple, we create an layer `dropout_rate = 0.2`.\n",
        "\n",
        "That is, `each unit` in the Dense layer will have a 20% probability of being assigned to the value = 0.\n",
        "\n",
        "The remaining numbers will be scaled up according to the formula\n",
        "\n",
        "$$\n",
        "\\text{new value} = \\text{old value} * \\frac{1}{1-\\text{rate}}\n",
        "$$\n",
        "\n",
        "Let's go through the detailed example below to better understand"
      ]
    },
    {
      "cell_type": "code",
      "execution_count": null,
      "metadata": {
        "id": "_mtDstCAOC8z"
      },
      "outputs": [],
      "source": [
        "from tensorflow.random import set_seed\n",
        "from tensorflow.keras.layers import Dropout\n",
        "\n",
        "layer = Dropout(0.2, input_shape=(2,))"
      ]
    },
    {
      "cell_type": "markdown",
      "metadata": {
        "id": "iM-p4yWpOCRo"
      },
      "source": [
        "Create a matrix with shape = $(5,2)$ representing the Dense layer"
      ]
    },
    {
      "cell_type": "code",
      "execution_count": null,
      "metadata": {
        "colab": {
          "base_uri": "https://localhost:8080/"
        },
        "id": "Phw-4iR7OOrD",
        "outputId": "d964836e-8e27-4a68-e926-c59cace3a48b"
      },
      "outputs": [
        {
          "name": "stdout",
          "output_type": "stream",
          "text": [
            "[[0. 1.]\n",
            " [2. 3.]\n",
            " [4. 5.]\n",
            " [6. 7.]\n",
            " [8. 9.]]\n"
          ]
        }
      ],
      "source": [
        "import numpy as np\n",
        "\n",
        "np.random.seed(42)\n",
        "\n",
        "data = np.arange(10).reshape(5, 2).astype(np.float32)\n",
        "print(data)"
      ]
    },
    {
      "cell_type": "markdown",
      "metadata": {
        "id": "mpuxMOiHOQkX"
      },
      "source": [
        "Pass the above matrix through the Dropout layer"
      ]
    },
    {
      "cell_type": "code",
      "execution_count": null,
      "metadata": {
        "colab": {
          "base_uri": "https://localhost:8080/"
        },
        "id": "rkbf63T4OQUm",
        "outputId": "2589a843-e833-4d6e-85e9-53928e00ee94"
      },
      "outputs": [
        {
          "name": "stdout",
          "output_type": "stream",
          "text": [
            "tf.Tensor(\n",
            "[[ 0.    1.25]\n",
            " [ 2.5   3.75]\n",
            " [ 0.    6.25]\n",
            " [ 7.5   8.75]\n",
            " [10.   11.25]], shape=(5, 2), dtype=float32)\n"
          ]
        }
      ],
      "source": [
        "set_seed(42)\n",
        "\n",
        "outputs = layer(data, training=True)\n",
        "print(outputs)"
      ]
    },
    {
      "cell_type": "markdown",
      "metadata": {
        "id": "7spO6VoF_MZI"
      },
      "source": [
        "## A simple Spam Classification"
      ]
    },
    {
      "cell_type": "code",
      "execution_count": null,
      "metadata": {
        "colab": {
          "base_uri": "https://localhost:8080/"
        },
        "id": "novKor-SUy8e",
        "outputId": "f9219a98-7fcf-446e-fa9f-a4870a382ef8"
      },
      "outputs": [
        {
          "name": "stdout",
          "output_type": "stream",
          "text": [
            "Mounted at /content/drive\n"
          ]
        }
      ],
      "source": [
        "from google.colab import drive\n",
        "drive.mount('/content/drive')"
      ]
    },
    {
      "cell_type": "markdown",
      "metadata": {
        "id": "viGDNnJf_pBI"
      },
      "source": [
        "### Prepare the dataset"
      ]
    },
    {
      "cell_type": "markdown",
      "metadata": {
        "id": "ugKxdhDKOuog"
      },
      "source": [
        "In this article, we will practice using the `MLP` model to classify phone messages (SMS) as spam or normal messages."
      ]
    },
    {
      "cell_type": "code",
      "execution_count": null,
      "metadata": {
        "id": "jB4Lkq6oO661"
      },
      "outputs": [],
      "source": [
        "import numpy as np\n",
        "import pandas as pd\n",
        "import matplotlib.pyplot as plt\n",
        "import seaborn as sns\n",
        "sns.set()"
      ]
    },
    {
      "cell_type": "code",
      "execution_count": null,
      "metadata": {
        "colab": {
          "base_uri": "https://localhost:8080/",
          "height": 206
        },
        "id": "SyVtbOcUO8DF",
        "outputId": "f4dcfd3f-f1d3-49c8-f1c9-26d7ae70a128"
      },
      "outputs": [
        {
          "data": {
            "text/html": [
              "\n",
              "  <div id=\"df-40e5e0bd-07ab-4b9d-a95c-9321de232559\">\n",
              "    <div class=\"colab-df-container\">\n",
              "      <div>\n",
              "<style scoped>\n",
              "    .dataframe tbody tr th:only-of-type {\n",
              "        vertical-align: middle;\n",
              "    }\n",
              "\n",
              "    .dataframe tbody tr th {\n",
              "        vertical-align: top;\n",
              "    }\n",
              "\n",
              "    .dataframe thead th {\n",
              "        text-align: right;\n",
              "    }\n",
              "</style>\n",
              "<table border=\"1\" class=\"dataframe\">\n",
              "  <thead>\n",
              "    <tr style=\"text-align: right;\">\n",
              "      <th></th>\n",
              "      <th>Label</th>\n",
              "      <th>SMS</th>\n",
              "    </tr>\n",
              "  </thead>\n",
              "  <tbody>\n",
              "    <tr>\n",
              "      <th>0</th>\n",
              "      <td>ham</td>\n",
              "      <td>Go until jurong point, crazy.. Available only ...</td>\n",
              "    </tr>\n",
              "    <tr>\n",
              "      <th>1</th>\n",
              "      <td>ham</td>\n",
              "      <td>Ok lar... Joking wif u oni...</td>\n",
              "    </tr>\n",
              "    <tr>\n",
              "      <th>2</th>\n",
              "      <td>spam</td>\n",
              "      <td>Free entry in 2 a wkly comp to win FA Cup fina...</td>\n",
              "    </tr>\n",
              "    <tr>\n",
              "      <th>3</th>\n",
              "      <td>ham</td>\n",
              "      <td>U dun say so early hor... U c already then say...</td>\n",
              "    </tr>\n",
              "    <tr>\n",
              "      <th>4</th>\n",
              "      <td>ham</td>\n",
              "      <td>Nah I don't think he goes to usf, he lives aro...</td>\n",
              "    </tr>\n",
              "  </tbody>\n",
              "</table>\n",
              "</div>\n",
              "      <button class=\"colab-df-convert\" onclick=\"convertToInteractive('df-40e5e0bd-07ab-4b9d-a95c-9321de232559')\"\n",
              "              title=\"Convert this dataframe to an interactive table.\"\n",
              "              style=\"display:none;\">\n",
              "        \n",
              "  <svg xmlns=\"http://www.w3.org/2000/svg\" height=\"24px\"viewBox=\"0 0 24 24\"\n",
              "       width=\"24px\">\n",
              "    <path d=\"M0 0h24v24H0V0z\" fill=\"none\"/>\n",
              "    <path d=\"M18.56 5.44l.94 2.06.94-2.06 2.06-.94-2.06-.94-.94-2.06-.94 2.06-2.06.94zm-11 1L8.5 8.5l.94-2.06 2.06-.94-2.06-.94L8.5 2.5l-.94 2.06-2.06.94zm10 10l.94 2.06.94-2.06 2.06-.94-2.06-.94-.94-2.06-.94 2.06-2.06.94z\"/><path d=\"M17.41 7.96l-1.37-1.37c-.4-.4-.92-.59-1.43-.59-.52 0-1.04.2-1.43.59L10.3 9.45l-7.72 7.72c-.78.78-.78 2.05 0 2.83L4 21.41c.39.39.9.59 1.41.59.51 0 1.02-.2 1.41-.59l7.78-7.78 2.81-2.81c.8-.78.8-2.07 0-2.86zM5.41 20L4 18.59l7.72-7.72 1.47 1.35L5.41 20z\"/>\n",
              "  </svg>\n",
              "      </button>\n",
              "      \n",
              "  <style>\n",
              "    .colab-df-container {\n",
              "      display:flex;\n",
              "      flex-wrap:wrap;\n",
              "      gap: 12px;\n",
              "    }\n",
              "\n",
              "    .colab-df-convert {\n",
              "      background-color: #E8F0FE;\n",
              "      border: none;\n",
              "      border-radius: 50%;\n",
              "      cursor: pointer;\n",
              "      display: none;\n",
              "      fill: #1967D2;\n",
              "      height: 32px;\n",
              "      padding: 0 0 0 0;\n",
              "      width: 32px;\n",
              "    }\n",
              "\n",
              "    .colab-df-convert:hover {\n",
              "      background-color: #E2EBFA;\n",
              "      box-shadow: 0px 1px 2px rgba(60, 64, 67, 0.3), 0px 1px 3px 1px rgba(60, 64, 67, 0.15);\n",
              "      fill: #174EA6;\n",
              "    }\n",
              "\n",
              "    [theme=dark] .colab-df-convert {\n",
              "      background-color: #3B4455;\n",
              "      fill: #D2E3FC;\n",
              "    }\n",
              "\n",
              "    [theme=dark] .colab-df-convert:hover {\n",
              "      background-color: #434B5C;\n",
              "      box-shadow: 0px 1px 3px 1px rgba(0, 0, 0, 0.15);\n",
              "      filter: drop-shadow(0px 1px 2px rgba(0, 0, 0, 0.3));\n",
              "      fill: #FFFFFF;\n",
              "    }\n",
              "  </style>\n",
              "\n",
              "      <script>\n",
              "        const buttonEl =\n",
              "          document.querySelector('#df-40e5e0bd-07ab-4b9d-a95c-9321de232559 button.colab-df-convert');\n",
              "        buttonEl.style.display =\n",
              "          google.colab.kernel.accessAllowed ? 'block' : 'none';\n",
              "\n",
              "        async function convertToInteractive(key) {\n",
              "          const element = document.querySelector('#df-40e5e0bd-07ab-4b9d-a95c-9321de232559');\n",
              "          const dataTable =\n",
              "            await google.colab.kernel.invokeFunction('convertToInteractive',\n",
              "                                                     [key], {});\n",
              "          if (!dataTable) return;\n",
              "\n",
              "          const docLinkHtml = 'Like what you see? Visit the ' +\n",
              "            '<a target=\"_blank\" href=https://colab.research.google.com/notebooks/data_table.ipynb>data table notebook</a>'\n",
              "            + ' to learn more about interactive tables.';\n",
              "          element.innerHTML = '';\n",
              "          dataTable['output_type'] = 'display_data';\n",
              "          await google.colab.output.renderOutput(dataTable, element);\n",
              "          const docLink = document.createElement('div');\n",
              "          docLink.innerHTML = docLinkHtml;\n",
              "          element.appendChild(docLink);\n",
              "        }\n",
              "      </script>\n",
              "    </div>\n",
              "  </div>\n",
              "  "
            ],
            "text/plain": [
              "  Label                                                SMS\n",
              "0   ham  Go until jurong point, crazy.. Available only ...\n",
              "1   ham                      Ok lar... Joking wif u oni...\n",
              "2  spam  Free entry in 2 a wkly comp to win FA Cup fina...\n",
              "3   ham  U dun say so early hor... U c already then say...\n",
              "4   ham  Nah I don't think he goes to usf, he lives aro..."
            ]
          },
          "execution_count": 6,
          "metadata": {},
          "output_type": "execute_result"
        }
      ],
      "source": [
        "df = pd.read_csv('/content/drive/MyDrive/Colab Notebooks/ML-intensive/data/spam.csv', encoding='latin-1', usecols=[0,1],names=['Label','SMS'], header=0)\n",
        "df.head()"
      ]
    },
    {
      "cell_type": "markdown",
      "metadata": {
        "id": "UiVlii4rO-NR"
      },
      "source": [
        "Annotate the values in column **Label**\n",
        "- **ham** means normal message\n",
        "- **spam** means spam messages (ads, phishing, etc.)\n",
        "\n"
      ]
    },
    {
      "cell_type": "markdown",
      "metadata": {
        "id": "HqppE4C_PFrN"
      },
      "source": [
        "#### TODO 1\n",
        "- Print out **5 spam messages** and **5 ham messages**"
      ]
    },
    {
      "cell_type": "code",
      "execution_count": null,
      "metadata": {
        "colab": {
          "base_uri": "https://localhost:8080/",
          "height": 206
        },
        "id": "-7I3WuhUPAux",
        "outputId": "bf2c0030-dee0-4d25-b3f7-7f8ff783c1da"
      },
      "outputs": [
        {
          "data": {
            "text/html": [
              "\n",
              "  <div id=\"df-ef304038-c5bc-433d-afbc-0a86bae084e7\">\n",
              "    <div class=\"colab-df-container\">\n",
              "      <div>\n",
              "<style scoped>\n",
              "    .dataframe tbody tr th:only-of-type {\n",
              "        vertical-align: middle;\n",
              "    }\n",
              "\n",
              "    .dataframe tbody tr th {\n",
              "        vertical-align: top;\n",
              "    }\n",
              "\n",
              "    .dataframe thead th {\n",
              "        text-align: right;\n",
              "    }\n",
              "</style>\n",
              "<table border=\"1\" class=\"dataframe\">\n",
              "  <thead>\n",
              "    <tr style=\"text-align: right;\">\n",
              "      <th></th>\n",
              "      <th>Label</th>\n",
              "      <th>SMS</th>\n",
              "    </tr>\n",
              "  </thead>\n",
              "  <tbody>\n",
              "    <tr>\n",
              "      <th>2</th>\n",
              "      <td>spam</td>\n",
              "      <td>Free entry in 2 a wkly comp to win FA Cup fina...</td>\n",
              "    </tr>\n",
              "    <tr>\n",
              "      <th>5</th>\n",
              "      <td>spam</td>\n",
              "      <td>FreeMsg Hey there darling it's been 3 week's n...</td>\n",
              "    </tr>\n",
              "    <tr>\n",
              "      <th>8</th>\n",
              "      <td>spam</td>\n",
              "      <td>WINNER!! As a valued network customer you have...</td>\n",
              "    </tr>\n",
              "    <tr>\n",
              "      <th>9</th>\n",
              "      <td>spam</td>\n",
              "      <td>Had your mobile 11 months or more? U R entitle...</td>\n",
              "    </tr>\n",
              "    <tr>\n",
              "      <th>11</th>\n",
              "      <td>spam</td>\n",
              "      <td>SIX chances to win CASH! From 100 to 20,000 po...</td>\n",
              "    </tr>\n",
              "  </tbody>\n",
              "</table>\n",
              "</div>\n",
              "      <button class=\"colab-df-convert\" onclick=\"convertToInteractive('df-ef304038-c5bc-433d-afbc-0a86bae084e7')\"\n",
              "              title=\"Convert this dataframe to an interactive table.\"\n",
              "              style=\"display:none;\">\n",
              "        \n",
              "  <svg xmlns=\"http://www.w3.org/2000/svg\" height=\"24px\"viewBox=\"0 0 24 24\"\n",
              "       width=\"24px\">\n",
              "    <path d=\"M0 0h24v24H0V0z\" fill=\"none\"/>\n",
              "    <path d=\"M18.56 5.44l.94 2.06.94-2.06 2.06-.94-2.06-.94-.94-2.06-.94 2.06-2.06.94zm-11 1L8.5 8.5l.94-2.06 2.06-.94-2.06-.94L8.5 2.5l-.94 2.06-2.06.94zm10 10l.94 2.06.94-2.06 2.06-.94-2.06-.94-.94-2.06-.94 2.06-2.06.94z\"/><path d=\"M17.41 7.96l-1.37-1.37c-.4-.4-.92-.59-1.43-.59-.52 0-1.04.2-1.43.59L10.3 9.45l-7.72 7.72c-.78.78-.78 2.05 0 2.83L4 21.41c.39.39.9.59 1.41.59.51 0 1.02-.2 1.41-.59l7.78-7.78 2.81-2.81c.8-.78.8-2.07 0-2.86zM5.41 20L4 18.59l7.72-7.72 1.47 1.35L5.41 20z\"/>\n",
              "  </svg>\n",
              "      </button>\n",
              "      \n",
              "  <style>\n",
              "    .colab-df-container {\n",
              "      display:flex;\n",
              "      flex-wrap:wrap;\n",
              "      gap: 12px;\n",
              "    }\n",
              "\n",
              "    .colab-df-convert {\n",
              "      background-color: #E8F0FE;\n",
              "      border: none;\n",
              "      border-radius: 50%;\n",
              "      cursor: pointer;\n",
              "      display: none;\n",
              "      fill: #1967D2;\n",
              "      height: 32px;\n",
              "      padding: 0 0 0 0;\n",
              "      width: 32px;\n",
              "    }\n",
              "\n",
              "    .colab-df-convert:hover {\n",
              "      background-color: #E2EBFA;\n",
              "      box-shadow: 0px 1px 2px rgba(60, 64, 67, 0.3), 0px 1px 3px 1px rgba(60, 64, 67, 0.15);\n",
              "      fill: #174EA6;\n",
              "    }\n",
              "\n",
              "    [theme=dark] .colab-df-convert {\n",
              "      background-color: #3B4455;\n",
              "      fill: #D2E3FC;\n",
              "    }\n",
              "\n",
              "    [theme=dark] .colab-df-convert:hover {\n",
              "      background-color: #434B5C;\n",
              "      box-shadow: 0px 1px 3px 1px rgba(0, 0, 0, 0.15);\n",
              "      filter: drop-shadow(0px 1px 2px rgba(0, 0, 0, 0.3));\n",
              "      fill: #FFFFFF;\n",
              "    }\n",
              "  </style>\n",
              "\n",
              "      <script>\n",
              "        const buttonEl =\n",
              "          document.querySelector('#df-ef304038-c5bc-433d-afbc-0a86bae084e7 button.colab-df-convert');\n",
              "        buttonEl.style.display =\n",
              "          google.colab.kernel.accessAllowed ? 'block' : 'none';\n",
              "\n",
              "        async function convertToInteractive(key) {\n",
              "          const element = document.querySelector('#df-ef304038-c5bc-433d-afbc-0a86bae084e7');\n",
              "          const dataTable =\n",
              "            await google.colab.kernel.invokeFunction('convertToInteractive',\n",
              "                                                     [key], {});\n",
              "          if (!dataTable) return;\n",
              "\n",
              "          const docLinkHtml = 'Like what you see? Visit the ' +\n",
              "            '<a target=\"_blank\" href=https://colab.research.google.com/notebooks/data_table.ipynb>data table notebook</a>'\n",
              "            + ' to learn more about interactive tables.';\n",
              "          element.innerHTML = '';\n",
              "          dataTable['output_type'] = 'display_data';\n",
              "          await google.colab.output.renderOutput(dataTable, element);\n",
              "          const docLink = document.createElement('div');\n",
              "          docLink.innerHTML = docLinkHtml;\n",
              "          element.appendChild(docLink);\n",
              "        }\n",
              "      </script>\n",
              "    </div>\n",
              "  </div>\n",
              "  "
            ],
            "text/plain": [
              "   Label                                                SMS\n",
              "2   spam  Free entry in 2 a wkly comp to win FA Cup fina...\n",
              "5   spam  FreeMsg Hey there darling it's been 3 week's n...\n",
              "8   spam  WINNER!! As a valued network customer you have...\n",
              "9   spam  Had your mobile 11 months or more? U R entitle...\n",
              "11  spam  SIX chances to win CASH! From 100 to 20,000 po..."
            ]
          },
          "execution_count": 10,
          "metadata": {},
          "output_type": "execute_result"
        }
      ],
      "source": [
        "# YOUR SOLUTION\n",
        "spam = df[df.Label == 'spam']\n",
        "spam[:5]"
      ]
    },
    {
      "cell_type": "code",
      "execution_count": null,
      "metadata": {
        "colab": {
          "base_uri": "https://localhost:8080/",
          "height": 206
        },
        "id": "YDlsMRaVs-EI",
        "outputId": "5723af3a-a47d-44c0-978d-f9f42b19b650"
      },
      "outputs": [
        {
          "data": {
            "text/html": [
              "\n",
              "  <div id=\"df-b1f715db-cb85-435d-a854-0c3bf8bdbedd\">\n",
              "    <div class=\"colab-df-container\">\n",
              "      <div>\n",
              "<style scoped>\n",
              "    .dataframe tbody tr th:only-of-type {\n",
              "        vertical-align: middle;\n",
              "    }\n",
              "\n",
              "    .dataframe tbody tr th {\n",
              "        vertical-align: top;\n",
              "    }\n",
              "\n",
              "    .dataframe thead th {\n",
              "        text-align: right;\n",
              "    }\n",
              "</style>\n",
              "<table border=\"1\" class=\"dataframe\">\n",
              "  <thead>\n",
              "    <tr style=\"text-align: right;\">\n",
              "      <th></th>\n",
              "      <th>Label</th>\n",
              "      <th>SMS</th>\n",
              "    </tr>\n",
              "  </thead>\n",
              "  <tbody>\n",
              "    <tr>\n",
              "      <th>0</th>\n",
              "      <td>ham</td>\n",
              "      <td>Go until jurong point, crazy.. Available only ...</td>\n",
              "    </tr>\n",
              "    <tr>\n",
              "      <th>1</th>\n",
              "      <td>ham</td>\n",
              "      <td>Ok lar... Joking wif u oni...</td>\n",
              "    </tr>\n",
              "    <tr>\n",
              "      <th>3</th>\n",
              "      <td>ham</td>\n",
              "      <td>U dun say so early hor... U c already then say...</td>\n",
              "    </tr>\n",
              "    <tr>\n",
              "      <th>4</th>\n",
              "      <td>ham</td>\n",
              "      <td>Nah I don't think he goes to usf, he lives aro...</td>\n",
              "    </tr>\n",
              "    <tr>\n",
              "      <th>6</th>\n",
              "      <td>ham</td>\n",
              "      <td>Even my brother is not like to speak with me. ...</td>\n",
              "    </tr>\n",
              "  </tbody>\n",
              "</table>\n",
              "</div>\n",
              "      <button class=\"colab-df-convert\" onclick=\"convertToInteractive('df-b1f715db-cb85-435d-a854-0c3bf8bdbedd')\"\n",
              "              title=\"Convert this dataframe to an interactive table.\"\n",
              "              style=\"display:none;\">\n",
              "        \n",
              "  <svg xmlns=\"http://www.w3.org/2000/svg\" height=\"24px\"viewBox=\"0 0 24 24\"\n",
              "       width=\"24px\">\n",
              "    <path d=\"M0 0h24v24H0V0z\" fill=\"none\"/>\n",
              "    <path d=\"M18.56 5.44l.94 2.06.94-2.06 2.06-.94-2.06-.94-.94-2.06-.94 2.06-2.06.94zm-11 1L8.5 8.5l.94-2.06 2.06-.94-2.06-.94L8.5 2.5l-.94 2.06-2.06.94zm10 10l.94 2.06.94-2.06 2.06-.94-2.06-.94-.94-2.06-.94 2.06-2.06.94z\"/><path d=\"M17.41 7.96l-1.37-1.37c-.4-.4-.92-.59-1.43-.59-.52 0-1.04.2-1.43.59L10.3 9.45l-7.72 7.72c-.78.78-.78 2.05 0 2.83L4 21.41c.39.39.9.59 1.41.59.51 0 1.02-.2 1.41-.59l7.78-7.78 2.81-2.81c.8-.78.8-2.07 0-2.86zM5.41 20L4 18.59l7.72-7.72 1.47 1.35L5.41 20z\"/>\n",
              "  </svg>\n",
              "      </button>\n",
              "      \n",
              "  <style>\n",
              "    .colab-df-container {\n",
              "      display:flex;\n",
              "      flex-wrap:wrap;\n",
              "      gap: 12px;\n",
              "    }\n",
              "\n",
              "    .colab-df-convert {\n",
              "      background-color: #E8F0FE;\n",
              "      border: none;\n",
              "      border-radius: 50%;\n",
              "      cursor: pointer;\n",
              "      display: none;\n",
              "      fill: #1967D2;\n",
              "      height: 32px;\n",
              "      padding: 0 0 0 0;\n",
              "      width: 32px;\n",
              "    }\n",
              "\n",
              "    .colab-df-convert:hover {\n",
              "      background-color: #E2EBFA;\n",
              "      box-shadow: 0px 1px 2px rgba(60, 64, 67, 0.3), 0px 1px 3px 1px rgba(60, 64, 67, 0.15);\n",
              "      fill: #174EA6;\n",
              "    }\n",
              "\n",
              "    [theme=dark] .colab-df-convert {\n",
              "      background-color: #3B4455;\n",
              "      fill: #D2E3FC;\n",
              "    }\n",
              "\n",
              "    [theme=dark] .colab-df-convert:hover {\n",
              "      background-color: #434B5C;\n",
              "      box-shadow: 0px 1px 3px 1px rgba(0, 0, 0, 0.15);\n",
              "      filter: drop-shadow(0px 1px 2px rgba(0, 0, 0, 0.3));\n",
              "      fill: #FFFFFF;\n",
              "    }\n",
              "  </style>\n",
              "\n",
              "      <script>\n",
              "        const buttonEl =\n",
              "          document.querySelector('#df-b1f715db-cb85-435d-a854-0c3bf8bdbedd button.colab-df-convert');\n",
              "        buttonEl.style.display =\n",
              "          google.colab.kernel.accessAllowed ? 'block' : 'none';\n",
              "\n",
              "        async function convertToInteractive(key) {\n",
              "          const element = document.querySelector('#df-b1f715db-cb85-435d-a854-0c3bf8bdbedd');\n",
              "          const dataTable =\n",
              "            await google.colab.kernel.invokeFunction('convertToInteractive',\n",
              "                                                     [key], {});\n",
              "          if (!dataTable) return;\n",
              "\n",
              "          const docLinkHtml = 'Like what you see? Visit the ' +\n",
              "            '<a target=\"_blank\" href=https://colab.research.google.com/notebooks/data_table.ipynb>data table notebook</a>'\n",
              "            + ' to learn more about interactive tables.';\n",
              "          element.innerHTML = '';\n",
              "          dataTable['output_type'] = 'display_data';\n",
              "          await google.colab.output.renderOutput(dataTable, element);\n",
              "          const docLink = document.createElement('div');\n",
              "          docLink.innerHTML = docLinkHtml;\n",
              "          element.appendChild(docLink);\n",
              "        }\n",
              "      </script>\n",
              "    </div>\n",
              "  </div>\n",
              "  "
            ],
            "text/plain": [
              "  Label                                                SMS\n",
              "0   ham  Go until jurong point, crazy.. Available only ...\n",
              "1   ham                      Ok lar... Joking wif u oni...\n",
              "3   ham  U dun say so early hor... U c already then say...\n",
              "4   ham  Nah I don't think he goes to usf, he lives aro...\n",
              "6   ham  Even my brother is not like to speak with me. ..."
            ]
          },
          "execution_count": 12,
          "metadata": {},
          "output_type": "execute_result"
        }
      ],
      "source": [
        "ham = df[df.Label == 'ham']\n",
        "ham[:5]"
      ]
    },
    {
      "cell_type": "markdown",
      "metadata": {
        "id": "vftO-w2DPJnX"
      },
      "source": [
        "We count the number of messages belonging to each **Label** to see if this data set is **Balanced Dataset** or **Imbalanced Dataset**"
      ]
    },
    {
      "cell_type": "code",
      "execution_count": null,
      "metadata": {
        "colab": {
          "base_uri": "https://localhost:8080/"
        },
        "id": "XNx41_dOPLL_",
        "outputId": "4a209b9d-dbae-41c3-c571-cfd5777ecf6a"
      },
      "outputs": [
        {
          "data": {
            "text/plain": [
              "ham     4825\n",
              "spam     747\n",
              "Name: Label, dtype: int64"
            ]
          },
          "execution_count": 13,
          "metadata": {},
          "output_type": "execute_result"
        }
      ],
      "source": [
        "df['Label'].value_counts()"
      ]
    },
    {
      "cell_type": "markdown",
      "metadata": {
        "id": "5YexdCkLT4ms"
      },
      "source": [
        "We take the data in the SMS column as input **x**\n",
        "\n",
        "Then convert **Label** into number\n",
        "- **Ham** = 0\n",
        "- **Spam** = 1"
      ]
    },
    {
      "cell_type": "code",
      "execution_count": null,
      "metadata": {
        "id": "s4En4-s1To-7"
      },
      "outputs": [],
      "source": [
        "# retrieve the data from the SMS column, then convert into numpy array\n",
        "x = df['SMS'].values\n",
        "# retrieve the data of the Label column\n",
        "# binary mapping and convert into numpy array\n",
        "y = df['Label'].map({'ham':0,'spam':1}).values"
      ]
    },
    {
      "cell_type": "code",
      "execution_count": null,
      "metadata": {
        "colab": {
          "base_uri": "https://localhost:8080/"
        },
        "id": "B7PmcySSx-mX",
        "outputId": "beb06842-3ae7-4e20-a1eb-e0c6abf37583"
      },
      "outputs": [
        {
          "data": {
            "text/plain": [
              "((5572,), (5572,))"
            ]
          },
          "execution_count": 37,
          "metadata": {},
          "output_type": "execute_result"
        }
      ],
      "source": [
        "x.shape, y.shape"
      ]
    },
    {
      "cell_type": "code",
      "execution_count": null,
      "metadata": {
        "colab": {
          "base_uri": "https://localhost:8080/"
        },
        "id": "0RRck-IZyBeW",
        "outputId": "2e4c5e56-43cd-456a-ee6a-1ea931e69c6e"
      },
      "outputs": [
        {
          "data": {
            "text/plain": [
              "array([0, 0, 1, ..., 0, 0, 0])"
            ]
          },
          "execution_count": 38,
          "metadata": {},
          "output_type": "execute_result"
        }
      ],
      "source": [
        "y"
      ]
    },
    {
      "cell_type": "markdown",
      "metadata": {
        "id": "2O2UgNxVvNTg"
      },
      "source": [
        "### Data Conversion"
      ]
    },
    {
      "cell_type": "markdown",
      "metadata": {
        "id": "xcjiS8GxvRYn"
      },
      "source": [
        "Remember that AI models take in data in the form of numbers. Therefore we will transform our data set from string of characters to numbers.\n",
        "\n",
        "There are many ways to transform, here we will use the simplest method called **Count Vectorizer**. For example, we have a data set of 4 sentences as follows:"
      ]
    },
    {
      "cell_type": "code",
      "execution_count": null,
      "metadata": {
        "id": "3vRtzZvpuHNv"
      },
      "outputs": [],
      "source": [
        "example_data = [\n",
        "  'This is the first document.',\n",
        "  'This document is the second document.',\n",
        "  'And this is the third one.',\n",
        "  'Is this the first document?',\n",
        "]"
      ]
    },
    {
      "cell_type": "markdown",
      "metadata": {
        "id": "2RvbvyFWxD2x"
      },
      "source": [
        "Perform **CountVectorizer** on `example_data`"
      ]
    },
    {
      "cell_type": "code",
      "execution_count": null,
      "metadata": {
        "colab": {
          "base_uri": "https://localhost:8080/"
        },
        "id": "xYbSWoeAxNHu",
        "outputId": "c85a254f-68f6-4f9d-9710-480e02ec9c32"
      },
      "outputs": [
        {
          "name": "stdout",
          "output_type": "stream",
          "text": [
            "[[0 1 1 1 0 0 1 0 1]\n",
            " [0 2 0 1 0 1 1 0 1]\n",
            " [1 0 0 1 1 0 1 1 1]\n",
            " [0 1 1 1 0 0 1 0 1]]\n"
          ]
        }
      ],
      "source": [
        "from sklearn.feature_extraction.text import CountVectorizer # Import sklearn library\n",
        "\n",
        "transformer = CountVectorizer()  # Initiallize CountVectorizer\n",
        "transformer.fit(example_data) # Fit CountVectorizer on  example_data\n",
        "\n",
        "example_features = transformer.transform(example_data).toarray() # create a set of features\n",
        "print(example_features)"
      ]
    },
    {
      "cell_type": "markdown",
      "metadata": {
        "id": "lJZqd4Y1yzfA"
      },
      "source": [
        "To understand the meaning of the numbers in variable 'example_features' one must understand how the **Count Vectorizer** transformation works\n",
        "\n",
        "How the **Count Vectorizer** transformation works\n",
        "- Step 1: Separate the dataset into a list of separate words (dictionary)"
      ]
    },
    {
      "cell_type": "code",
      "execution_count": null,
      "metadata": {
        "colab": {
          "base_uri": "https://localhost:8080/"
        },
        "id": "XgoTi7dUyezA",
        "outputId": "545f5838-2e12-4396-a872-5262a6c3814a"
      },
      "outputs": [
        {
          "name": "stdout",
          "output_type": "stream",
          "text": [
            "['and' 'document' 'first' 'is' 'one' 'second' 'the' 'third' 'this']\n"
          ]
        }
      ],
      "source": [
        "# We can see the result of step 1 by the following function\n",
        "print(transformer.get_feature_names_out())"
      ]
    },
    {
      "cell_type": "markdown",
      "metadata": {
        "id": "w9XyjTkT21qr"
      },
      "source": [
        "We see that from `example_dataset`, we can separate them into **9 seperable words**. `example_dataset` có 4 sentences\n",
        "\n",
        "$\\rightarrow$ `example_features` will have the shape of ``(4, 9)``\n"
      ]
    },
    {
      "cell_type": "code",
      "execution_count": null,
      "metadata": {
        "colab": {
          "base_uri": "https://localhost:8080/"
        },
        "id": "ppUU_s5D3Das",
        "outputId": "46f4a5bd-c9b6-4d0f-bafb-da0ff40f10da"
      },
      "outputs": [
        {
          "name": "stdout",
          "output_type": "stream",
          "text": [
            "Shape: (4, 9)\n"
          ]
        }
      ],
      "source": [
        "print('Shape:',example_features.shape)"
      ]
    },
    {
      "cell_type": "markdown",
      "metadata": {
        "id": "WCf3Qt674EPu"
      },
      "source": [
        "- Step 2: Reconcile original data with separate words after splitting. These are the features of each sentence in the dataset. Example:\n",
        "  - Sentence 1: `'This is the first document.'`. At the corresponding places there will be the number `n` meaning that the word appears `n` times in the sentence.\n",
        "  ```\n",
        "  ['and', 'document', 'first', 'is', 'one', 'second', 'the', 'third', 'this']\n",
        "  [0 1 1 1 0 0 1 0 1]\n",
        "  ```\n",
        "  - Sentence 2: `'This document is the second document.'` There are 2 words in this sentence **document** $\\rightarrow$ at the position [1] is 2\n",
        "  ```\n",
        "  ['and', 'document', 'first', 'is', 'one', 'second', 'the', 'third', 'this']\n",
        "  [0 2 0 1 0 1 1 0 1]\n",
        "  ```\n",
        "\n",
        "We will apply **Count Vectorizer** to the SMS dataset"
      ]
    },
    {
      "cell_type": "code",
      "execution_count": null,
      "metadata": {
        "colab": {
          "base_uri": "https://localhost:8080/"
        },
        "id": "gfzHM4E4zeLX",
        "outputId": "16a32eb7-0dd3-40a2-8da9-6f0d479c6646"
      },
      "outputs": [
        {
          "name": "stdout",
          "output_type": "stream",
          "text": [
            "Shape of x_train: (5572, 8404)\n"
          ]
        }
      ],
      "source": [
        "# fit on x_train\n",
        "transformer = CountVectorizer(stop_words = 'english').fit(x)\n",
        "# transform on x_train and x_test\n",
        "x_vectors = transformer.transform(x)\n",
        "\n",
        "print('Shape of x_train:',x_vectors.shape)"
      ]
    },
    {
      "cell_type": "markdown",
      "metadata": {
        "id": "-em82VL-P0_c"
      },
      "source": [
        "That is, in the dataset there are\n",
        "- 5572 messages\n",
        "- 8404 distinct words, each sample in the dataset is represented by a characteristic 8404\n",
        "\n",
        "Also, when initializing `CountVectorizer`, we pass param `stop_words=\"english\"`\n",
        "\n",
        "In language processing, the term `stop_words` refers to words that are frequently used in a language, but do not make much sense. These words will be ignored when the `CountVectorizer` builds a dictionary of words. Run the cell below to see a list of `stop_words` in English\n",
        "\n"
      ]
    },
    {
      "cell_type": "code",
      "execution_count": null,
      "metadata": {
        "colab": {
          "base_uri": "https://localhost:8080/"
        },
        "id": "wRzWTbynSdUN",
        "outputId": "be0cc613-bc11-447f-c6ba-31a711256a24"
      },
      "outputs": [
        {
          "data": {
            "text/plain": [
              "frozenset({'a',\n",
              "           'about',\n",
              "           'above',\n",
              "           'across',\n",
              "           'after',\n",
              "           'afterwards',\n",
              "           'again',\n",
              "           'against',\n",
              "           'all',\n",
              "           'almost',\n",
              "           'alone',\n",
              "           'along',\n",
              "           'already',\n",
              "           'also',\n",
              "           'although',\n",
              "           'always',\n",
              "           'am',\n",
              "           'among',\n",
              "           'amongst',\n",
              "           'amoungst',\n",
              "           'amount',\n",
              "           'an',\n",
              "           'and',\n",
              "           'another',\n",
              "           'any',\n",
              "           'anyhow',\n",
              "           'anyone',\n",
              "           'anything',\n",
              "           'anyway',\n",
              "           'anywhere',\n",
              "           'are',\n",
              "           'around',\n",
              "           'as',\n",
              "           'at',\n",
              "           'back',\n",
              "           'be',\n",
              "           'became',\n",
              "           'because',\n",
              "           'become',\n",
              "           'becomes',\n",
              "           'becoming',\n",
              "           'been',\n",
              "           'before',\n",
              "           'beforehand',\n",
              "           'behind',\n",
              "           'being',\n",
              "           'below',\n",
              "           'beside',\n",
              "           'besides',\n",
              "           'between',\n",
              "           'beyond',\n",
              "           'bill',\n",
              "           'both',\n",
              "           'bottom',\n",
              "           'but',\n",
              "           'by',\n",
              "           'call',\n",
              "           'can',\n",
              "           'cannot',\n",
              "           'cant',\n",
              "           'co',\n",
              "           'con',\n",
              "           'could',\n",
              "           'couldnt',\n",
              "           'cry',\n",
              "           'de',\n",
              "           'describe',\n",
              "           'detail',\n",
              "           'do',\n",
              "           'done',\n",
              "           'down',\n",
              "           'due',\n",
              "           'during',\n",
              "           'each',\n",
              "           'eg',\n",
              "           'eight',\n",
              "           'either',\n",
              "           'eleven',\n",
              "           'else',\n",
              "           'elsewhere',\n",
              "           'empty',\n",
              "           'enough',\n",
              "           'etc',\n",
              "           'even',\n",
              "           'ever',\n",
              "           'every',\n",
              "           'everyone',\n",
              "           'everything',\n",
              "           'everywhere',\n",
              "           'except',\n",
              "           'few',\n",
              "           'fifteen',\n",
              "           'fifty',\n",
              "           'fill',\n",
              "           'find',\n",
              "           'fire',\n",
              "           'first',\n",
              "           'five',\n",
              "           'for',\n",
              "           'former',\n",
              "           'formerly',\n",
              "           'forty',\n",
              "           'found',\n",
              "           'four',\n",
              "           'from',\n",
              "           'front',\n",
              "           'full',\n",
              "           'further',\n",
              "           'get',\n",
              "           'give',\n",
              "           'go',\n",
              "           'had',\n",
              "           'has',\n",
              "           'hasnt',\n",
              "           'have',\n",
              "           'he',\n",
              "           'hence',\n",
              "           'her',\n",
              "           'here',\n",
              "           'hereafter',\n",
              "           'hereby',\n",
              "           'herein',\n",
              "           'hereupon',\n",
              "           'hers',\n",
              "           'herself',\n",
              "           'him',\n",
              "           'himself',\n",
              "           'his',\n",
              "           'how',\n",
              "           'however',\n",
              "           'hundred',\n",
              "           'i',\n",
              "           'ie',\n",
              "           'if',\n",
              "           'in',\n",
              "           'inc',\n",
              "           'indeed',\n",
              "           'interest',\n",
              "           'into',\n",
              "           'is',\n",
              "           'it',\n",
              "           'its',\n",
              "           'itself',\n",
              "           'keep',\n",
              "           'last',\n",
              "           'latter',\n",
              "           'latterly',\n",
              "           'least',\n",
              "           'less',\n",
              "           'ltd',\n",
              "           'made',\n",
              "           'many',\n",
              "           'may',\n",
              "           'me',\n",
              "           'meanwhile',\n",
              "           'might',\n",
              "           'mill',\n",
              "           'mine',\n",
              "           'more',\n",
              "           'moreover',\n",
              "           'most',\n",
              "           'mostly',\n",
              "           'move',\n",
              "           'much',\n",
              "           'must',\n",
              "           'my',\n",
              "           'myself',\n",
              "           'name',\n",
              "           'namely',\n",
              "           'neither',\n",
              "           'never',\n",
              "           'nevertheless',\n",
              "           'next',\n",
              "           'nine',\n",
              "           'no',\n",
              "           'nobody',\n",
              "           'none',\n",
              "           'noone',\n",
              "           'nor',\n",
              "           'not',\n",
              "           'nothing',\n",
              "           'now',\n",
              "           'nowhere',\n",
              "           'of',\n",
              "           'off',\n",
              "           'often',\n",
              "           'on',\n",
              "           'once',\n",
              "           'one',\n",
              "           'only',\n",
              "           'onto',\n",
              "           'or',\n",
              "           'other',\n",
              "           'others',\n",
              "           'otherwise',\n",
              "           'our',\n",
              "           'ours',\n",
              "           'ourselves',\n",
              "           'out',\n",
              "           'over',\n",
              "           'own',\n",
              "           'part',\n",
              "           'per',\n",
              "           'perhaps',\n",
              "           'please',\n",
              "           'put',\n",
              "           'rather',\n",
              "           're',\n",
              "           'same',\n",
              "           'see',\n",
              "           'seem',\n",
              "           'seemed',\n",
              "           'seeming',\n",
              "           'seems',\n",
              "           'serious',\n",
              "           'several',\n",
              "           'she',\n",
              "           'should',\n",
              "           'show',\n",
              "           'side',\n",
              "           'since',\n",
              "           'sincere',\n",
              "           'six',\n",
              "           'sixty',\n",
              "           'so',\n",
              "           'some',\n",
              "           'somehow',\n",
              "           'someone',\n",
              "           'something',\n",
              "           'sometime',\n",
              "           'sometimes',\n",
              "           'somewhere',\n",
              "           'still',\n",
              "           'such',\n",
              "           'system',\n",
              "           'take',\n",
              "           'ten',\n",
              "           'than',\n",
              "           'that',\n",
              "           'the',\n",
              "           'their',\n",
              "           'them',\n",
              "           'themselves',\n",
              "           'then',\n",
              "           'thence',\n",
              "           'there',\n",
              "           'thereafter',\n",
              "           'thereby',\n",
              "           'therefore',\n",
              "           'therein',\n",
              "           'thereupon',\n",
              "           'these',\n",
              "           'they',\n",
              "           'thick',\n",
              "           'thin',\n",
              "           'third',\n",
              "           'this',\n",
              "           'those',\n",
              "           'though',\n",
              "           'three',\n",
              "           'through',\n",
              "           'throughout',\n",
              "           'thru',\n",
              "           'thus',\n",
              "           'to',\n",
              "           'together',\n",
              "           'too',\n",
              "           'top',\n",
              "           'toward',\n",
              "           'towards',\n",
              "           'twelve',\n",
              "           'twenty',\n",
              "           'two',\n",
              "           'un',\n",
              "           'under',\n",
              "           'until',\n",
              "           'up',\n",
              "           'upon',\n",
              "           'us',\n",
              "           'very',\n",
              "           'via',\n",
              "           'was',\n",
              "           'we',\n",
              "           'well',\n",
              "           'were',\n",
              "           'what',\n",
              "           'whatever',\n",
              "           'when',\n",
              "           'whence',\n",
              "           'whenever',\n",
              "           'where',\n",
              "           'whereafter',\n",
              "           'whereas',\n",
              "           'whereby',\n",
              "           'wherein',\n",
              "           'whereupon',\n",
              "           'wherever',\n",
              "           'whether',\n",
              "           'which',\n",
              "           'while',\n",
              "           'whither',\n",
              "           'who',\n",
              "           'whoever',\n",
              "           'whole',\n",
              "           'whom',\n",
              "           'whose',\n",
              "           'why',\n",
              "           'will',\n",
              "           'with',\n",
              "           'within',\n",
              "           'without',\n",
              "           'would',\n",
              "           'yet',\n",
              "           'you',\n",
              "           'your',\n",
              "           'yours',\n",
              "           'yourself',\n",
              "           'yourselves'})"
            ]
          },
          "execution_count": 23,
          "metadata": {},
          "output_type": "execute_result"
        }
      ],
      "source": [
        "transformer.get_stop_words()"
      ]
    },
    {
      "cell_type": "code",
      "execution_count": null,
      "metadata": {
        "colab": {
          "base_uri": "https://localhost:8080/"
        },
        "id": "LN6VwWjgvUpl",
        "outputId": "6449ac4e-fc41-40b6-c5c0-3f8b613d2a15"
      },
      "outputs": [
        {
          "data": {
            "text/plain": [
              "318"
            ]
          },
          "execution_count": 26,
          "metadata": {},
          "output_type": "execute_result"
        }
      ],
      "source": [
        "len(transformer.get_stop_words())"
      ]
    },
    {
      "cell_type": "markdown",
      "metadata": {
        "id": "ibEn3QxwUCgH"
      },
      "source": [
        "You can completely create 1 `list` containing your own word stops and pass on to the `CountVectorizer` if you are not satisfied with the available `list`"
      ]
    },
    {
      "cell_type": "markdown",
      "metadata": {
        "id": "Y37JAhUdP-RJ"
      },
      "source": [
        "### Train Test Split"
      ]
    },
    {
      "cell_type": "markdown",
      "metadata": {
        "id": "GAL3Iq2dQaAM"
      },
      "source": [
        "#### TODO 2\n",
        "Divide the dataset into Train and Test sets with:\n",
        "- Test set size is 20% of the total data\n",
        "- Use `stratified split`\n",
        "-Shuffle\n",
        "- Use random_state=42"
      ]
    },
    {
      "cell_type": "code",
      "execution_count": null,
      "metadata": {
        "colab": {
          "base_uri": "https://localhost:8080/"
        },
        "id": "mQS2_Nq9zKT-",
        "outputId": "93d46b77-da44-4d0d-a86f-647e5344367b"
      },
      "outputs": [
        {
          "data": {
            "text/plain": [
              "((4457, 8404), (1115, 8404), (4457,), (1115,))"
            ]
          },
          "execution_count": 27,
          "metadata": {},
          "output_type": "execute_result"
        }
      ],
      "source": [
        "# YOUR SOLUTION\n",
        "from sklearn.model_selection import train_test_split\n",
        "x_train, x_test, y_train, y_test = train_test_split(x_vectors, y, test_size=0.2, shuffle=True, random_state=42, stratify=y)\n",
        "x_train.shape, x_test.shape, y_train.shape, y_test.shape"
      ]
    },
    {
      "cell_type": "markdown",
      "metadata": {
        "id": "jldZkRQAPreH"
      },
      "source": [
        "### Train the model"
      ]
    },
    {
      "cell_type": "markdown",
      "metadata": {
        "id": "o838a8NTRb1P"
      },
      "source": [
        "#### TODO 3\n",
        "\n",
        "Apply the MLP model to classify the above dataset. Once you're satisfied with the training results, draw a Confusion Matrix and print out a `classification_repor`.\n",
        "\n",
        "Comment on the predicted results of the model based on the Confusion Matrix and Classification Report"
      ]
    },
    {
      "cell_type": "code",
      "execution_count": null,
      "metadata": {
        "colab": {
          "base_uri": "https://localhost:8080/"
        },
        "id": "jaXwADPnPy8z",
        "outputId": "4ccea03b-56fb-44ec-f788-04c3d28fe65c"
      },
      "outputs": [
        {
          "name": "stdout",
          "output_type": "stream",
          "text": [
            "Model: \"sequential\"\n",
            "_________________________________________________________________\n",
            " Layer (type)                Output Shape              Param #   \n",
            "=================================================================\n",
            " layer_1 (Dense)             (None, 32)                268960    \n",
            "                                                                 \n",
            " layer_2 (Dense)             (None, 64)                2112      \n",
            "                                                                 \n",
            " layer_3 (Dense)             (None, 128)               8320      \n",
            "                                                                 \n",
            " layer_4 (Dense)             (None, 64)                8256      \n",
            "                                                                 \n",
            " layer_5 (Dense)             (None, 32)                2080      \n",
            "                                                                 \n",
            " output_layer (Dense)        (None, 1)                 33        \n",
            "                                                                 \n",
            "=================================================================\n",
            "Total params: 289,761\n",
            "Trainable params: 289,761\n",
            "Non-trainable params: 0\n",
            "_________________________________________________________________\n"
          ]
        }
      ],
      "source": [
        "# YOUR SOLUTION\n",
        "from tensorflow.keras.models import Sequential\n",
        "from tensorflow.keras.layers import Input, Dense, Flatten, Activation\n",
        "from tensorflow.random import set_seed\n",
        "from tensorflow.keras.backend import clear_session\n",
        "\n",
        "clear_session()\n",
        "set_seed(42)\n",
        "np.random.seed(42)\n",
        "\n",
        "model = Sequential()\n",
        "model.add(Input(shape=(x_train.shape[1:])))\n",
        "model.add(Dense(32, activation='relu', name='layer_1'))\n",
        "model.add(Dense(64, activation='relu', name='layer_2'))\n",
        "model.add(Dense(128, activation='relu', name='layer_3'))\n",
        "model.add(Dense(64, activation='relu', name='layer_4'))\n",
        "model.add(Dense(32, activation='relu', name='layer_5'))\n",
        "model.add(Dense(1, activation='sigmoid', name='output_layer'))\n",
        "model.summary()"
      ]
    },
    {
      "cell_type": "code",
      "execution_count": null,
      "metadata": {
        "colab": {
          "base_uri": "https://localhost:8080/"
        },
        "id": "FF6lDwGmxP2s",
        "outputId": "841a3998-eca9-4198-fb12-8c6432e6f6d4"
      },
      "outputs": [
        {
          "name": "stdout",
          "output_type": "stream",
          "text": [
            "Epoch 1/10\n",
            "140/140 [==============================] - 3s 9ms/step - loss: 0.2281 - accuracy: 0.9264\n",
            "Epoch 2/10\n",
            "140/140 [==============================] - 1s 10ms/step - loss: 0.0146 - accuracy: 0.9960\n",
            "Epoch 3/10\n",
            "140/140 [==============================] - 1s 10ms/step - loss: 0.0020 - accuracy: 0.9996\n",
            "Epoch 4/10\n",
            "140/140 [==============================] - 1s 6ms/step - loss: 0.0011 - accuracy: 0.9996\n",
            "Epoch 5/10\n",
            "140/140 [==============================] - 1s 6ms/step - loss: 3.3540e-04 - accuracy: 0.9998\n",
            "Epoch 6/10\n",
            "140/140 [==============================] - 1s 6ms/step - loss: 9.4479e-05 - accuracy: 1.0000\n",
            "Epoch 7/10\n",
            "140/140 [==============================] - 1s 9ms/step - loss: 5.5155e-05 - accuracy: 1.0000\n",
            "Epoch 8/10\n",
            "140/140 [==============================] - 1s 9ms/step - loss: 3.7994e-05 - accuracy: 1.0000\n",
            "Epoch 9/10\n",
            "140/140 [==============================] - 1s 8ms/step - loss: 2.7231e-05 - accuracy: 1.0000\n",
            "Epoch 10/10\n",
            "140/140 [==============================] - 1s 6ms/step - loss: 2.0746e-05 - accuracy: 1.0000\n"
          ]
        }
      ],
      "source": [
        "model.compile(loss=\"binary_crossentropy\", optimizer=\"adam\", metrics=\"accuracy\")\n",
        "history = model.fit(x_train, y_train, epochs=10, verbose=1)"
      ]
    },
    {
      "cell_type": "code",
      "execution_count": null,
      "metadata": {
        "colab": {
          "base_uri": "https://localhost:8080/"
        },
        "id": "p58niqrJznW8",
        "outputId": "71621c2e-b81e-4abe-e1ac-f52906083437"
      },
      "outputs": [
        {
          "name": "stdout",
          "output_type": "stream",
          "text": [
            "35/35 [==============================] - 1s 3ms/step - loss: 0.1397 - accuracy: 0.9857\n"
          ]
        },
        {
          "data": {
            "text/plain": [
              "[0.13970947265625, 0.9856502413749695]"
            ]
          },
          "execution_count": 49,
          "metadata": {},
          "output_type": "execute_result"
        }
      ],
      "source": [
        "model.evaluate(x_test, y_test)"
      ]
    },
    {
      "cell_type": "code",
      "execution_count": null,
      "metadata": {
        "colab": {
          "base_uri": "https://localhost:8080/",
          "height": 415
        },
        "id": "e0drl1eH23GV",
        "outputId": "7e033702-f345-4090-99bf-a951429d4730"
      },
      "outputs": [
        {
          "data": {
            "image/png": "[encoded data removed]",
            "text/plain": [
              "<Figure size 1200x400 with 2 Axes>"
            ]
          },
          "metadata": {},
          "output_type": "display_data"
        }
      ],
      "source": [
        "plt.figure(figsize=(12,4))\n",
        "plt.subplot(1,2,1)\n",
        "plt.title('Loss')\n",
        "plt.plot(history.history['loss'])\n",
        "\n",
        "plt.subplot(1,2,2)\n",
        "plt.title('Accuracy')\n",
        "plt.plot(history.history['accuracy'])\n",
        "plt.show()"
      ]
    },
    {
      "cell_type": "markdown",
      "metadata": {
        "id": "tZjh_HyO28AY"
      },
      "source": [
        "There is no phenomonen of overfitting"
      ]
    },
    {
      "cell_type": "code",
      "execution_count": null,
      "metadata": {
        "colab": {
          "base_uri": "https://localhost:8080/"
        },
        "id": "AESz2iMM0WCi",
        "outputId": "7efba178-49e5-463e-8057-a688d20eb969"
      },
      "outputs": [
        {
          "name": "stdout",
          "output_type": "stream",
          "text": [
            "35/35 [==============================] - 0s 2ms/step\n"
          ]
        },
        {
          "data": {
            "text/plain": [
              "1115"
            ]
          },
          "execution_count": 95,
          "metadata": {},
          "output_type": "execute_result"
        }
      ],
      "source": [
        "from sklearn.metrics import confusion_matrix\n",
        "y_test_pred = model.predict(x_test)\n",
        "y_test_pred = [1 if y > 0.5 else 0 for y in y_test_pred]\n",
        "len(y_test_pred)"
      ]
    },
    {
      "cell_type": "code",
      "execution_count": null,
      "metadata": {
        "colab": {
          "base_uri": "https://localhost:8080/",
          "height": 450
        },
        "id": "aH49ITm_1X0H",
        "outputId": "36de8f96-2c19-4581-c089-b1691ae3da5d"
      },
      "outputs": [
        {
          "data": {
            "image/png": "[encoded data removed]",
            "text/plain": [
              "<Figure size 500x500 with 2 Axes>"
            ]
          },
          "metadata": {},
          "output_type": "display_data"
        }
      ],
      "source": [
        "cm = confusion_matrix(y_test, y_test_pred)\n",
        "labels = ['ham', 'spam',]\n",
        "plt.figure(figsize=(5,5))\n",
        "sns.heatmap(cm, annot=True, cmap='Blues', yticklabels=labels, xticklabels=labels)\n",
        "plt.show()"
      ]
    },
    {
      "cell_type": "code",
      "execution_count": null,
      "metadata": {
        "colab": {
          "base_uri": "https://localhost:8080/"
        },
        "id": "teNT2bnJ3G8s",
        "outputId": "adf829d3-5cc8-4811-cc52-190457cc40f3"
      },
      "outputs": [
        {
          "name": "stdout",
          "output_type": "stream",
          "text": [
            "              precision    recall  f1-score   support\n",
            "\n",
            "           0       0.98      1.00      0.99       966\n",
            "           1       1.00      0.89      0.94       149\n",
            "\n",
            "    accuracy                           0.99      1115\n",
            "   macro avg       0.99      0.95      0.97      1115\n",
            "weighted avg       0.99      0.99      0.99      1115\n",
            "\n"
          ]
        }
      ],
      "source": [
        "from sklearn.metrics import classification_report\n",
        "\n",
        "report = classification_report(y_test, y_test_pred)\n",
        "print(report)"
      ]
    },
    {
      "cell_type": "markdown",
      "metadata": {
        "id": "8bhRcNIrRxuo"
      },
      "source": [
        "#### Your comment\n",
        "\n",
        "High accuracy:\n",
        "\n",
        "Spam: positive\n",
        "- True Positive: 1.3e+02\n",
        "- False Positive: 0\n",
        "- True Negative: 9.7e+02\n",
        "- False Negative: 16\n",
        "\n",
        "$\\rightarrow$ There are about 16 that are spam but predictably spam."
      ]
    }
  ],
  "metadata": {
    "colab": {
      "provenance": []
    },
    "kernelspec": {
      "display_name": "Python 3",
      "name": "python3"
    }
  },
  "nbformat": 4,
  "nbformat_minor": 0
}
