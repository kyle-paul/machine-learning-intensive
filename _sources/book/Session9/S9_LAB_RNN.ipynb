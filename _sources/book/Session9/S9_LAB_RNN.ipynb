{
  "cells": [
    {
      "cell_type": "markdown",
      "metadata": {
        "id": "3AUi5n3rPoWM"
      },
      "source": [
        "# Session 9 - Natural Language Processing\n",
        "\n",
        "You need to read the theory lectures before practicing with this notebook:\n",
        "- [Preclass S4](https://hackmd.io/@KylePaul/ML_Preclass_S9)\n",
        "- [Slide](https://hackmd.io/@KylePaul/ML_Slide_S9)\n",
        "\n",
        "```{contents}\n",
        "\n",
        "```"
      ]
    },
    {
      "cell_type": "markdown",
      "metadata": {
        "id": "db4H2vnlzKNu"
      },
      "source": [
        "# RNN with Tensorflow"
      ]
    },
    {
      "cell_type": "code",
      "execution_count": null,
      "metadata": {
        "id": "DJvtg3SH9Kk9"
      },
      "outputs": [],
      "source": [
        "from tensorflow.keras.models import Sequential\n",
        "from tensorflow.keras.layers import Input, Dense, SimpleRNN, Embedding, TimeDistributed"
      ]
    },
    {
      "cell_type": "markdown",
      "metadata": {
        "id": "bJvsVvEG903R"
      },
      "source": [
        "Imagine we build a model that predicts the temperature of a day based on the previous 30 days.\n",
        "\n",
        "What the RNN model should look like:\n",
        "- What does the input data look like?\n",
        "- What is the output?"
      ]
    },
    {
      "cell_type": "code",
      "execution_count": null,
      "metadata": {
        "colab": {
          "base_uri": "https://localhost:8080/"
        },
        "id": "BpOMH3yK9vM9",
        "outputId": "4a0e0657-bb4c-495c-bea7-cdb5f35f9e38"
      },
      "outputs": [
        {
          "name": "stdout",
          "output_type": "stream",
          "text": [
            "Model: \"sequential\"\n",
            "_________________________________________________________________\n",
            " Layer (type)                Output Shape              Param #   \n",
            "=================================================================\n",
            " simple_rnn (SimpleRNN)      (None, 1)                 3         \n",
            "                                                                 \n",
            " dense (Dense)               (None, 1)                 2         \n",
            "                                                                 \n",
            "=================================================================\n",
            "Total params: 5\n",
            "Trainable params: 5\n",
            "Non-trainable params: 0\n",
            "_________________________________________________________________\n"
          ]
        }
      ],
      "source": [
        "# batch_size, time_step, n_features (n, 30, 1)\n",
        "model = Sequential()\n",
        "model.add(Input(shape=(30, 1)))\n",
        "model.add(SimpleRNN(1))       # tanh (-1, 1) (default)\n",
        "model.add(Dense(1))           # fully-connected layer with linear activation to map into temperature range\n",
        "model.summary()"
      ]
    },
    {
      "cell_type": "markdown",
      "metadata": {
        "id": "0oPNeJDL_HoN"
      },
      "source": [
        "In language processing, there is 1 type of problem called Token Classification. Used to:\n",
        "- Entity identification (NER): which word in a sentence indicates a person's name, place name, time, etc.\n",
        "- Part of Speech (POS): nouns, adjectives, verbs, adverbs\n",
        "\n",
        "What the RNN model should look like:\n",
        "- What does the input data look like?\n",
        "- What is the output?"
      ]
    },
    {
      "cell_type": "code",
      "execution_count": null,
      "metadata": {
        "colab": {
          "base_uri": "https://localhost:8080/"
        },
        "id": "vsKEmaTNs6jI",
        "outputId": "4882d3ba-3177-473c-9eca-d3b18044e68d"
      },
      "outputs": [
        {
          "name": "stdout",
          "output_type": "stream",
          "text": [
            "Model: \"sequential_2\"\n",
            "_________________________________________________________________\n",
            " Layer (type)                Output Shape              Param #   \n",
            "=================================================================\n",
            " simple_rnn_2 (SimpleRNN)    (None, 500, 64)           12352     \n",
            "                                                                 \n",
            " time_distributed_1 (TimeDis  (None, 500, 10)          650       \n",
            " tributed)                                                       \n",
            "                                                                 \n",
            "=================================================================\n",
            "Total params: 13,002\n",
            "Trainable params: 13,002\n",
            "Non-trainable params: 0\n",
            "_________________________________________________________________\n"
          ]
        }
      ],
      "source": [
        "model = Sequential([\n",
        "    Input(shape=(500, 128)),\n",
        "    SimpleRNN(64, return_sequences=True),  # return the representation of token/timestep (many to many)\n",
        "    TimeDistributed(Dense(10, activation=\"softmax\"))  # one dense predicting for each timestep\n",
        "])\n",
        "\n",
        "model.summary()"
      ]
    },
    {
      "cell_type": "markdown",
      "metadata": {
        "id": "WTdbEPuuCEW9"
      },
      "source": [
        "**Stacked RNN**\n",
        "\n",
        "![](https://amitness.com/images/rnn-stacked.png)"
      ]
    },
    {
      "cell_type": "code",
      "execution_count": null,
      "metadata": {
        "colab": {
          "base_uri": "https://localhost:8080/"
        },
        "id": "ZKh2LI3TvVHo",
        "outputId": "eec1ca18-7a56-4e41-9791-8711aa8b2b10"
      },
      "outputs": [
        {
          "name": "stdout",
          "output_type": "stream",
          "text": [
            "Model: \"sequential_3\"\n",
            "_________________________________________________________________\n",
            " Layer (type)                Output Shape              Param #   \n",
            "=================================================================\n",
            " simple_rnn_3 (SimpleRNN)    (None, 700, 200)          60200     \n",
            "                                                                 \n",
            " simple_rnn_4 (SimpleRNN)    (None, 100)               30100     \n",
            "                                                                 \n",
            "=================================================================\n",
            "Total params: 90,300\n",
            "Trainable params: 90,300\n",
            "Non-trainable params: 0\n",
            "_________________________________________________________________\n"
          ]
        }
      ],
      "source": [
        "model = Sequential()\n",
        "model.add(SimpleRNN(200, input_shape=(700, 100),\n",
        "                    return_sequences=True)) # return_sequences is required here\n",
        "# whether return_sequences is required or not is based on each different task\n",
        "model.add(SimpleRNN(100))\n",
        "# and prediction layer also change based on that\n",
        "model.summary()"
      ]
    },
    {
      "cell_type": "markdown",
      "metadata": {
        "id": "WSKtQBTd95NF"
      },
      "source": [
        "- `model = Sequential()` creates a sequential model object, which is a linear stack of layers that can be easily built and trained⁶.\n",
        "- `model.add(SimpleRNN(200, input_shape=(700, 100), return_sequences=True))` adds a SimpleRNN layer to the model, which is a fully-connected recurrent neural network where the output is fed back to the input¹². This layer has 200 units, which means it has 200 hidden states and output values. The input shape is (700, 100), which means the input has 700 time steps and 100 features per time step. The return_sequences argument is set to True, which means the layer returns the full sequence of output values for each input sequence, not just the last one.\n",
        "- `model.add(SimpleRNN(100))` adds another SimpleRNN layer to the model, with 100 units. This layer does not specify the input shape, because it inherits it from the previous layer. The return_sequences argument is set to False by default, which means the layer only returns the last output value for each input sequence.\n",
        "\n"
      ]
    },
    {
      "cell_type": "markdown",
      "metadata": {
        "id": "K-27mOfj-Rt4"
      },
      "source": [
        "### Simple Example of Return Sequences\n",
        "\n",
        "- The return_sequences argument is a boolean flag that determines whether the SimpleRNN layer returns the full sequence of output values for each input sequence, or only the last one. This is useful when you want to stack multiple recurrent layers on top of each other, or when you want to use the output sequence for further processing .\n",
        "\n",
        "- For example, suppose you have an input sequence of length 4, and each time step has 3 features. The input shape would be (4, 3). If you pass this input to a SimpleRNN layer with 2 units and return_sequences=True, the output shape would be (4, 2), because the layer returns 2 output values for each of the 4 time steps. The output sequence would look something like this:\n",
        "\n",
        "  `[[0.1, -0.2], [0.3, -0.4], [0.5, -0.6], [0.7, -0.8]]`\n",
        "\n",
        "- However, if you set return_sequences=False, the output shape would be (2,), because the layer only returns the last output value for each input sequence. The output value would look something like this:\n",
        "\n",
        "  `[0.7, -0.8]`\n"
      ]
    },
    {
      "cell_type": "markdown",
      "metadata": {
        "id": "IPPR-b01CKdR"
      },
      "source": [
        "**Bidirectional RNN**\n",
        "\n",
        "![](https://i.imgur.com/BtjtlMA.png)"
      ]
    },
    {
      "cell_type": "code",
      "execution_count": null,
      "metadata": {
        "colab": {
          "base_uri": "https://localhost:8080/"
        },
        "id": "aXCwjkbSwP0q",
        "outputId": "8a3d312f-8f03-4e9f-f457-35d8e04f9903"
      },
      "outputs": [
        {
          "name": "stdout",
          "output_type": "stream",
          "text": [
            "Model: \"sequential_6\"\n",
            "_________________________________________________________________\n",
            " Layer (type)                Output Shape              Param #   \n",
            "=================================================================\n",
            " bidirectional (Bidirectiona  (None, 128)              9600      \n",
            " l)                                                              \n",
            "                                                                 \n",
            "=================================================================\n",
            "Total params: 9,600\n",
            "Trainable params: 9,600\n",
            "Non-trainable params: 0\n",
            "_________________________________________________________________\n"
          ]
        }
      ],
      "source": [
        "from tensorflow.keras.layers import Bidirectional\n",
        "\n",
        "model = Sequential()\n",
        "model.add(Input(shape=(128, 10)))\n",
        "model.add(Bidirectional(SimpleRNN(64 )))  # two concatenated layers\n",
        "model.summary()"
      ]
    },
    {
      "cell_type": "markdown",
      "metadata": {
        "id": "Kj8ced1iDdSM"
      },
      "source": [
        "**Sequence to sequence**\n",
        "\n",
        "Used for auto completion\n",
        "\n",
        "![](https://tiensu.github.io/images/post/encoder_decoder_predict.png)"
      ]
    },
    {
      "cell_type": "markdown",
      "metadata": {
        "id": "3W4ILudvcAKk"
      },
      "source": [
        "- Inital parameters for encoder is either random or intialized zero\n",
        "- Final state of encodeer is ser as initial state of decoder\n",
        "- The training technique: Teacher Forcing, instead of input $y'_1$, we input $y_1$ which is true"
      ]
    },
    {
      "cell_type": "code",
      "execution_count": null,
      "metadata": {
        "id": "aKOMKUfTDbqf"
      },
      "outputs": [],
      "source": [
        "from tensorflow.keras.models import Model\n",
        "\n",
        "# input shape\n",
        "input_seq_length = 512\n",
        "input_dim = 128\n",
        "# hidden unit\n",
        "hidden_units = 256\n",
        "\n",
        "encoder_inputs = Input(shape=(input_seq_length, input_dim))\n",
        "# return hidden_state to be initial_state for decoder\n",
        "encoder = SimpleRNN(hidden_units, return_state=True)\n",
        "encoder_outputs, encoder_state = encoder(encoder_inputs)"
      ]
    },
    {
      "cell_type": "code",
      "execution_count": null,
      "metadata": {
        "colab": {
          "base_uri": "https://localhost:8080/"
        },
        "id": "Oizr_ejWFcKq",
        "outputId": "f54175d4-92b2-4925-df81-63f710d46b3f"
      },
      "outputs": [
        {
          "name": "stdout",
          "output_type": "stream",
          "text": [
            "Model: \"model\"\n",
            "__________________________________________________________________________________________________\n",
            " Layer (type)                   Output Shape         Param #     Connected to                     \n",
            "==================================================================================================\n",
            " input_4 (InputLayer)           [(None, 512, 128)]   0           []                               \n",
            "                                                                                                  \n",
            " input_5 (InputLayer)           [(None, 512, 128)]   0           []                               \n",
            "                                                                                                  \n",
            " simple_rnn_5 (SimpleRNN)       [(None, 256),        98560       ['input_4[0][0]']                \n",
            "                                 (None, 256)]                                                     \n",
            "                                                                                                  \n",
            " simple_rnn_6 (SimpleRNN)       (None, 512, 256)     98560       ['input_5[0][0]',                \n",
            "                                                                  'simple_rnn_5[0][1]']           \n",
            "                                                                                                  \n",
            " time_distributed_2 (TimeDistri  (None, 512, 10000)  2570000     ['simple_rnn_6[0][0]']           \n",
            " buted)                                                                                           \n",
            "                                                                                                  \n",
            "==================================================================================================\n",
            "Total params: 2,767,120\n",
            "Trainable params: 2,767,120\n",
            "Non-trainable params: 0\n",
            "__________________________________________________________________________________________________\n"
          ]
        }
      ],
      "source": [
        "# Define the output sequence length and dimensionality\n",
        "decoder_input_seq_length = 512\n",
        "decoder_input_dim = 128\n",
        "decoder_hidden_units = 256\n",
        "output_vocab = 10000\n",
        "\n",
        "# Define the input layer for the decoder\n",
        "decoder_inputs = Input(shape=(decoder_input_seq_length, decoder_input_dim))\n",
        "# Define the SimpleRNN layer as the decoder, using the encoder's state as initial state\n",
        "decoder = SimpleRNN(decoder_hidden_units, return_sequences=True)(decoder_inputs, initial_state=encoder_state)\n",
        "# Define the output layer\n",
        "output_layer = TimeDistributed(Dense(output_vocab, activation=\"softmax\"))(decoder)\n",
        "\n",
        "# Create the model\n",
        "model = Model(inputs=[encoder_inputs, decoder_inputs], outputs=output_layer)\n",
        "\n",
        "# Print the model summary\n",
        "model.summary()"
      ]
    },
    {
      "cell_type": "code",
      "execution_count": null,
      "metadata": {
        "colab": {
          "base_uri": "https://localhost:8080/",
          "height": 369
        },
        "id": "KqlN1dmpHh6W",
        "outputId": "0c854c60-7641-4c9f-b4e0-292c05a814fc"
      },
      "outputs": [
        {
          "data": {
            "image/png": "[encoded data removed]",
            "text/plain": [
              "<IPython.core.display.Image object>"
            ]
          },
          "execution_count": 9,
          "metadata": {},
          "output_type": "execute_result"
        }
      ],
      "source": [
        "from tensorflow.keras.utils import plot_model\n",
        "plot_model(model)"
      ]
    },
    {
      "cell_type": "markdown",
      "metadata": {
        "id": "j6n18NR3yT8c"
      },
      "source": [
        "# Comment Classification"
      ]
    },
    {
      "cell_type": "code",
      "execution_count": null,
      "metadata": {
        "colab": {
          "base_uri": "https://localhost:8080/"
        },
        "id": "y0-FD3WGKWZr",
        "outputId": "8bfd994b-d78a-42ed-f68a-7132cfc954ab"
      },
      "outputs": [
        {
          "name": "stdout",
          "output_type": "stream",
          "text": [
            "Mounted at /content/drive\n"
          ]
        }
      ],
      "source": [
        "from google.colab import drive\n",
        "drive.mount('/content/drive')"
      ]
    },
    {
      "cell_type": "code",
      "execution_count": null,
      "metadata": {
        "colab": {
          "base_uri": "https://localhost:8080/"
        },
        "id": "mMpWC_NAKPTa",
        "outputId": "1f8f2983-7bae-4a94-c060-f7aebacbe053"
      },
      "outputs": [
        {
          "name": "stdout",
          "output_type": "stream",
          "text": [
            "Collecting py_vncorenlp\n",
            "  Downloading py_vncorenlp-0.1.4.tar.gz (3.9 kB)\n",
            "  Preparing metadata (setup.py) ... \u001b[?25l\u001b[?25hdone\n",
            "Collecting pyjnius (from py_vncorenlp)\n",
            "  Downloading pyjnius-1.5.0-cp310-cp310-manylinux_2_17_x86_64.manylinux2014_x86_64.whl (1.4 MB)\n",
            "\u001b[2K     \u001b[90m━━━━━━━━━━━━━━━━━━━━━━━━━━━━━━━━━━━━━━━━\u001b[0m \u001b[32m1.4/1.4 MB\u001b[0m \u001b[31m7.0 MB/s\u001b[0m eta \u001b[36m0:00:00\u001b[0m\n",
            "\u001b[?25hBuilding wheels for collected packages: py_vncorenlp\n",
            "  Building wheel for py_vncorenlp (setup.py) ... \u001b[?25l\u001b[?25hdone\n",
            "  Created wheel for py_vncorenlp: filename=py_vncorenlp-0.1.4-py3-none-any.whl size=4305 sha256=e5fe8a2d34e60c5e70bdb3bac7d02db13361075598db8a9670f33a0c18a5b860\n",
            "  Stored in directory: /root/.cache/pip/wheels/d5/d9/bf/62632cdb007c702a0664091e92a0bb1f18a2fcecbe962d9827\n",
            "Successfully built py_vncorenlp\n",
            "Installing collected packages: pyjnius, py_vncorenlp\n",
            "Successfully installed py_vncorenlp-0.1.4 pyjnius-1.5.0\n"
          ]
        }
      ],
      "source": [
        "!pip install py_vncorenlp"
      ]
    },
    {
      "cell_type": "code",
      "execution_count": null,
      "metadata": {
        "colab": {
          "base_uri": "https://localhost:8080/",
          "height": 206
        },
        "id": "3-ykUbIhKDdr",
        "outputId": "bf4fcfc3-5cee-41a3-a378-9de5a51e8ae5"
      },
      "outputs": [
        {
          "data": {
            "text/html": [
              "\n",
              "\n",
              "  <div id=\"df-fa01477e-1180-4cdb-9bd3-fc36bd3255a7\">\n",
              "    <div class=\"colab-df-container\">\n",
              "      <div>\n",
              "<style scoped>\n",
              "    .dataframe tbody tr th:only-of-type {\n",
              "        vertical-align: middle;\n",
              "    }\n",
              "\n",
              "    .dataframe tbody tr th {\n",
              "        vertical-align: top;\n",
              "    }\n",
              "\n",
              "    .dataframe thead th {\n",
              "        text-align: right;\n",
              "    }\n",
              "</style>\n",
              "<table border=\"1\" class=\"dataframe\">\n",
              "  <thead>\n",
              "    <tr style=\"text-align: right;\">\n",
              "      <th></th>\n",
              "      <th>review</th>\n",
              "      <th>label</th>\n",
              "    </tr>\n",
              "  </thead>\n",
              "  <tbody>\n",
              "    <tr>\n",
              "      <th>0</th>\n",
              "      <td>Lần trước mình mua áo gió màu hồng rất ok mà đ...</td>\n",
              "      <td>1</td>\n",
              "    </tr>\n",
              "    <tr>\n",
              "      <th>1</th>\n",
              "      <td>Các siêu phẩm thấy cấu hình toàn tựa tựa nhau ...</td>\n",
              "      <td>1</td>\n",
              "    </tr>\n",
              "    <tr>\n",
              "      <th>2</th>\n",
              "      <td>Đồng hồ đẹp nhưng 1 cái đứt dây 1 cái không ch...</td>\n",
              "      <td>1</td>\n",
              "    </tr>\n",
              "    <tr>\n",
              "      <th>3</th>\n",
              "      <td>Giao thiếu mình cái này rồi shop ơi</td>\n",
              "      <td>1</td>\n",
              "    </tr>\n",
              "    <tr>\n",
              "      <th>4</th>\n",
              "      <td>không hài lòng sản phẩm cho lắm giặt lần đầu t...</td>\n",
              "      <td>1</td>\n",
              "    </tr>\n",
              "  </tbody>\n",
              "</table>\n",
              "</div>\n",
              "      <button class=\"colab-df-convert\" onclick=\"convertToInteractive('df-fa01477e-1180-4cdb-9bd3-fc36bd3255a7')\"\n",
              "              title=\"Convert this dataframe to an interactive table.\"\n",
              "              style=\"display:none;\">\n",
              "\n",
              "  <svg xmlns=\"http://www.w3.org/2000/svg\" height=\"24px\"viewBox=\"0 0 24 24\"\n",
              "       width=\"24px\">\n",
              "    <path d=\"M0 0h24v24H0V0z\" fill=\"none\"/>\n",
              "    <path d=\"M18.56 5.44l.94 2.06.94-2.06 2.06-.94-2.06-.94-.94-2.06-.94 2.06-2.06.94zm-11 1L8.5 8.5l.94-2.06 2.06-.94-2.06-.94L8.5 2.5l-.94 2.06-2.06.94zm10 10l.94 2.06.94-2.06 2.06-.94-2.06-.94-.94-2.06-.94 2.06-2.06.94z\"/><path d=\"M17.41 7.96l-1.37-1.37c-.4-.4-.92-.59-1.43-.59-.52 0-1.04.2-1.43.59L10.3 9.45l-7.72 7.72c-.78.78-.78 2.05 0 2.83L4 21.41c.39.39.9.59 1.41.59.51 0 1.02-.2 1.41-.59l7.78-7.78 2.81-2.81c.8-.78.8-2.07 0-2.86zM5.41 20L4 18.59l7.72-7.72 1.47 1.35L5.41 20z\"/>\n",
              "  </svg>\n",
              "      </button>\n",
              "\n",
              "\n",
              "\n",
              "    <div id=\"df-45ea7e23-1792-4985-8293-3dcd3d35fae5\">\n",
              "      <button class=\"colab-df-quickchart\" onclick=\"quickchart('df-45ea7e23-1792-4985-8293-3dcd3d35fae5')\"\n",
              "              title=\"Suggest charts.\"\n",
              "              style=\"display:none;\">\n",
              "\n",
              "<svg xmlns=\"http://www.w3.org/2000/svg\" height=\"24px\"viewBox=\"0 0 24 24\"\n",
              "     width=\"24px\">\n",
              "    <g>\n",
              "        <path d=\"M19 3H5c-1.1 0-2 .9-2 2v14c0 1.1.9 2 2 2h14c1.1 0 2-.9 2-2V5c0-1.1-.9-2-2-2zM9 17H7v-7h2v7zm4 0h-2V7h2v10zm4 0h-2v-4h2v4z\"/>\n",
              "    </g>\n",
              "</svg>\n",
              "      </button>\n",
              "    </div>\n",
              "\n",
              "<style>\n",
              "  .colab-df-quickchart {\n",
              "    background-color: #E8F0FE;\n",
              "    border: none;\n",
              "    border-radius: 50%;\n",
              "    cursor: pointer;\n",
              "    display: none;\n",
              "    fill: #1967D2;\n",
              "    height: 32px;\n",
              "    padding: 0 0 0 0;\n",
              "    width: 32px;\n",
              "  }\n",
              "\n",
              "  .colab-df-quickchart:hover {\n",
              "    background-color: #E2EBFA;\n",
              "    box-shadow: 0px 1px 2px rgba(60, 64, 67, 0.3), 0px 1px 3px 1px rgba(60, 64, 67, 0.15);\n",
              "    fill: #174EA6;\n",
              "  }\n",
              "\n",
              "  [theme=dark] .colab-df-quickchart {\n",
              "    background-color: #3B4455;\n",
              "    fill: #D2E3FC;\n",
              "  }\n",
              "\n",
              "  [theme=dark] .colab-df-quickchart:hover {\n",
              "    background-color: #434B5C;\n",
              "    box-shadow: 0px 1px 3px 1px rgba(0, 0, 0, 0.15);\n",
              "    filter: drop-shadow(0px 1px 2px rgba(0, 0, 0, 0.3));\n",
              "    fill: #FFFFFF;\n",
              "  }\n",
              "</style>\n",
              "\n",
              "    <script>\n",
              "      async function quickchart(key) {\n",
              "        const containerElement = document.querySelector('#' + key);\n",
              "        const charts = await google.colab.kernel.invokeFunction(\n",
              "            'suggestCharts', [key], {});\n",
              "      }\n",
              "    </script>\n",
              "\n",
              "      <script>\n",
              "\n",
              "function displayQuickchartButton(domScope) {\n",
              "  let quickchartButtonEl =\n",
              "    domScope.querySelector('#df-45ea7e23-1792-4985-8293-3dcd3d35fae5 button.colab-df-quickchart');\n",
              "  quickchartButtonEl.style.display =\n",
              "    google.colab.kernel.accessAllowed ? 'block' : 'none';\n",
              "}\n",
              "\n",
              "        displayQuickchartButton(document);\n",
              "      </script>\n",
              "      <style>\n",
              "    .colab-df-container {\n",
              "      display:flex;\n",
              "      flex-wrap:wrap;\n",
              "      gap: 12px;\n",
              "    }\n",
              "\n",
              "    .colab-df-convert {\n",
              "      background-color: #E8F0FE;\n",
              "      border: none;\n",
              "      border-radius: 50%;\n",
              "      cursor: pointer;\n",
              "      display: none;\n",
              "      fill: #1967D2;\n",
              "      height: 32px;\n",
              "      padding: 0 0 0 0;\n",
              "      width: 32px;\n",
              "    }\n",
              "\n",
              "    .colab-df-convert:hover {\n",
              "      background-color: #E2EBFA;\n",
              "      box-shadow: 0px 1px 2px rgba(60, 64, 67, 0.3), 0px 1px 3px 1px rgba(60, 64, 67, 0.15);\n",
              "      fill: #174EA6;\n",
              "    }\n",
              "\n",
              "    [theme=dark] .colab-df-convert {\n",
              "      background-color: #3B4455;\n",
              "      fill: #D2E3FC;\n",
              "    }\n",
              "\n",
              "    [theme=dark] .colab-df-convert:hover {\n",
              "      background-color: #434B5C;\n",
              "      box-shadow: 0px 1px 3px 1px rgba(0, 0, 0, 0.15);\n",
              "      filter: drop-shadow(0px 1px 2px rgba(0, 0, 0, 0.3));\n",
              "      fill: #FFFFFF;\n",
              "    }\n",
              "  </style>\n",
              "\n",
              "      <script>\n",
              "        const buttonEl =\n",
              "          document.querySelector('#df-fa01477e-1180-4cdb-9bd3-fc36bd3255a7 button.colab-df-convert');\n",
              "        buttonEl.style.display =\n",
              "          google.colab.kernel.accessAllowed ? 'block' : 'none';\n",
              "\n",
              "        async function convertToInteractive(key) {\n",
              "          const element = document.querySelector('#df-fa01477e-1180-4cdb-9bd3-fc36bd3255a7');\n",
              "          const dataTable =\n",
              "            await google.colab.kernel.invokeFunction('convertToInteractive',\n",
              "                                                     [key], {});\n",
              "          if (!dataTable) return;\n",
              "\n",
              "          const docLinkHtml = 'Like what you see? Visit the ' +\n",
              "            '<a target=\"_blank\" href=https://colab.research.google.com/notebooks/data_table.ipynb>data table notebook</a>'\n",
              "            + ' to learn more about interactive tables.';\n",
              "          element.innerHTML = '';\n",
              "          dataTable['output_type'] = 'display_data';\n",
              "          await google.colab.output.renderOutput(dataTable, element);\n",
              "          const docLink = document.createElement('div');\n",
              "          docLink.innerHTML = docLinkHtml;\n",
              "          element.appendChild(docLink);\n",
              "        }\n",
              "      </script>\n",
              "    </div>\n",
              "  </div>\n"
            ],
            "text/plain": [
              "                                              review  label\n",
              "0  Lần trước mình mua áo gió màu hồng rất ok mà đ...      1\n",
              "1  Các siêu phẩm thấy cấu hình toàn tựa tựa nhau ...      1\n",
              "2  Đồng hồ đẹp nhưng 1 cái đứt dây 1 cái không ch...      1\n",
              "3                Giao thiếu mình cái này rồi shop ơi      1\n",
              "4  không hài lòng sản phẩm cho lắm giặt lần đầu t...      1"
            ]
          },
          "execution_count": 12,
          "metadata": {},
          "output_type": "execute_result"
        }
      ],
      "source": [
        "import pandas as pd\n",
        "\n",
        "df = pd.read_csv(\"/content/drive/MyDrive/Colab Notebooks/ML-intensive/data/sentiment_small.csv\")\n",
        "df.head()"
      ]
    },
    {
      "cell_type": "code",
      "execution_count": null,
      "metadata": {
        "colab": {
          "base_uri": "https://localhost:8080/"
        },
        "id": "QR5Z2hUJdUj9",
        "outputId": "6d3a141f-3de0-40c3-d588-6cd91718088d"
      },
      "outputs": [
        {
          "name": "stdout",
          "output_type": "stream",
          "text": [
            "Lần trước mình mua áo gió màu hồng rất ok mà đợt này lại giao 2 cái áo gió chất khác như vải mưa ý\n",
            "Các siêu phẩm thấy cấu hình toàn tựa tựa nhau không còn sự đột phá lớn nữa\n",
            "Đồng hồ đẹp nhưng 1 cái đứt dây 1 cái không chạy mua về phải sửa\n",
            "Giao thiếu mình cái này rồi shop ơi\n",
            "không hài lòng sản phẩm cho lắm giặt lần đầu tiên đã nhòe màu\n",
            "Đồng hồ thì đẹp thật nhưng tại sao kim lúc chạy lúc đứng\n",
            "Cũng hơi bất tiện\n",
            "Toàn hàng trung quốc khi mua quên không coi kĩ\n",
            "Shop giao hàng không giống màu\n",
            "Shop giao sai màu đặt màu xanh da trời shop giao màu nõn chuối\n",
            "không thấy đèn sáng\n",
            "hàng bị lỗi nhiều quá màn hình bị cháy\n",
            "Đóng gói sản phẩm rất kém\n",
            "Tư vấn không nhiệt tình\n",
            "Sản phẩm không an toàn quá nguy hiểm cho người sử_dụng\n",
            "Không đáng để mua sản phẩm này \n",
            "Thời gian giao hàng lâu\n",
            "Khẩu trang mỏng tang không biết có phải do giá sale không mà chất lượng chán thế\n",
            "Chất lượng quá kém giao hàng không đúng mẫu\n",
            "Đặt lần 2 rồi mà giao hàng lâu quá vậy\n",
            "Shop hết hàng nhưng không báo \n",
            "Thấy ghi đc tặng kèm tã quần đến khi nhận hàng thì không thấy\n",
            "Shop phục vụ rất kém\n",
            "Đặt combo mà shop chỉ giao bánh gạo và sốt không thấy phô mai và chả cá đâu\n",
            "Mui khoan xài mau lục quá\n",
            "Hạt giống không nảy mầm\n",
            "toàn hàng fake\n",
            "hàng ko đúng chất lượng\n",
            "Chất lượng sản phẩm rất kém\n",
            "Váy nhỏ sao với kích thước bé nhà mình 19kg đã chọn size lớn nhất nhưng vẫn không vừa\n",
            "Đóng gói sản phẩm rất đẹp và chắc chắn\n",
            "Chất lượng sản phẩm tuyệt vời\n",
            "Son mịn khi đánh lên như màu trên ảnh\n",
            "Chất lượng sản phẩm tuyệt vời nói chung đẹp hợp túi tiền\n",
            "Đã nhận đc hàng rất nhanh mới đặt buổi tối mà trưa mai là có rồi\n",
            "Hàng ship nhanh chất lượng tốt\n",
            "tư vấn nhiệt tình ship rất đúng size\n",
            "Chất lượng sản phẩm tuyệt vời giống với hình chụp\n",
            "nhìn đẹp phết nhỉ\n",
            "Săn đc với giá rẻ tuyệt vời\n",
            "Ok rất hài lòng\n",
            "Chất lượng sản phẩm tuyệt vời tôi rất thích\n",
            "Giày đẹp lắm có điều dây hơi ngắn tí ạ\n",
            "Yếm vải đẹp\n",
            "Giao hàng nhanh mặc đẹp cám ơn shop\n",
            "bao bì cute phô mai que\n",
            "Giao hàng siêu nhanh đóng gói cẩn thận và tư vấn nhiệt tình\n",
            "Hạt điều thấm vị và giòn\n",
            "Đóng gói sản phẩm rất đẹp và chắc_chắn được shop tặng thêm quà nữa\n",
            "So với giá thì chất lượng tuyệt vời\n",
            "Shop phục vụ rất tốt thời gian giao hàng rất nhanh\n",
            "Giày đẹp mang êm và vừa chân lắm nha shop\n",
            "Chưa dùng nhưng nghe bạn m dùng rồi chất lượng khá tốt\n",
            "Uống rất ngon giao hàng nhanh \n",
            "Rẻ lắm mà tốt\n",
            "Sản phẩm tốt ưng ý\n",
            "Chất lượng sản phẩm tuyệt vời nhưng hơi cũ tí\n",
            "Áo với giày siêu đáng yêu ạ\n",
            "Thời gian bảo hành rất nhanh\n",
            "Kem dùng ổn mỗi tội hơi tối do với da mình\n"
          ]
        }
      ],
      "source": [
        "for review in df[\"review\"].values:\n",
        "  print(review)"
      ]
    },
    {
      "cell_type": "code",
      "execution_count": null,
      "metadata": {
        "id": "-c65j3eDKe7M"
      },
      "outputs": [],
      "source": [
        "import py_vncorenlp # word segmentor\n",
        "segmenter = py_vncorenlp.VnCoreNLP(annotators=[\"wseg\"], save_dir='/content/drive/MyDrive/Colab Notebooks/ML-intensive/data/vncorenlp')"
      ]
    },
    {
      "cell_type": "code",
      "execution_count": null,
      "metadata": {
        "colab": {
          "base_uri": "https://localhost:8080/"
        },
        "id": "9lBjH5mcQNGh",
        "outputId": "1526ebb7-df3a-4ccd-af61-244a39198957"
      },
      "outputs": [
        {
          "data": {
            "text/plain": [
              "['Hôm_nay tôi rất thất_vọng']"
            ]
          },
          "execution_count": 16,
          "metadata": {},
          "output_type": "execute_result"
        }
      ],
      "source": [
        "segmenter.word_segment(\"Hôm nay tôi rất thất vọng\")"
      ]
    },
    {
      "cell_type": "markdown",
      "metadata": {
        "id": "nZ1c2MbgQQba"
      },
      "source": [
        "#### TODO 1\n",
        "\n",
        "Complete the function by following the guildance:\n",
        "- Remove leading and ending spaces\n",
        "- Convert characters to lowercase\n",
        "- Apply `word_segment` to convert to new sentences and `return`"
      ]
    },
    {
      "cell_type": "code",
      "execution_count": null,
      "metadata": {
        "colab": {
          "base_uri": "https://localhost:8080/"
        },
        "id": "aWSuHYb87U0k",
        "outputId": "32b3ca63-439e-4279-99fe-32e99c6f7a14"
      },
      "outputs": [
        {
          "data": {
            "text/plain": [
              "['Hôm_nay tôi nhận được bài kiểm_tra điểm rất kém và tôi rất thất_vọng']"
            ]
          },
          "execution_count": 18,
          "metadata": {},
          "output_type": "execute_result"
        }
      ],
      "source": [
        "def word_segment(text):\n",
        "  text = text.strip().lower()\n",
        "  text = segmenter.word_segment(text)[0]\n",
        "  return text\n",
        "\n",
        "segmenter.word_segment(\"Hôm nay tôi nhận được bài kiểm tra điểm rất kém và tôi rất thất vọng\")"
      ]
    },
    {
      "cell_type": "code",
      "execution_count": null,
      "metadata": {
        "colab": {
          "base_uri": "https://localhost:8080/",
          "height": 206
        },
        "id": "VggxM-AqQgtf",
        "outputId": "f8f9dc00-ac62-4d58-9a3d-793d63db3ad3"
      },
      "outputs": [
        {
          "data": {
            "text/html": [
              "\n",
              "\n",
              "  <div id=\"df-23b17f88-9862-464c-bd61-e0c37647f5c1\">\n",
              "    <div class=\"colab-df-container\">\n",
              "      <div>\n",
              "<style scoped>\n",
              "    .dataframe tbody tr th:only-of-type {\n",
              "        vertical-align: middle;\n",
              "    }\n",
              "\n",
              "    .dataframe tbody tr th {\n",
              "        vertical-align: top;\n",
              "    }\n",
              "\n",
              "    .dataframe thead th {\n",
              "        text-align: right;\n",
              "    }\n",
              "</style>\n",
              "<table border=\"1\" class=\"dataframe\">\n",
              "  <thead>\n",
              "    <tr style=\"text-align: right;\">\n",
              "      <th></th>\n",
              "      <th>review</th>\n",
              "      <th>label</th>\n",
              "    </tr>\n",
              "  </thead>\n",
              "  <tbody>\n",
              "    <tr>\n",
              "      <th>0</th>\n",
              "      <td>lần trước mình mua áo_gió màu hồng rất ok mà đ...</td>\n",
              "      <td>1</td>\n",
              "    </tr>\n",
              "    <tr>\n",
              "      <th>1</th>\n",
              "      <td>các siêu phẩm thấy cấu_hình toàn tựa tựa nhau ...</td>\n",
              "      <td>1</td>\n",
              "    </tr>\n",
              "    <tr>\n",
              "      <th>2</th>\n",
              "      <td>đồng_hồ đẹp nhưng 1 cái đứt dây 1 cái không ch...</td>\n",
              "      <td>1</td>\n",
              "    </tr>\n",
              "    <tr>\n",
              "      <th>3</th>\n",
              "      <td>giao thiếu mình cái này rồi shop ơi</td>\n",
              "      <td>1</td>\n",
              "    </tr>\n",
              "    <tr>\n",
              "      <th>4</th>\n",
              "      <td>không hài_lòng sản_phẩm cho lắm giặt lần đầu_t...</td>\n",
              "      <td>1</td>\n",
              "    </tr>\n",
              "  </tbody>\n",
              "</table>\n",
              "</div>\n",
              "      <button class=\"colab-df-convert\" onclick=\"convertToInteractive('df-23b17f88-9862-464c-bd61-e0c37647f5c1')\"\n",
              "              title=\"Convert this dataframe to an interactive table.\"\n",
              "              style=\"display:none;\">\n",
              "\n",
              "  <svg xmlns=\"http://www.w3.org/2000/svg\" height=\"24px\"viewBox=\"0 0 24 24\"\n",
              "       width=\"24px\">\n",
              "    <path d=\"M0 0h24v24H0V0z\" fill=\"none\"/>\n",
              "    <path d=\"M18.56 5.44l.94 2.06.94-2.06 2.06-.94-2.06-.94-.94-2.06-.94 2.06-2.06.94zm-11 1L8.5 8.5l.94-2.06 2.06-.94-2.06-.94L8.5 2.5l-.94 2.06-2.06.94zm10 10l.94 2.06.94-2.06 2.06-.94-2.06-.94-.94-2.06-.94 2.06-2.06.94z\"/><path d=\"M17.41 7.96l-1.37-1.37c-.4-.4-.92-.59-1.43-.59-.52 0-1.04.2-1.43.59L10.3 9.45l-7.72 7.72c-.78.78-.78 2.05 0 2.83L4 21.41c.39.39.9.59 1.41.59.51 0 1.02-.2 1.41-.59l7.78-7.78 2.81-2.81c.8-.78.8-2.07 0-2.86zM5.41 20L4 18.59l7.72-7.72 1.47 1.35L5.41 20z\"/>\n",
              "  </svg>\n",
              "      </button>\n",
              "\n",
              "\n",
              "\n",
              "    <div id=\"df-fc061f74-f565-4b19-a2bd-59bf1ad11aa5\">\n",
              "      <button class=\"colab-df-quickchart\" onclick=\"quickchart('df-fc061f74-f565-4b19-a2bd-59bf1ad11aa5')\"\n",
              "              title=\"Suggest charts.\"\n",
              "              style=\"display:none;\">\n",
              "\n",
              "<svg xmlns=\"http://www.w3.org/2000/svg\" height=\"24px\"viewBox=\"0 0 24 24\"\n",
              "     width=\"24px\">\n",
              "    <g>\n",
              "        <path d=\"M19 3H5c-1.1 0-2 .9-2 2v14c0 1.1.9 2 2 2h14c1.1 0 2-.9 2-2V5c0-1.1-.9-2-2-2zM9 17H7v-7h2v7zm4 0h-2V7h2v10zm4 0h-2v-4h2v4z\"/>\n",
              "    </g>\n",
              "</svg>\n",
              "      </button>\n",
              "    </div>\n",
              "\n",
              "<style>\n",
              "  .colab-df-quickchart {\n",
              "    background-color: #E8F0FE;\n",
              "    border: none;\n",
              "    border-radius: 50%;\n",
              "    cursor: pointer;\n",
              "    display: none;\n",
              "    fill: #1967D2;\n",
              "    height: 32px;\n",
              "    padding: 0 0 0 0;\n",
              "    width: 32px;\n",
              "  }\n",
              "\n",
              "  .colab-df-quickchart:hover {\n",
              "    background-color: #E2EBFA;\n",
              "    box-shadow: 0px 1px 2px rgba(60, 64, 67, 0.3), 0px 1px 3px 1px rgba(60, 64, 67, 0.15);\n",
              "    fill: #174EA6;\n",
              "  }\n",
              "\n",
              "  [theme=dark] .colab-df-quickchart {\n",
              "    background-color: #3B4455;\n",
              "    fill: #D2E3FC;\n",
              "  }\n",
              "\n",
              "  [theme=dark] .colab-df-quickchart:hover {\n",
              "    background-color: #434B5C;\n",
              "    box-shadow: 0px 1px 3px 1px rgba(0, 0, 0, 0.15);\n",
              "    filter: drop-shadow(0px 1px 2px rgba(0, 0, 0, 0.3));\n",
              "    fill: #FFFFFF;\n",
              "  }\n",
              "</style>\n",
              "\n",
              "    <script>\n",
              "      async function quickchart(key) {\n",
              "        const containerElement = document.querySelector('#' + key);\n",
              "        const charts = await google.colab.kernel.invokeFunction(\n",
              "            'suggestCharts', [key], {});\n",
              "      }\n",
              "    </script>\n",
              "\n",
              "      <script>\n",
              "\n",
              "function displayQuickchartButton(domScope) {\n",
              "  let quickchartButtonEl =\n",
              "    domScope.querySelector('#df-fc061f74-f565-4b19-a2bd-59bf1ad11aa5 button.colab-df-quickchart');\n",
              "  quickchartButtonEl.style.display =\n",
              "    google.colab.kernel.accessAllowed ? 'block' : 'none';\n",
              "}\n",
              "\n",
              "        displayQuickchartButton(document);\n",
              "      </script>\n",
              "      <style>\n",
              "    .colab-df-container {\n",
              "      display:flex;\n",
              "      flex-wrap:wrap;\n",
              "      gap: 12px;\n",
              "    }\n",
              "\n",
              "    .colab-df-convert {\n",
              "      background-color: #E8F0FE;\n",
              "      border: none;\n",
              "      border-radius: 50%;\n",
              "      cursor: pointer;\n",
              "      display: none;\n",
              "      fill: #1967D2;\n",
              "      height: 32px;\n",
              "      padding: 0 0 0 0;\n",
              "      width: 32px;\n",
              "    }\n",
              "\n",
              "    .colab-df-convert:hover {\n",
              "      background-color: #E2EBFA;\n",
              "      box-shadow: 0px 1px 2px rgba(60, 64, 67, 0.3), 0px 1px 3px 1px rgba(60, 64, 67, 0.15);\n",
              "      fill: #174EA6;\n",
              "    }\n",
              "\n",
              "    [theme=dark] .colab-df-convert {\n",
              "      background-color: #3B4455;\n",
              "      fill: #D2E3FC;\n",
              "    }\n",
              "\n",
              "    [theme=dark] .colab-df-convert:hover {\n",
              "      background-color: #434B5C;\n",
              "      box-shadow: 0px 1px 3px 1px rgba(0, 0, 0, 0.15);\n",
              "      filter: drop-shadow(0px 1px 2px rgba(0, 0, 0, 0.3));\n",
              "      fill: #FFFFFF;\n",
              "    }\n",
              "  </style>\n",
              "\n",
              "      <script>\n",
              "        const buttonEl =\n",
              "          document.querySelector('#df-23b17f88-9862-464c-bd61-e0c37647f5c1 button.colab-df-convert');\n",
              "        buttonEl.style.display =\n",
              "          google.colab.kernel.accessAllowed ? 'block' : 'none';\n",
              "\n",
              "        async function convertToInteractive(key) {\n",
              "          const element = document.querySelector('#df-23b17f88-9862-464c-bd61-e0c37647f5c1');\n",
              "          const dataTable =\n",
              "            await google.colab.kernel.invokeFunction('convertToInteractive',\n",
              "                                                     [key], {});\n",
              "          if (!dataTable) return;\n",
              "\n",
              "          const docLinkHtml = 'Like what you see? Visit the ' +\n",
              "            '<a target=\"_blank\" href=https://colab.research.google.com/notebooks/data_table.ipynb>data table notebook</a>'\n",
              "            + ' to learn more about interactive tables.';\n",
              "          element.innerHTML = '';\n",
              "          dataTable['output_type'] = 'display_data';\n",
              "          await google.colab.output.renderOutput(dataTable, element);\n",
              "          const docLink = document.createElement('div');\n",
              "          docLink.innerHTML = docLinkHtml;\n",
              "          element.appendChild(docLink);\n",
              "        }\n",
              "      </script>\n",
              "    </div>\n",
              "  </div>\n"
            ],
            "text/plain": [
              "                                              review  label\n",
              "0  lần trước mình mua áo_gió màu hồng rất ok mà đ...      1\n",
              "1  các siêu phẩm thấy cấu_hình toàn tựa tựa nhau ...      1\n",
              "2  đồng_hồ đẹp nhưng 1 cái đứt dây 1 cái không ch...      1\n",
              "3                giao thiếu mình cái này rồi shop ơi      1\n",
              "4  không hài_lòng sản_phẩm cho lắm giặt lần đầu_t...      1"
            ]
          },
          "execution_count": 19,
          "metadata": {},
          "output_type": "execute_result"
        }
      ],
      "source": [
        "df[\"review\"] = df[\"review\"].apply(word_segment)\n",
        "df.head()"
      ]
    },
    {
      "cell_type": "markdown",
      "metadata": {
        "id": "7IUttuvlLwfp"
      },
      "source": [
        "#### TODO 2\n",
        "\n",
        "Tokenizer: count the number of words in a data set\n"
      ]
    },
    {
      "cell_type": "code",
      "execution_count": null,
      "metadata": {
        "colab": {
          "base_uri": "https://localhost:8080/"
        },
        "id": "xS4q4e8TLULb",
        "outputId": "49ea9f54-7482-4851-b154-7bb8088ddcf5"
      },
      "outputs": [
        {
          "name": "stdout",
          "output_type": "stream",
          "text": [
            "232\n"
          ]
        }
      ],
      "source": [
        "word_set = set()\n",
        "for review in df[\"review\"].values:\n",
        "  review_words = review.split()\n",
        "  for word in review_words:\n",
        "    word_set.add(word)\n",
        "\n",
        "print(len(word_set))"
      ]
    },
    {
      "cell_type": "code",
      "execution_count": null,
      "metadata": {
        "id": "GdeQQ6cr7-lk"
      },
      "outputs": [],
      "source": [
        "# import Tokenizer để tách từ\n",
        "from tensorflow.keras.preprocessing.text import Tokenizer\n",
        "# import pad_sequences để lấy số từ mỗi câu là như nhau\n",
        "from tensorflow.keras.preprocessing.sequence import pad_sequences\n",
        "\n",
        "# Tensorflow phiên bản mới có cung cấp layer để gộp 2 bước này\n",
        "# Trong bài Lab này, ta vẫn dùng cách cũ vì ta muốn đi từng bước một"
      ]
    },
    {
      "cell_type": "code",
      "execution_count": null,
      "metadata": {
        "id": "YsgdU08bfwgB"
      },
      "outputs": [],
      "source": [
        "VOCAB_SIZE = len(word_set)"
      ]
    },
    {
      "cell_type": "code",
      "execution_count": null,
      "metadata": {
        "id": "UEz-w2-_LRqK"
      },
      "outputs": [],
      "source": [
        "tokenizer = Tokenizer(num_words=VOCAB_SIZE, oov_token=\"oov\", split=\" \", filters=\"\")\n",
        "tokenizer.fit_on_texts(df[\"review\"].values)"
      ]
    },
    {
      "cell_type": "code",
      "execution_count": null,
      "metadata": {
        "colab": {
          "base_uri": "https://localhost:8080/"
        },
        "id": "KNobWp8VNQHJ",
        "outputId": "1a6a5c28-173c-4926-9c0e-f79dea99c821"
      },
      "outputs": [
        {
          "data": {
            "text/plain": [
              "{'oov': 1,\n",
              " 'không': 2,\n",
              " 'hàng': 3,\n",
              " 'rất': 4,\n",
              " 'giao': 5,\n",
              " 'sản_phẩm': 6,\n",
              " 'chất_lượng': 7,\n",
              " 'shop': 8,\n",
              " 'đẹp': 9,\n",
              " 'màu': 10,\n",
              " 'và': 11,\n",
              " 'tuyệt_vời': 12,\n",
              " 'nhanh': 13,\n",
              " 'mà': 14,\n",
              " 'nhưng': 15,\n",
              " 'với': 16,\n",
              " 'thấy': 17,\n",
              " 'quá': 18,\n",
              " 'tốt': 19,\n",
              " 'mình': 20,\n",
              " 'mua': 21,\n",
              " 'cái': 22,\n",
              " 'rồi': 23,\n",
              " 'lắm': 24,\n",
              " 'hơi': 25,\n",
              " 'đặt': 26,\n",
              " 'đóng_gói': 27,\n",
              " 'kém': 28,\n",
              " 'lần': 29,\n",
              " 'này': 30,\n",
              " 'siêu': 31,\n",
              " 'toàn': 32,\n",
              " 'đã': 33,\n",
              " 'thì': 34,\n",
              " 'khi': 35,\n",
              " 'tư_vấn': 36,\n",
              " 'nhiệt_tình': 37,\n",
              " 'thời_gian': 38,\n",
              " 'giá': 39,\n",
              " 'đúng': 40,\n",
              " 'đc': 41,\n",
              " 'giày': 42,\n",
              " 'dùng': 43,\n",
              " 'áo_gió': 44,\n",
              " 'ok': 45,\n",
              " '2': 46,\n",
              " 'như': 47,\n",
              " 'vải': 48,\n",
              " 'tựa': 49,\n",
              " 'lớn': 50,\n",
              " 'nữa': 51,\n",
              " 'đồng_hồ': 52,\n",
              " '1': 53,\n",
              " 'dây': 54,\n",
              " 'chạy': 55,\n",
              " 'phải': 56,\n",
              " 'hài_lòng': 57,\n",
              " 'cho': 58,\n",
              " 'lúc': 59,\n",
              " 'giống': 60,\n",
              " 'bị': 61,\n",
              " '_': 62,\n",
              " 'đáng': 63,\n",
              " 'lâu': 64,\n",
              " 'có': 65,\n",
              " 'do': 66,\n",
              " 'tặng': 67,\n",
              " 'nhận': 68,\n",
              " 'phục_vụ': 69,\n",
              " 'phô_mai': 70,\n",
              " 'size': 71,\n",
              " 'vừa': 72,\n",
              " 'tối': 73,\n",
              " 'ship': 74,\n",
              " 'rẻ': 75,\n",
              " 'tí': 76,\n",
              " 'ạ': 77,\n",
              " 'trước': 78,\n",
              " 'hồng': 79,\n",
              " 'đợt': 80,\n",
              " 'lại': 81,\n",
              " 'chất': 82,\n",
              " 'khác': 83,\n",
              " 'mưa': 84,\n",
              " 'ý': 85,\n",
              " 'các': 86,\n",
              " 'phẩm': 87,\n",
              " 'cấu_hình': 88,\n",
              " 'nhau': 89,\n",
              " 'còn': 90,\n",
              " 'sự': 91,\n",
              " 'đột_phá': 92,\n",
              " 'đứt': 93,\n",
              " 'về': 94,\n",
              " 'sửa': 95,\n",
              " 'thiếu': 96,\n",
              " 'ơi': 97,\n",
              " 'giặt': 98,\n",
              " 'đầu_tiên': 99,\n",
              " 'nhoè': 100,\n",
              " 'thật': 101,\n",
              " 'tại_sao': 102,\n",
              " 'kim': 103,\n",
              " 'đứng': 104,\n",
              " 'cũng': 105,\n",
              " 'bất_tiện': 106,\n",
              " 'trung_quốc': 107,\n",
              " 'quên': 108,\n",
              " 'coi': 109,\n",
              " 'kĩ': 110,\n",
              " 'sai': 111,\n",
              " 'xanh': 112,\n",
              " 'da_trời': 113,\n",
              " 'nõn': 114,\n",
              " 'chuối': 115,\n",
              " 'đèn': 116,\n",
              " 'sáng': 117,\n",
              " 'lỗi': 118,\n",
              " 'nhiều': 119,\n",
              " 'màn_hình': 120,\n",
              " 'cháy': 121,\n",
              " 'an_toàn': 122,\n",
              " 'nguy_hiểm': 123,\n",
              " 'người': 124,\n",
              " 'sử': 125,\n",
              " 'dụng': 126,\n",
              " 'để': 127,\n",
              " 'khẩu_trang': 128,\n",
              " 'mỏng_tang': 129,\n",
              " 'biết': 130,\n",
              " 'sale': 131,\n",
              " 'chán': 132,\n",
              " 'thế': 133,\n",
              " 'mẫu': 134,\n",
              " 'vậy': 135,\n",
              " 'hết': 136,\n",
              " 'báo': 137,\n",
              " 'ghi': 138,\n",
              " 'kèm': 139,\n",
              " 'tã': 140,\n",
              " 'quần': 141,\n",
              " 'đến': 142,\n",
              " 'combo': 143,\n",
              " 'chỉ': 144,\n",
              " 'bánh': 145,\n",
              " 'gạo': 146,\n",
              " 'sốt': 147,\n",
              " 'chả': 148,\n",
              " 'cá': 149,\n",
              " 'đâu': 150,\n",
              " 'mui': 151,\n",
              " 'khoan': 152,\n",
              " 'xài': 153,\n",
              " 'mau': 154,\n",
              " 'lục': 155,\n",
              " 'hạt_giống': 156,\n",
              " 'nảy': 157,\n",
              " 'mầm': 158,\n",
              " 'fake': 159,\n",
              " 'ko': 160,\n",
              " 'váy': 161,\n",
              " 'nhỏ': 162,\n",
              " 'sao': 163,\n",
              " 'kích_thước': 164,\n",
              " 'bé': 165,\n",
              " 'nhà': 166,\n",
              " '19kg': 167,\n",
              " 'chọn': 168,\n",
              " 'nhất': 169,\n",
              " 'vẫn': 170,\n",
              " 'chắc_chắn': 171,\n",
              " '_son': 172,\n",
              " 'mịn': 173,\n",
              " 'đánh': 174,\n",
              " 'lên': 175,\n",
              " 'trên': 176,\n",
              " 'ảnh': 177,\n",
              " 'nói_chung': 178,\n",
              " 'hợp': 179,\n",
              " 'túi_tiền': 180,\n",
              " 'mới': 181,\n",
              " 'buổi': 182,\n",
              " 'trưa': 183,\n",
              " 'mai': 184,\n",
              " 'là': 185,\n",
              " 'hình': 186,\n",
              " 'chụp': 187,\n",
              " 'nhìn': 188,\n",
              " 'phết': 189,\n",
              " 'nhỉ': 190,\n",
              " 'săn': 191,\n",
              " 'tôi': 192,\n",
              " 'thích': 193,\n",
              " 'có_điều': 194,\n",
              " 'ngắn': 195,\n",
              " 'yếm': 196,\n",
              " 'mặc': 197,\n",
              " 'cám_ơn': 198,\n",
              " 'bao_bì': 199,\n",
              " 'cute': 200,\n",
              " 'que': 201,\n",
              " 'cẩn_thận': 202,\n",
              " 'hạt': 203,\n",
              " 'điều': 204,\n",
              " 'thấm': 205,\n",
              " 'vị': 206,\n",
              " 'giòn': 207,\n",
              " 'chắc': 208,\n",
              " 'chắn': 209,\n",
              " 'được': 210,\n",
              " 'thêm': 211,\n",
              " 'quà': 212,\n",
              " 'so': 213,\n",
              " 'mang': 214,\n",
              " 'êm': 215,\n",
              " 'chân': 216,\n",
              " 'nha': 217,\n",
              " 'chưa': 218,\n",
              " 'nghe': 219,\n",
              " 'bạn': 220,\n",
              " 'm': 221,\n",
              " 'khá': 222,\n",
              " 'uống': 223,\n",
              " 'ngon': 224,\n",
              " 'ưng_ý': 225,\n",
              " 'cũ': 226,\n",
              " 'áo': 227,\n",
              " 'yêu': 228,\n",
              " 'bảo_hành': 229,\n",
              " 'kem': 230,\n",
              " 'ổn': 231,\n",
              " 'mỗi_tội': 232,\n",
              " 'da': 233}"
            ]
          },
          "execution_count": 25,
          "metadata": {},
          "output_type": "execute_result"
        }
      ],
      "source": [
        "tokenizer.word_index"
      ]
    },
    {
      "cell_type": "code",
      "execution_count": null,
      "metadata": {
        "colab": {
          "base_uri": "https://localhost:8080/"
        },
        "id": "0mdrWSSuOQuu",
        "outputId": "f935487b-3031-4bb0-a7a9-574e99ddd5c4"
      },
      "outputs": [
        {
          "data": {
            "text/plain": [
              "233"
            ]
          },
          "execution_count": 26,
          "metadata": {},
          "output_type": "execute_result"
        }
      ],
      "source": [
        "len(tokenizer.word_index)"
      ]
    },
    {
      "cell_type": "code",
      "execution_count": null,
      "metadata": {
        "id": "YQRo-DPwPLhD"
      },
      "outputs": [],
      "source": [
        "VOCAB_SIZE = len(tokenizer.word_index)"
      ]
    },
    {
      "cell_type": "code",
      "execution_count": null,
      "metadata": {
        "colab": {
          "base_uri": "https://localhost:8080/"
        },
        "id": "T0EQBjOVMlgG",
        "outputId": "884f0ba6-b430-48e0-b52b-3028c1addb52"
      },
      "outputs": [
        {
          "data": {
            "text/plain": [
              "[[29,\n",
              "  78,\n",
              "  20,\n",
              "  21,\n",
              "  44,\n",
              "  10,\n",
              "  79,\n",
              "  4,\n",
              "  45,\n",
              "  14,\n",
              "  80,\n",
              "  30,\n",
              "  81,\n",
              "  5,\n",
              "  46,\n",
              "  22,\n",
              "  44,\n",
              "  82,\n",
              "  83,\n",
              "  47,\n",
              "  48,\n",
              "  84,\n",
              "  85],\n",
              " [86, 31, 87, 17, 88, 32, 49, 49, 89, 2, 90, 91, 92, 50, 51],\n",
              " [52, 9, 15, 53, 22, 93, 54, 53, 22, 2, 55, 21, 94, 56, 95],\n",
              " [5, 96, 20, 22, 30, 23, 8, 97],\n",
              " [2, 57, 6, 58, 24, 98, 29, 99, 33, 100, 10],\n",
              " [52, 34, 9, 101, 15, 102, 103, 59, 55, 59, 104],\n",
              " [105, 25, 106],\n",
              " [32, 3, 107, 35, 21, 108, 2, 109, 110],\n",
              " [8, 5, 3, 2, 60, 10],\n",
              " [8, 5, 111, 10, 26, 10, 112, 113, 8, 5, 10, 114, 115],\n",
              " [2, 17, 116, 117],\n",
              " [3, 61, 118, 119, 18, 120, 61, 121],\n",
              " [27, 6, 4, 28],\n",
              " [36, 2, 37],\n",
              " [6, 2, 122, 18, 123, 58, 124, 125, 62, 126],\n",
              " [2, 63, 127, 21, 6, 30],\n",
              " [38, 5, 3, 64],\n",
              " [128, 129, 2, 130, 65, 56, 66, 39, 131, 2, 14, 7, 132, 133],\n",
              " [7, 18, 28, 5, 3, 2, 40, 134],\n",
              " [26, 29, 46, 23, 14, 5, 3, 64, 18, 135],\n",
              " [8, 136, 3, 15, 2, 137],\n",
              " [17, 138, 41, 67, 139, 140, 141, 142, 35, 68, 3, 34, 2, 17],\n",
              " [8, 69, 4, 28],\n",
              " [26, 143, 14, 8, 144, 5, 145, 146, 11, 147, 2, 17, 70, 11, 148, 149, 150],\n",
              " [151, 152, 153, 154, 155, 18],\n",
              " [156, 2, 157, 158],\n",
              " [32, 3, 159],\n",
              " [3, 160, 40, 7],\n",
              " [7, 6, 4, 28],\n",
              " [161,\n",
              "  162,\n",
              "  163,\n",
              "  16,\n",
              "  164,\n",
              "  165,\n",
              "  166,\n",
              "  20,\n",
              "  167,\n",
              "  33,\n",
              "  168,\n",
              "  71,\n",
              "  50,\n",
              "  169,\n",
              "  15,\n",
              "  170,\n",
              "  2,\n",
              "  72],\n",
              " [27, 6, 4, 9, 11, 171],\n",
              " [7, 6, 12],\n",
              " [172, 173, 35, 174, 175, 47, 10, 176, 177],\n",
              " [7, 6, 12, 178, 9, 179, 180],\n",
              " [33, 68, 41, 3, 4, 13, 181, 26, 182, 73, 14, 183, 184, 185, 65, 23],\n",
              " [3, 74, 13, 7, 19],\n",
              " [36, 37, 74, 4, 40, 71],\n",
              " [7, 6, 12, 60, 16, 186, 187],\n",
              " [188, 9, 189, 190],\n",
              " [191, 41, 16, 39, 75, 12],\n",
              " [45, 4, 57],\n",
              " [7, 6, 12, 192, 4, 193],\n",
              " [42, 9, 24, 194, 54, 25, 195, 76, 77],\n",
              " [196, 48, 9],\n",
              " [5, 3, 13, 197, 9, 198, 8],\n",
              " [199, 200, 70, 201],\n",
              " [5, 3, 31, 13, 27, 202, 11, 36, 37],\n",
              " [203, 204, 205, 206, 11, 207],\n",
              " [27, 6, 4, 9, 11, 208, 62, 209, 210, 8, 67, 211, 212, 51],\n",
              " [213, 16, 39, 34, 7, 12],\n",
              " [8, 69, 4, 19, 38, 5, 3, 4, 13],\n",
              " [42, 9, 214, 215, 11, 72, 216, 24, 217, 8],\n",
              " [218, 43, 15, 219, 220, 221, 43, 23, 7, 222, 19],\n",
              " [223, 4, 224, 5, 3, 13],\n",
              " [75, 24, 14, 19],\n",
              " [6, 19, 225],\n",
              " [7, 6, 12, 15, 25, 226, 76],\n",
              " [227, 16, 42, 31, 63, 228, 77],\n",
              " [38, 229, 4, 13],\n",
              " [230, 43, 231, 1, 25, 73, 66, 16, 1, 20]]"
            ]
          },
          "execution_count": 29,
          "metadata": {},
          "output_type": "execute_result"
        }
      ],
      "source": [
        "train_sequences = tokenizer.texts_to_sequences(df[\"review\"].values)\n",
        "train_sequences"
      ]
    },
    {
      "cell_type": "markdown",
      "metadata": {
        "id": "b7KK77B6RCyT"
      },
      "source": [
        "Đếm độ dài các câu để padding"
      ]
    },
    {
      "cell_type": "code",
      "execution_count": null,
      "metadata": {
        "colab": {
          "base_uri": "https://localhost:8080/"
        },
        "id": "bTJnfSV_Mxmn",
        "outputId": "e269dc07-fb1a-468a-e005-2a6466485091"
      },
      "outputs": [
        {
          "data": {
            "text/plain": [
              "(3, 23)"
            ]
          },
          "execution_count": 30,
          "metadata": {},
          "output_type": "execute_result"
        }
      ],
      "source": [
        "count_word_in_sequence = []\n",
        "for seq in train_sequences:\n",
        "  count_word_in_sequence.append(len(seq))\n",
        "\n",
        "min(count_word_in_sequence), max(count_word_in_sequence)"
      ]
    },
    {
      "cell_type": "code",
      "execution_count": null,
      "metadata": {
        "colab": {
          "base_uri": "https://localhost:8080/"
        },
        "id": "rQghkGI-M24e",
        "outputId": "55d0038a-63fd-472e-8c8d-c3c93a007d28"
      },
      "outputs": [
        {
          "data": {
            "text/plain": [
              "array([[ 29,  78,  20, ...,  48,  84,  85],\n",
              "       [ 86,  31,  87, ...,   0,   0,   0],\n",
              "       [ 52,   9,  15, ...,   0,   0,   0],\n",
              "       ...,\n",
              "       [227,  16,  42, ...,   0,   0,   0],\n",
              "       [ 38, 229,   4, ...,   0,   0,   0],\n",
              "       [230,  43, 231, ...,   0,   0,   0]], dtype=int32)"
            ]
          },
          "execution_count": 31,
          "metadata": {},
          "output_type": "execute_result"
        }
      ],
      "source": [
        "MAX_LENGTH = max(count_word_in_sequence)\n",
        "padding_train = pad_sequences(train_sequences, maxlen = MAX_LENGTH, truncating=\"post\", padding =\"post\")\n",
        "padding_train"
      ]
    },
    {
      "cell_type": "code",
      "execution_count": null,
      "metadata": {
        "colab": {
          "base_uri": "https://localhost:8080/"
        },
        "id": "V5ihGqTzhIkm",
        "outputId": "36361050-ea64-4c05-fee0-54c639002658"
      },
      "outputs": [
        {
          "data": {
            "text/plain": [
              "(60, 23)"
            ]
          },
          "execution_count": 32,
          "metadata": {},
          "output_type": "execute_result"
        }
      ],
      "source": [
        "padding_train.shape"
      ]
    },
    {
      "cell_type": "code",
      "execution_count": null,
      "metadata": {
        "id": "tNFk74Q6PWbH"
      },
      "outputs": [],
      "source": [
        "VOCAB_SIZE += 1"
      ]
    },
    {
      "cell_type": "code",
      "execution_count": null,
      "metadata": {
        "colab": {
          "base_uri": "https://localhost:8080/"
        },
        "id": "0HfaqrhGiAt8",
        "outputId": "4a319873-ad9a-4e0b-93c8-460bca5798ef"
      },
      "outputs": [
        {
          "data": {
            "text/plain": [
              "234"
            ]
          },
          "execution_count": 34,
          "metadata": {},
          "output_type": "execute_result"
        }
      ],
      "source": [
        "VOCAB_SIZE"
      ]
    },
    {
      "cell_type": "code",
      "execution_count": null,
      "metadata": {
        "id": "I9Q0O6LIN0x-"
      },
      "outputs": [],
      "source": [
        "label = df[\"label\"].values"
      ]
    },
    {
      "cell_type": "markdown",
      "metadata": {
        "id": "8b7sbuqqROHq"
      },
      "source": [
        "#### TODO 3\n",
        "\n",
        "Tạo mô hình RNN đơn giản để giải quyết bài toán này, huấn luyện trong 10 epochs"
      ]
    },
    {
      "cell_type": "code",
      "execution_count": null,
      "metadata": {
        "colab": {
          "base_uri": "https://localhost:8080/"
        },
        "id": "cWOmh4jRNJ2G",
        "outputId": "08c779ba-c1d7-4692-d7ea-c3d508fedecc"
      },
      "outputs": [
        {
          "name": "stdout",
          "output_type": "stream",
          "text": [
            "Model: \"sequential_4\"\n",
            "_________________________________________________________________\n",
            " Layer (type)                Output Shape              Param #   \n",
            "=================================================================\n",
            " embedding (Embedding)       (None, 23, 64)            14976     \n",
            "                                                                 \n",
            " simple_rnn_7 (SimpleRNN)    (None, 32)                3104      \n",
            "                                                                 \n",
            " dense_4 (Dense)             (None, 32)                1056      \n",
            "                                                                 \n",
            " dense_5 (Dense)             (None, 1)                 33        \n",
            "                                                                 \n",
            "=================================================================\n",
            "Total params: 19,169\n",
            "Trainable params: 19,169\n",
            "Non-trainable params: 0\n",
            "_________________________________________________________________\n"
          ]
        }
      ],
      "source": [
        "model = Sequential([\n",
        "  Input(shape=(23,)),\n",
        "  Embedding(VOCAB_SIZE, 64),\n",
        "  SimpleRNN(32),\n",
        "  # MLP 1 hidden layer\n",
        "  Dense(32, activation=\"relu\"),\n",
        "  Dense(1, activation=\"sigmoid\")\n",
        "])\n",
        "\n",
        "model.summary()"
      ]
    },
    {
      "cell_type": "code",
      "execution_count": null,
      "metadata": {
        "colab": {
          "base_uri": "https://localhost:8080/"
        },
        "id": "Zzuozmv0iY1i",
        "outputId": "e08c811d-7d01-422c-aa06-ba3de34bf532"
      },
      "outputs": [
        {
          "name": "stdout",
          "output_type": "stream",
          "text": [
            "Epoch 1/10\n",
            "2/2 [==============================] - 2s 28ms/step - loss: 0.6933 - accuracy: 0.5667\n",
            "Epoch 2/10\n",
            "2/2 [==============================] - 0s 16ms/step - loss: 0.6634 - accuracy: 0.7167\n",
            "Epoch 3/10\n",
            "2/2 [==============================] - 0s 15ms/step - loss: 0.6375 - accuracy: 0.7833\n",
            "Epoch 4/10\n",
            "2/2 [==============================] - 0s 16ms/step - loss: 0.6080 - accuracy: 0.8333\n",
            "Epoch 5/10\n",
            "2/2 [==============================] - 0s 13ms/step - loss: 0.5685 - accuracy: 0.9000\n",
            "Epoch 6/10\n",
            "2/2 [==============================] - 0s 14ms/step - loss: 0.5184 - accuracy: 0.9167\n",
            "Epoch 7/10\n",
            "2/2 [==============================] - 0s 14ms/step - loss: 0.4614 - accuracy: 0.9500\n",
            "Epoch 8/10\n",
            "2/2 [==============================] - 0s 19ms/step - loss: 0.3937 - accuracy: 0.9667\n",
            "Epoch 9/10\n",
            "2/2 [==============================] - 0s 14ms/step - loss: 0.3259 - accuracy: 0.9833\n",
            "Epoch 10/10\n",
            "2/2 [==============================] - 0s 13ms/step - loss: 0.2621 - accuracy: 0.9833\n"
          ]
        },
        {
          "data": {
            "text/plain": [
              "<keras.callbacks.History at 0x7b8f3ba750f0>"
            ]
          },
          "execution_count": 38,
          "metadata": {},
          "output_type": "execute_result"
        }
      ],
      "source": [
        "model.compile(optimizer=\"adam\", loss=\"binary_crossentropy\", metrics=[\"accuracy\"])\n",
        "model.fit(padding_train, label, epochs=10)"
      ]
    },
    {
      "cell_type": "markdown",
      "metadata": {
        "id": "9B-7ABcRjIng"
      },
      "source": [
        "sentence $\\rightarrow$ tokenize $\\rightarrow$ mapping $\\rightarrow$ padding $\\rightarrow$ embedding $\\rightarrow$ model"
      ]
    }
  ],
  "metadata": {
    "colab": {
      "provenance": [],
      "toc_visible": true
    },
    "kernelspec": {
      "display_name": "Python 3",
      "name": "python3"
    },
    "language_info": {
      "name": "python"
    }
  },
  "nbformat": 4,
  "nbformat_minor": 0
}
