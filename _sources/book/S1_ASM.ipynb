{
  "cells": [
    {
      "cell_type": "markdown",
      "metadata": {
        "id": "QPjamRUpB23e"
      },
      "source": [
        "# Session 1: Assigment\n",
        "\n",
        "```{contents}\n",
        "\n",
        "```"
      ]
    },
    {
      "cell_type": "markdown",
      "metadata": {
        "id": "KEoKP7HwB7Rr"
      },
      "source": [
        "## Problem 1: Face Recognition with PCA and KNN (7 popints)\n",
        "\n",
        "In this problem, we will use PCA to extract features and then use KNN model to give predictions based on extracted features."
      ]
    },
    {
      "cell_type": "markdown",
      "metadata": {
        "id": "TKQ6xDxYUjJO"
      },
      "source": [
        "### Prepare the dataset"
      ]
    },
    {
      "cell_type": "code",
      "execution_count": null,
      "metadata": {
        "id": "8CYO37tG20W2"
      },
      "outputs": [],
      "source": [
        "import numpy as np\n",
        "import matplotlib.pyplot as plt\n",
        "import plotly.express as px"
      ]
    },
    {
      "cell_type": "code",
      "execution_count": null,
      "metadata": {
        "id": "-CEAFnXz3mhk"
      },
      "outputs": [],
      "source": [
        "import sklearn.datasets as datasets\n",
        "dataset = datasets.fetch_lfw_people(min_faces_per_person=70, resize=0.8)"
      ]
    },
    {
      "cell_type": "markdown",
      "metadata": {
        "id": "3sBqPrYLW1mh"
      },
      "source": [
        "### Analyze the data"
      ]
    },
    {
      "cell_type": "code",
      "execution_count": null,
      "metadata": {
        "colab": {
          "base_uri": "https://localhost:8080/"
        },
        "id": "SXG8dZ_g4QFz",
        "outputId": "46beb69e-0e14-44c6-b7df-c64f606885dd"
      },
      "outputs": [],
      "source": [
        "print(dataset.keys())"
      ]
    },
    {
      "cell_type": "markdown",
      "metadata": {
        "id": "BhU2Ku-BVSn4"
      },
      "source": [
        "Some important `key` you need to consider when solving this problem:\n",
        "- `images`: the grayscale image dataset (already normalized)\n",
        "- `data`: the grayscale image dataset already normalized). Each image is flattened into one vector\n",
        "- `target`: label of each image/face (type `int`)\n",
        "- `target_names`: name of each face (type `str`)"
      ]
    },
    {
      "cell_type": "code",
      "execution_count": null,
      "metadata": {
        "colab": {
          "base_uri": "https://localhost:8080/"
        },
        "id": "0Uop29Ep4h2q",
        "outputId": "ebcfcecc-c570-4c17-cedd-9868e89d66c5"
      },
      "outputs": [],
      "source": [
        "data = dataset.data\n",
        "target = dataset.target\n",
        "target_names = dataset.target_names\n",
        "num_image, h, w = dataset[\"images\"].shape\n",
        "\n",
        "print(\"Number of images:\", num_image)\n",
        "print(\"Height of each image:\", h)\n",
        "print(\"Width of each image:\", w)\n",
        "print(\"Data shape:\", data.shape)"
      ]
    },
    {
      "cell_type": "markdown",
      "metadata": {
        "id": "_Gdr3Z_HW3ep"
      },
      "source": [
        "Let's see the names of faces included in the dataset"
      ]
    },
    {
      "cell_type": "code",
      "execution_count": null,
      "metadata": {
        "colab": {
          "base_uri": "https://localhost:8080/"
        },
        "id": "SxG5Sf-hWpse",
        "outputId": "af2ab66d-c885-4672-c31f-d8bcd46290e2"
      },
      "outputs": [],
      "source": [
        "print(\"Number of people in the dataset:\", len(target_names))\n",
        "print(target_names)"
      ]
    },
    {
      "cell_type": "markdown",
      "metadata": {
        "id": "Kvoc71InYGyL"
      },
      "source": [
        "The variable `target` contains the labels of the above 7 faces, numbered from 0 to 6"
      ]
    },
    {
      "cell_type": "code",
      "execution_count": null,
      "metadata": {
        "colab": {
          "base_uri": "https://localhost:8080/"
        },
        "id": "5gJA6pt1YEfp",
        "outputId": "a1b7a9dd-cf6d-4d4f-9fae-945e91368012"
      },
      "outputs": [],
      "source": [
        "print(target)\n",
        "print(\"-\" * 30)\n",
        "ids, counts = np.unique(target, return_counts=True)\n",
        "for id, count in zip(ids, counts):\n",
        "  print(f\"There are {count} images of {target_names[id]}\")"
      ]
    },
    {
      "cell_type": "markdown",
      "metadata": {
        "id": "3-btOCayXYN8"
      },
      "source": [
        "Visualization"
      ]
    },
    {
      "cell_type": "code",
      "execution_count": null,
      "metadata": {
        "colab": {
          "base_uri": "https://localhost:8080/",
          "height": 542
        },
        "id": "KU3P07aLV0Y-",
        "outputId": "25fadc91-eb94-450e-af08-b7f1832f9f2b"
      },
      "outputs": [],
      "source": [
        "target_with_name = [target_names[id] for id in target]\n",
        "fig = px.histogram(x=target_with_name, color=target_with_name)\n",
        "fig.show()"
      ]
    },
    {
      "cell_type": "markdown",
      "metadata": {
        "id": "HBejEiaUZXnS"
      },
      "source": [
        "Visualize 5 random images of each person"
      ]
    },
    {
      "cell_type": "code",
      "execution_count": null,
      "metadata": {
        "colab": {
          "base_uri": "https://localhost:8080/",
          "height": 1000
        },
        "id": "_XurxOjnZaPw",
        "outputId": "797e9133-b3aa-49ac-ebef-2ff30d3e6ff1"
      },
      "outputs": [],
      "source": [
        "n_people = 7\n",
        "n_image = 5\n",
        "\n",
        "fig, axes = plt.subplots(n_people, n_image, figsize=(10,15))\n",
        "for row in range(n_people):\n",
        "  current_id_indices = np.where(target == row)[0]\n",
        "  random_indices = np.random.choice(current_id_indices, size=n_image, replace=False)\n",
        "\n",
        "  for col in range(n_image):\n",
        "    current_ax = axes[row][col]\n",
        "    current_ax.grid('off')\n",
        "    current_ax.axis('off')\n",
        "\n",
        "    image_index = random_indices[col]\n",
        "    current_ax.imshow(data[image_index].reshape(h,w), cmap='gray')\n",
        "    current_ax.set_title(target_names[row])\n",
        "\n",
        "plt.show()"
      ]
    },
    {
      "cell_type": "markdown",
      "metadata": {
        "id": "8565Db65e0fE"
      },
      "source": [
        "### Use PCA to reduce data dimension and draw Embedding Space"
      ]
    },
    {
      "cell_type": "markdown",
      "metadata": {
        "id": "uf7Pzj8Be6n0"
      },
      "source": [
        "#### TODO 1\n",
        "\n",
        "Use PCA to reduce the dimension of the data set to 3 dimensions, then print out the amount of information retained."
      ]
    },
    {
      "cell_type": "markdown",
      "metadata": {
        "id": "EDe7gpQCH3dy"
      },
      "source": [
        "- `pca.explained_variance_ratio_` is the percentage of variance explained by each of the principal components. It tells you how much information (variance) can be attributed to each of the components. The sum of all the ratios is equal to 1.0.\n",
        "\n",
        "- For example, if you have two components, and the output is `[0.8, 0.2]`, it means that the first component explains 80% of the variance in the data, and the second component explains 20% of the variance.\n",
        "\n",
        "- The `pca.explained_variance_ratio_` is calculated by dividing the `pca.explained_variance_` by the sum of all the variances. The `pca.explained_variance_` is the eigenvalue of each component, which measures how much of the variance of the data is along that component."
      ]
    },
    {
      "cell_type": "code",
      "execution_count": null,
      "metadata": {
        "colab": {
          "base_uri": "https://localhost:8080/"
        },
        "id": "m6K85ddQfnXK",
        "outputId": "8cd8b970-3403-440d-fc61-8a153c3857aa"
      },
      "outputs": [],
      "source": [
        "# YOUR SOLUTION\n"
      ]
    },
    {
      "cell_type": "markdown",
      "metadata": {
        "id": "PqhQ61grIwwq"
      },
      "source": [
        "We see from the above results\n",
        "- 1st component explains 20.05% of the variance in the data\n",
        "- 2nd component explains 13.60% of the variance in the data\n",
        "- 3rd component explains 6.75% of the variance in the data\n",
        "\n",
        "Sum is 40.4% which means there are 59.6% of the variance that is not captured by these three components $→$, we need to increase the components to get a better representation of the data.\n",
        "\n",
        "But when we need to plot the representation, we should only use 3 components to plot on 3D graph."
      ]
    },
    {
      "cell_type": "code",
      "execution_count": null,
      "metadata": {
        "colab": {
          "base_uri": "https://localhost:8080/"
        },
        "id": "7tRQnArp_Z43",
        "outputId": "6f921a04-8860-44b8-b2f2-c8d76962283a"
      },
      "outputs": [],
      "source": [
        "# YOUR SOLUTION"
      ]
    },
    {
      "cell_type": "markdown",
      "metadata": {
        "id": "zIvCCWCnf3eU"
      },
      "source": [
        "#### TODO 2\n",
        "\n",
        "Use `plotly.express` visualize a digram `scatter_3d` on the 3D dataset, dots must be colored based human names (use variable `target_with_name` already declared above)"
      ]
    },
    {
      "cell_type": "code",
      "execution_count": null,
      "metadata": {
        "colab": {
          "base_uri": "https://localhost:8080/",
          "height": 542
        },
        "id": "1jQo0SWSgARh",
        "outputId": "ff656675-a7be-41c8-999c-8685b53f47dd"
      },
      "outputs": [],
      "source": [
        "# YOUR SOLUTION"
      ]
    },
    {
      "cell_type": "markdown",
      "metadata": {
        "id": "w6jVR6ObgdNl"
      },
      "source": [
        "We see that the Embedding Space of the 3 main components is not very good, the data points are mixed together, so it will be difficult to classify properly.\n",
        "\n",
        "In fact, Face Recognition applications do not use PCA to extract features. Instead, they will use the Pretrained Model (which has been trained on a large amount of face data) to create Embedded Vector for faces. These pretrained embedded vectors are so good that if we reduce the data dimension to 3 and draw on the graph, we still see that the faces are separated very well."
      ]
    },
    {
      "cell_type": "markdown",
      "metadata": {
        "id": "gH31fibub8LW"
      },
      "source": [
        "### Train Test Split"
      ]
    },
    {
      "cell_type": "markdown",
      "metadata": {
        "id": "0AG12qYdcDtE"
      },
      "source": [
        "#### TODO 3\n",
        "\n",
        "Use the **Stratified Split** technique to split the dataset into 2 sets: Train và Test\n",
        "- The train set accounts for 80%\n",
        "- Shuffle\n",
        "- Use random seed 42 to maintain the similar result\n"
      ]
    },
    {
      "cell_type": "code",
      "execution_count": null,
      "metadata": {
        "colab": {
          "base_uri": "https://localhost:8080/"
        },
        "id": "UANnEFtWbVGV",
        "outputId": "f28ccb60-0bad-478a-84da-7e3bdba8e552"
      },
      "outputs": [],
      "source": [
        "# YOUR SOLUTION"
      ]
    },
    {
      "cell_type": "markdown",
      "metadata": {
        "id": "LSk3E2TMcopb"
      },
      "source": [
        "### Feature Extraction with PCA"
      ]
    },
    {
      "cell_type": "markdown",
      "metadata": {
        "id": "oTG4EO6ZcvNv"
      },
      "source": [
        "#### TODO 4\n",
        "\n",
        "Use PCA to extract features on train set and test set under constraint that retained information is 99%\n",
        "\n",
        "Name the 2 new variables as `x_train_pca` và `x_test_pca`"
      ]
    },
    {
      "cell_type": "code",
      "execution_count": null,
      "metadata": {
        "colab": {
          "base_uri": "https://localhost:8080/"
        },
        "id": "zwpR7ynichJn",
        "outputId": "e78d7ec8-e3dc-4e26-fc64-0998cfd4c363"
      },
      "outputs": [],
      "source": [
        "# YOUR SOLUTION\n"
      ]
    },
    {
      "cell_type": "markdown",
      "metadata": {
        "id": "D2FjlKb0hzAH"
      },
      "source": [
        "Compare the original face with the approximate face (reconstructed with PCA).\n",
        "\n",
        "Instead of using math formulas, we use `pca.inverse_transform`"
      ]
    },
    {
      "cell_type": "code",
      "execution_count": null,
      "metadata": {
        "colab": {
          "base_uri": "https://localhost:8080/",
          "height": 365
        },
        "id": "ydVxXelZiGkC",
        "outputId": "a78108f3-bd0a-4b20-869d-5bedf5082173"
      },
      "outputs": [],
      "source": [
        "# YOUR SOLUTIONs"
      ]
    },
    {
      "cell_type": "markdown",
      "metadata": {
        "id": "kqtgIRLthcWw"
      },
      "source": [
        "### Classification with KNN"
      ]
    },
    {
      "cell_type": "markdown",
      "metadata": {
        "id": "DKayio_8hiG9"
      },
      "source": [
        "#### TODO 5\n",
        "\n",
        "- Train K-NN models to classify faces on extracted datasets after applying PCA\n",
        "  - Experiment with different `k` to find the best model.\n",
        "  - Call function ``score`` to view Accuracy on Train Set and Test Set\n",
        "  ```\n",
        "  print('Accuracy on Train Set',model.score(x_train_pca, y_train))\n",
        "  print('Accuracy on Test Set',model.score(x_test_pca, y_test))\n",
        "  ```"
      ]
    },
    {
      "cell_type": "code",
      "execution_count": null,
      "metadata": {
        "colab": {
          "base_uri": "https://localhost:8080/"
        },
        "id": "N9T73dxyhJT1",
        "outputId": "4ac6a704-2322-4b4f-99e0-2f88c5759274"
      },
      "outputs": [],
      "source": [
        "# YOUR SOLUTION"
      ]
    },
    {
      "cell_type": "markdown",
      "metadata": {
        "id": "3jINM_v5KFzV"
      },
      "source": [
        "#### TODO 6\n",
        "\n",
        "Use the `classification_report` metrics to print out the accuracy of the model for each person in the Test set"
      ]
    },
    {
      "cell_type": "code",
      "execution_count": null,
      "metadata": {
        "colab": {
          "base_uri": "https://localhost:8080/"
        },
        "id": "hio41ahMKW9W",
        "outputId": "3b507494-768f-4cb9-e1f0-b1a86bb6489d"
      },
      "outputs": [],
      "source": [
        "# YOUR SOLUTION"
      ]
    },
    {
      "cell_type": "markdown",
      "metadata": {
        "id": "gXF0RJpHG3vk"
      },
      "source": [
        "#### TODO 7\n",
        "\n",
        "- Try graphing faces to compare the predicted results of the KNN model with the actual label (random 5 photos per person, for example). Suggested steps:\n",
        "  - Random out 5 photos in the Test episode belonging to each person (0 - 6)\n",
        "  - Use trained models to predict names\n",
        "  - Draw shapes, display the correct people's names and people's names predicted by the model"
      ]
    },
    {
      "cell_type": "code",
      "execution_count": null,
      "metadata": {
        "colab": {
          "base_uri": "https://localhost:8080/",
          "height": 1000
        },
        "id": "i56qYZ5TWL85",
        "outputId": "93569e59-6005-4931-be02-ce731e9f82a0"
      },
      "outputs": [],
      "source": [
        "# YOUR SOLUTION"
      ]
    },
    {
      "cell_type": "markdown",
      "metadata": {
        "id": "079oT4NRMK_6"
      },
      "source": [
        "## Problem 2: Console game Semantris (3 points)"
      ]
    },
    {
      "cell_type": "markdown",
      "metadata": {
        "id": "V0O39YdzN1RT"
      },
      "source": [
        "In this article, we will make 1 simple game running on the Python console window. This game simulates Google's Sementris game, please try it at [here](https://research.google.com/semantris/) (choose Play Arcade)"
      ]
    },
    {
      "cell_type": "markdown",
      "metadata": {
        "id": "5j1GbEZwOT7O"
      },
      "source": [
        "## Guildance"
      ]
    },
    {
      "cell_type": "markdown",
      "metadata": {
        "id": "Vx9PAHe0OS9w"
      },
      "source": [
        "Given the pre-trained AI model below"
      ]
    },
    {
      "cell_type": "code",
      "execution_count": null,
      "metadata": {
        "id": "bTcK1DvQMPdi"
      },
      "outputs": [],
      "source": [
        "import tensorflow_hub as hub\n",
        "import tensorflow as tf\n",
        "\n",
        "module_url = \"https://tfhub.dev/google/universal-sentence-encoder/4\"\n",
        "model = hub.load(module_url)"
      ]
    },
    {
      "cell_type": "markdown",
      "metadata": {
        "id": "1NkTA7swOY83"
      },
      "source": [
        "This model is capable of converting English words into vectors"
      ]
    },
    {
      "cell_type": "code",
      "execution_count": null,
      "metadata": {
        "colab": {
          "base_uri": "https://localhost:8080/"
        },
        "id": "9vF09TmIObai",
        "outputId": "a3875070-4f40-43f2-a3de-6f732a0b77df"
      },
      "outputs": [
        {
          "name": "stdout",
          "output_type": "stream",
          "text": [
            "<class 'numpy.ndarray'>\n",
            "(3, 512)\n"
          ]
        }
      ],
      "source": [
        "result = model([\"cat\", \"dog\", \"chihuahua\"]).numpy()\n",
        "print(type(result))\n",
        "print(result.shape)"
      ]
    },
    {
      "cell_type": "markdown",
      "metadata": {
        "id": "F74EAZM2OoEn"
      },
      "source": [
        "Let design a game following [this diagram](https://drive.google.com/file/d/1WQdZGszYniiBzoDpdx-VWEIyNz2rFvip/view?usp=sharing)\n",
        "\n",
        "Note\n",
        "- File `words.txt` Download [here](https://drive.google.com/file/d/1KYMBK_j3g7_ROEJ46Nb0PmUerY5Xdyx_/view?usp=sharing)\n",
        "- you need to `strip` and `lowercase` value `y`\n",
        "- values of `y` should not be duplicated with `x`\n",
        "- Users only have 3 lives for the entire game."
      ]
    },
    {
      "cell_type": "code",
      "execution_count": null,
      "metadata": {
        "colab": {
          "base_uri": "https://localhost:8080/"
        },
        "id": "CRCR8Xzdg_cp",
        "outputId": "7220dbc0-15fd-40ec-99e5-c24bd6196115"
      },
      "outputs": [
        {
          "name": "stdout",
          "output_type": "stream",
          "text": [
            "Number of words in file txt: 476\n"
          ]
        }
      ],
      "source": [
        "with open('Problem_2_words.txt', 'r') as f:\n",
        "    words = [line.strip() for line in f]\n",
        "\n",
        "print(f\"Number of words in file txt: {len(words)}\")"
      ]
    },
    {
      "cell_type": "code",
      "execution_count": null,
      "metadata": {
        "colab": {
          "base_uri": "https://localhost:8080/"
        },
        "id": "31bEvWapiQ-s",
        "outputId": "676d25f5-a7ec-4299-e4de-61285cde24a4"
      },
      "outputs": [],
      "source": [
        "# YOUR SOLUTION"
      ]
    }
  ],
  "metadata": {
    "colab": {
      "provenance": [],
      "toc_visible": true
    },
    "kernelspec": {
      "display_name": "Python 3",
      "name": "python3"
    },
    "language_info": {
      "name": "python"
    }
  },
  "nbformat": 4,
  "nbformat_minor": 0
}
