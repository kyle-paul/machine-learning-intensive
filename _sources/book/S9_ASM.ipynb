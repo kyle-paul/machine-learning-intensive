{
  "cells": [
    {
      "cell_type": "markdown",
      "metadata": {
        "id": "18FuJKM81ZO1"
      },
      "source": [
        "# Session 9: Assignment"
      ]
    },
    {
      "cell_type": "markdown",
      "metadata": {
        "id": "K4j569hbz1tA"
      },
      "source": [
        "## Emotion classification problem for Shopee comments"
      ]
    },
    {
      "cell_type": "markdown",
      "metadata": {
        "id": "WU7RPRtYDQVN"
      },
      "source": [
        "**Install `fasttext` for Pretrained Word Embedding**"
      ]
    },
    {
      "cell_type": "code",
      "execution_count": null,
      "metadata": {
        "colab": {
          "base_uri": "https://localhost:8080/"
        },
        "id": "Z_Oh6qbJDVoS",
        "outputId": "27f78e2f-7e44-4e12-efe6-7cda31a13704"
      },
      "outputs": [],
      "source": [
        "!pip install \"git+https://github.com/facebookresearch/fastText.git\""
      ]
    },
    {
      "cell_type": "code",
      "execution_count": null,
      "metadata": {
        "colab": {
          "base_uri": "https://localhost:8080/"
        },
        "id": "PY3t2dXLt-jt",
        "outputId": "3d3637ca-0883-40f9-f146-e0d9be48a158"
      },
      "outputs": [],
      "source": [
        "from google.colab import drive\n",
        "drive.mount('/content/drive')"
      ]
    },
    {
      "cell_type": "code",
      "execution_count": null,
      "metadata": {
        "id": "UWMmH_Kh0HPH"
      },
      "outputs": [],
      "source": [
        "import pandas as pd\n",
        "import numpy as np"
      ]
    },
    {
      "cell_type": "code",
      "execution_count": null,
      "metadata": {
        "colab": {
          "base_uri": "https://localhost:8080/",
          "height": 206
        },
        "id": "h18yQzEu0CZn",
        "outputId": "88adb37c-9d99-441b-ab7b-24357d27dd70"
      },
      "outputs": [],
      "source": [
        "df = pd.read_csv(\"/content/drive/MyDrive/Colab Notebooks/ML-intensive/data/sentiment_data.csv\")\n",
        "df.head()"
      ]
    },
    {
      "cell_type": "markdown",
      "metadata": {
        "id": "p2s9o5tR23Mg"
      },
      "source": [
        "Print a few compliments and a few critical comments"
      ]
    },
    {
      "cell_type": "code",
      "execution_count": null,
      "metadata": {
        "colab": {
          "base_uri": "https://localhost:8080/"
        },
        "id": "N6OCBS1Z0CYY",
        "outputId": "33f38801-59e6-4159-db99-833919abede4"
      },
      "outputs": [],
      "source": [
        "print(\"Critical- LABEL = 1\")\n",
        "for text in df[df[\"label\"] == 1][\"text\"].values[:10]:\n",
        "  print(text)\n",
        "print()\n",
        "print(\"=\"*30)\n",
        "print()\n",
        "print(\"Compliment - LABEL = 0\")\n",
        "for text in df[df[\"label\"] == 0][\"text\"].values[:10]:\n",
        "  print(text)"
      ]
    },
    {
      "cell_type": "markdown",
      "metadata": {
        "id": "oEeUvzE03mAB"
      },
      "source": [
        "We see that the above dataset has been applied Word Segment technique to separate words\n",
        "\n",
        "However, the above dataset has not been cleaned (delete emoji, special characters, ...)\n",
        "\n",
        "We will delete the special characters `: , = ...` but it should be noted not to delete the character `_` (which will spoil the result of the Word Segment)"
      ]
    },
    {
      "cell_type": "code",
      "execution_count": null,
      "metadata": {
        "id": "J4VUL5_e0giZ"
      },
      "outputs": [],
      "source": [
        "import re\n",
        "\n",
        "def simple_preprocessing(text):\n",
        "    # Remove emojis\n",
        "    emoji_pattern = re.compile(\"[\"\n",
        "                               \"\\U0001F600-\\U0001F64F\"  # emoticons\n",
        "                               \"\\U0001F300-\\U0001F5FF\"  # symbols & pictographs\n",
        "                               \"\\U0001F680-\\U0001F6FF\"  # transport & map symbols\n",
        "                               \"\\U0001F1E0-\\U0001F1FF\"  # flags (iOS)\n",
        "                               \"\\U00002702-\\U000027B0\"  # Dingbats\n",
        "                               \"\\U000024C2-\\U0001F251\"  # Enclosed characters\n",
        "                               \"]+\", flags=re.UNICODE)\n",
        "\n",
        "    text = emoji_pattern.sub(r'', text)\n",
        "    # Remove special characters excluding underscore (_) with regex python\n",
        "    text = re.sub(r'[^\\w\\s_]', '', text)\n",
        "\n",
        "    '''\n",
        "    Deleting special characters can lead to the excess spaces\n",
        "    for example \"huhu : ( (  buồn quá\" sẽ thành \"huhu     buồn quá\"\n",
        "    We will split the text in a space and then join it again to correct this case\n",
        "    '''\n",
        "\n",
        "    text = \" \".join(text.split())\n",
        "    text = text.strip().lower()\n",
        "    return text\n",
        "\n",
        "df[\"text\"] = df[\"text\"].apply(simple_preprocessing)"
      ]
    },
    {
      "cell_type": "code",
      "execution_count": null,
      "metadata": {
        "colab": {
          "base_uri": "https://localhost:8080/"
        },
        "id": "sfPotc6y5Rib",
        "outputId": "40631f60-8660-4fd9-8238-f78ff03c22ce"
      },
      "outputs": [],
      "source": [
        "# Review results after preprocessing\n",
        "print(\"Critical- LABEL = 1\")\n",
        "for text in df[df[\"label\"] == 1][\"text\"].values[:10]:\n",
        "  print(text)\n",
        "print()\n",
        "print(\"=\"*30)\n",
        "print()\n",
        "print(\"Compliment - LABEL = 0\")\n",
        "for text in df[df[\"label\"] == 0][\"text\"].values[:10]:\n",
        "  print(text)"
      ]
    },
    {
      "cell_type": "markdown",
      "metadata": {
        "id": "b2P_v4sp5e4n"
      },
      "source": [
        "### Train Test Split"
      ]
    },
    {
      "cell_type": "markdown",
      "metadata": {
        "id": "S2R11DxA5mkO"
      },
      "source": [
        "We will split the dataset into 3 sets\n",
        "- Train\n",
        "- Validation\n",
        "- Test\n",
        "\n",
        "You should note: when performing Tokenizer and Embedding, you can only manipulate on the Train episode. This leads to when testing the model on the Validation and Test set will be able to occur the following cases:\n",
        "- In 2 episodes of Val-Test appear words that never appeared in the episode Train\n",
        "- In 2 episodes of Val-Test appear documents that are too long or too short for Train\n",
        "\n",
        "The above differences will lower the performance of model → this is the reason that you need to have 1 quality dataset so that the model can run well in real application\n"
      ]
    },
    {
      "cell_type": "code",
      "execution_count": null,
      "metadata": {
        "colab": {
          "base_uri": "https://localhost:8080/"
        },
        "id": "FX2xNzDn0kxg",
        "outputId": "80ca0c4a-1ef3-4121-c148-b398bb123c45"
      },
      "outputs": [],
      "source": [
        "from sklearn.model_selection import train_test_split\n",
        "\n",
        "sentences, labels = df[\"text\"].values, df[\"label\"].values\n",
        "x_train, x_val, y_train, y_val = train_test_split(\n",
        "    sentences,\n",
        "    labels,\n",
        "    test_size=0.4,\n",
        "    shuffle=True,\n",
        "    random_state=42,\n",
        "    stratify=labels\n",
        ")\n",
        "\n",
        "x_val, x_test, y_val, y_test = train_test_split(\n",
        "    x_val,\n",
        "    y_val,\n",
        "    test_size=0.5,\n",
        "    shuffle=True,\n",
        "    random_state=42,\n",
        "    stratify=y_val\n",
        ")\n",
        "\n",
        "print(\"Train Set\")\n",
        "print(x_train.shape, y_train.shape)\n",
        "print(\"Validation Set\")\n",
        "print(x_val.shape, y_val.shape)\n",
        "print(\"Test Set\")\n",
        "print(x_test.shape, y_test.shape)"
      ]
    },
    {
      "cell_type": "markdown",
      "metadata": {
        "id": "_fx8FLlN2OfC"
      },
      "source": [
        "### Tokenizer"
      ]
    },
    {
      "cell_type": "markdown",
      "metadata": {
        "id": "6gj4oDUw8tGY"
      },
      "source": [
        "In this Assignment, we will use the `TextVectorization` layer of `tensorflow.keras` to turn the Tokenizer operation into 1 part of the model (in the Lab article, we Tokenizer first and then put it into the model)\n",
        "\n",
        "Before initializing the Tokenizer, we need to calculate the length and number of unique words of the documents in the Train set."
      ]
    },
    {
      "cell_type": "markdown",
      "metadata": {
        "id": "9yFaUc2H_BF3"
      },
      "source": [
        "**Count unique words**"
      ]
    },
    {
      "cell_type": "code",
      "execution_count": null,
      "metadata": {
        "colab": {
          "base_uri": "https://localhost:8080/"
        },
        "id": "262vjBw09HGa",
        "outputId": "ad593892-4d25-4e45-a8a5-1ff737bc23d9"
      },
      "outputs": [],
      "source": [
        "word_set = set()\n",
        "for text in x_train:\n",
        "  words = text.split()\n",
        "  for word in words:\n",
        "    if word not in word_set:\n",
        "      word_set.add(word)\n",
        "\n",
        "VOCAB_SIZE = len(word_set)\n",
        "print(VOCAB_SIZE)"
      ]
    },
    {
      "cell_type": "markdown",
      "metadata": {
        "id": "zze45NIR_Eg6"
      },
      "source": [
        "**Count the average length of eachg text**"
      ]
    },
    {
      "cell_type": "code",
      "execution_count": null,
      "metadata": {
        "colab": {
          "base_uri": "https://localhost:8080/"
        },
        "id": "v-XD-s4h9TXC",
        "outputId": "e68b2363-ee5b-45ed-e103-806bdf576e48"
      },
      "outputs": [],
      "source": [
        "count_word = []\n",
        "for text in x_train:\n",
        "  words = text.split()\n",
        "  count_word.append(len(words))\n",
        "\n",
        "min(count_word), max(count_word), sum(count_word)/len(count_word)"
      ]
    },
    {
      "cell_type": "markdown",
      "metadata": {
        "id": "NQCFIOK193xm"
      },
      "source": [
        "We see a problem when the value `min` is zero."
      ]
    },
    {
      "cell_type": "code",
      "execution_count": null,
      "metadata": {
        "colab": {
          "base_uri": "https://localhost:8080/"
        },
        "id": "lBLUSnSL9tZl",
        "outputId": "71090bd7-3e57-4814-82fd-2f4997385a73"
      },
      "outputs": [],
      "source": [
        "for text in x_train:\n",
        "  if text == \"\":\n",
        "    print(True)"
      ]
    },
    {
      "cell_type": "markdown",
      "metadata": {
        "id": "H9RQYX6X-cQz"
      },
      "source": [
        "Delete lines with null values in `x_train` and delete corresponding lines in `y_train`"
      ]
    },
    {
      "cell_type": "code",
      "execution_count": null,
      "metadata": {
        "id": "ZQtA81I8-YQl"
      },
      "outputs": [],
      "source": [
        "new_train_text = []\n",
        "new_train_label = []\n",
        "\n",
        "for text, label in zip(x_train, y_train):\n",
        "  if text != \"\":\n",
        "    new_train_text.append(text)\n",
        "    new_train_label.append(label)\n",
        "\n",
        "x_train = np.array(new_train_text)\n",
        "y_train = np.array(new_train_label)"
      ]
    },
    {
      "cell_type": "code",
      "execution_count": null,
      "metadata": {
        "colab": {
          "base_uri": "https://localhost:8080/"
        },
        "id": "oQo-w2zr_Im7",
        "outputId": "b2f9df4b-268e-4678-a673-651b1671064c"
      },
      "outputs": [],
      "source": [
        "count_word = []\n",
        "for text in x_train:\n",
        "  words = text.split()\n",
        "  count_word.append(len(words))\n",
        "\n",
        "min(count_word), max(count_word), sum(count_word)/ len(count_word)"
      ]
    },
    {
      "cell_type": "markdown",
      "metadata": {
        "id": "f5IdNzWy3teV"
      },
      "source": [
        "Do the same with test and validation sets"
      ]
    },
    {
      "cell_type": "code",
      "execution_count": null,
      "metadata": {
        "id": "kYmxBFaj3nRe"
      },
      "outputs": [],
      "source": [
        "new_test_text = []\n",
        "new_test_label = []\n",
        "\n",
        "for text, label in zip(x_test, y_test):\n",
        "  if text != \"\":\n",
        "    new_test_text.append(text)\n",
        "    new_test_label.append(label)\n",
        "\n",
        "x_test = np.array(new_test_text)\n",
        "y_test = np.array(new_test_label)"
      ]
    },
    {
      "cell_type": "code",
      "execution_count": null,
      "metadata": {
        "id": "XqJw9RW86FaW"
      },
      "outputs": [],
      "source": [
        "new_val_text = []\n",
        "new_val_label = []\n",
        "\n",
        "for text, label in zip(x_val, y_val):\n",
        "  if text != \"\":\n",
        "    new_val_text.append(text)\n",
        "    new_val_label.append(label)\n",
        "\n",
        "x_val = np.array(new_val_text)\n",
        "y_val = np.array(new_val_label)"
      ]
    },
    {
      "cell_type": "markdown",
      "metadata": {
        "id": "KmzSHtWD_8Fh"
      },
      "source": [
        "In fact, the `TextVectorization` layer will automatically calculate the number of unique words (plus 2 for `out_of_vocab` and `special` tokens)"
      ]
    },
    {
      "cell_type": "code",
      "execution_count": null,
      "metadata": {
        "colab": {
          "base_uri": "https://localhost:8080/"
        },
        "id": "S2nga5BcAK-G",
        "outputId": "924da3da-292d-4ac3-e5d7-28682b2dbfe1"
      },
      "outputs": [],
      "source": [
        "from tensorflow.keras.layers import TextVectorization\n",
        "\n",
        "# We calculate 9930, here we leave 10k to see the result of the layer\n",
        "VOCAB_SIZE = 10000\n",
        "MAX_LENGTH = 50 # average length is 17\n",
        "\n",
        "tokenizer = TextVectorization(\n",
        "    max_tokens=VOCAB_SIZE,\n",
        "    standardize=None, # preprocessing already done above\n",
        "    output_mode=\"int\", # output list containing tokreprocess (representing words in the field)\n",
        "    output_sequence_length=MAX_LENGTH # padding or truncate until MAX_LENGTH\n",
        ")\n",
        "\n",
        "# Fit on x_train\n",
        "tokenizer.adapt(x_train)\n",
        "print(tokenizer.vocabulary_size())"
      ]
    },
    {
      "cell_type": "markdown",
      "metadata": {
        "id": "4YFftYJzDy34"
      },
      "source": [
        "Update the variable `VOCAB_SIZE`"
      ]
    },
    {
      "cell_type": "code",
      "execution_count": null,
      "metadata": {
        "id": "ksQWzwiYD1-i"
      },
      "outputs": [],
      "source": [
        "VOCAB_SIZE = tokenizer.vocabulary_size() # 9932"
      ]
    },
    {
      "cell_type": "markdown",
      "metadata": {
        "id": "5vwV_ZoiDNKR"
      },
      "source": [
        "### Pretrained Word Embedding"
      ]
    },
    {
      "cell_type": "code",
      "execution_count": null,
      "metadata": {
        "id": "Cs2taqVbDmMR"
      },
      "outputs": [],
      "source": [
        "import fasttext\n",
        "\n",
        "ft = fasttext.load_model(\"/content/drive/MyDrive/Colab Notebooks/ML-intensive/data/cc.vi.50.bin\")"
      ]
    },
    {
      "cell_type": "markdown",
      "metadata": {
        "id": "gg3kbjd6ETSn"
      },
      "source": [
        "This pretrained Word Embedding will represent the word with 1 vector `50 dimensions`"
      ]
    },
    {
      "cell_type": "code",
      "execution_count": null,
      "metadata": {
        "colab": {
          "base_uri": "https://localhost:8080/"
        },
        "id": "Zs2W5fKdEbXa",
        "outputId": "91c06b13-2497-4d8c-d37b-b0bc1300cc7e"
      },
      "outputs": [],
      "source": [
        "text = \"đẹp_trai\"\n",
        "embedding = ft[text]\n",
        "print(embedding)\n",
        "print(embedding.shape)"
      ]
    },
    {
      "cell_type": "markdown",
      "metadata": {
        "id": "XmLAlvUfKtIz"
      },
      "source": [
        "#### TODO 1\n",
        "\n",
        "We will write the algorithm described in the Pre-Class article to derive vector embedding for each word in the dictionary\n",
        "- Initalize empty  list `embeddings`\n",
        "- Loop through each word in the dictionary\n",
        "  - Retrieve a list of words to repeat with `tokenizer.get_vocabulary(include_special_tokens=True)`\n",
        "  - Use `tqdm` to display progress bar `tqdm(tokenizer.get_vocabulary(include_special_tokens=True))`\n",
        "- if the word exists in Pretrained Embedding (use the `in ft` command to check)\n",
        "  - add it to `embeddings`\n",
        "- If not exist\n",
        "  - Intialize randomly a vector of 50 features `np.random.uniform`, ranging from `-0.05` to `0.05` and then add into `embeddings`\n",
        "- Convert `embeddings` into `numpy array` and print the shape to test."
      ]
    },
    {
      "cell_type": "code",
      "execution_count": null,
      "metadata": {},
      "outputs": [],
      "source": [
        "# YOUR SOLUTION"
      ]
    },
    {
      "cell_type": "markdown",
      "metadata": {
        "id": "3SmX2YJNOYjy"
      },
      "source": [
        "### Simple Recurrent Neural Network"
      ]
    },
    {
      "cell_type": "code",
      "execution_count": null,
      "metadata": {
        "colab": {
          "base_uri": "https://localhost:8080/"
        },
        "id": "VIt7WpCK5ovl",
        "outputId": "e1893956-ba2d-4883-c67e-d6b82c448672"
      },
      "outputs": [],
      "source": [
        "from tensorflow.keras.models import Sequential\n",
        "from tensorflow.keras.layers import Dense, Input, SimpleRNN, LSTM, GRU\n",
        "from tensorflow import string\n",
        "\n",
        "\n",
        "'''\n",
        "Pipeline:\n",
        "- input layer receive documents (shape=1, dtype=str)\n",
        "- tokenizer\n",
        "- embedding\n",
        "- RNN & MLP\n",
        "'''\n",
        "\n",
        "model = Sequential()\n",
        "\n",
        "model.add(Input(shape=(1,), dtype=string))\n",
        "xmodel.add(tokenizer)\n",
        "model.add(embedding_layer)\n",
        "model.add(SimpleRNN(32))\n",
        "\n",
        "model.add(Dense(16, activation=\"relu\"))\n",
        "model.add(Dense(1, activation=\"sigmoid\"))\n",
        "model.summary()"
      ]
    },
    {
      "cell_type": "code",
      "execution_count": null,
      "metadata": {
        "colab": {
          "base_uri": "https://localhost:8080/"
        },
        "id": "_zUWPNub-Q1d",
        "outputId": "c8419a73-3c78-4c69-e239-4864f3e44b42"
      },
      "outputs": [],
      "source": [
        "model.compile(optimizer='adam',\n",
        "              loss=\"binary_crossentropy\",\n",
        "              metrics=['accuracy'\n",
        "              ])\n",
        "\n",
        "model.fit(\n",
        "    x_train,\n",
        "    y_train,\n",
        "    validation_data=(x_val, y_val),\n",
        "    epochs=5\n",
        ")"
      ]
    },
    {
      "cell_type": "code",
      "execution_count": null,
      "metadata": {
        "id": "6wG-jfhj_5pH"
      },
      "outputs": [],
      "source": [
        "model.evaluate(x_test, y_test)\n",
        "y_pred_test = model.predict(x_test) >= 0.5"
      ]
    },
    {
      "cell_type": "code",
      "execution_count": null,
      "metadata": {
        "id": "1ctWx5-i_z2q"
      },
      "outputs": [],
      "source": [
        "from sklearn.metrics import classification_report, confusion_matrix\n",
        "import seaborn as sns\n",
        "import matplotlib.pyplot as plt\n",
        "\n",
        "sns.heatmap(confusion_matrix(y_test, y_pred_test), annot=True, fmt=\"d\")\n",
        "plt.show()\n",
        "print(classification_report(y_test, y_pred_test))"
      ]
    },
    {
      "cell_type": "markdown",
      "metadata": {
        "id": "M5qKLDAQLkb5"
      },
      "source": [
        "#### TODO 2\n",
        "\n",
        "Now it`s your turn, use more complex models:\n",
        "1. Stacked Biderectional RNN: oftenly, only 2 to 3 layers should be stacked\n",
        "2. Replace the RNN in model 1 with LSTM or GRU and train again\n",
        "\n",
        "**Note: you need to reinitialize the 'Embedding' layer from the 'embeddings' variable when creating a new model (as the current 'Embedding' layer has already been trained)**\n",
        "\n",
        "There are 1 techniques to train the model better when using the Pretrained Model::\n",
        "- Freezing the pretrained layer (in this tutorial the `Embedding` layer), i.e. not updating the weight of this layer during training\n",
        "- Train the model\n",
        "- Open the pretrained layers, and continue training with a small `learning_rate`.\n",
        "\n",
        "We will learn about the above technique later, but you can try it\n",
        "\n",
        "```python\n",
        "# Initialize embedding\n",
        "embedding_layer = Embedding(\n",
        "    VOCAB_SIZE,\n",
        "    50,\n",
        "    embeddings_initializer=Constant(embeddings),\n",
        "    name=\"embedding\"\n",
        ")\n",
        "\n",
        "# Freeze weights\n",
        "embedding_layer.trainable = False\n",
        "\n",
        "# Create the model\n",
        "# Start training process\n",
        "...\n",
        "# Unfreeze weights\n",
        "embedding_layer.trainable = True\n",
        "\n",
        "# re-compile model (compile only, not recreate) and use smaller learning rate\n",
        "model.compile(optimizer=Adam(learning_rate=smaller_lr))\n",
        "model.fit(...)\n",
        "```"
      ]
    }
  ],
  "metadata": {
    "accelerator": "GPU",
    "colab": {
      "provenance": [],
      "toc_visible": true
    },
    "kernelspec": {
      "display_name": "Python 3",
      "name": "python3"
    },
    "language_info": {
      "name": "python"
    },
    "widgets": {
      "application/vnd.jupyter.widget-state+json": {
        "3368f63fc1b14fb590a3513541125bc8": {
          "model_module": "@jupyter-widgets/controls",
          "model_module_version": "1.5.0",
          "model_name": "DescriptionStyleModel",
          "state": {
            "_model_module": "@jupyter-widgets/controls",
            "_model_module_version": "1.5.0",
            "_model_name": "DescriptionStyleModel",
            "_view_count": null,
            "_view_module": "@jupyter-widgets/base",
            "_view_module_version": "1.2.0",
            "_view_name": "StyleView",
            "description_width": ""
          }
        },
        "3948d3235d2b486d9d10edd0c48d6987": {
          "model_module": "@jupyter-widgets/base",
          "model_module_version": "1.2.0",
          "model_name": "LayoutModel",
          "state": {
            "_model_module": "@jupyter-widgets/base",
            "_model_module_version": "1.2.0",
            "_model_name": "LayoutModel",
            "_view_count": null,
            "_view_module": "@jupyter-widgets/base",
            "_view_module_version": "1.2.0",
            "_view_name": "LayoutView",
            "align_content": null,
            "align_items": null,
            "align_self": null,
            "border": null,
            "bottom": null,
            "display": null,
            "flex": null,
            "flex_flow": null,
            "grid_area": null,
            "grid_auto_columns": null,
            "grid_auto_flow": null,
            "grid_auto_rows": null,
            "grid_column": null,
            "grid_gap": null,
            "grid_row": null,
            "grid_template_areas": null,
            "grid_template_columns": null,
            "grid_template_rows": null,
            "height": null,
            "justify_content": null,
            "justify_items": null,
            "left": null,
            "margin": null,
            "max_height": null,
            "max_width": null,
            "min_height": null,
            "min_width": null,
            "object_fit": null,
            "object_position": null,
            "order": null,
            "overflow": null,
            "overflow_x": null,
            "overflow_y": null,
            "padding": null,
            "right": null,
            "top": null,
            "visibility": null,
            "width": null
          }
        },
        "71c62c7ab8e14bc7b807a0a86af612b3": {
          "model_module": "@jupyter-widgets/controls",
          "model_module_version": "1.5.0",
          "model_name": "HTMLModel",
          "state": {
            "_dom_classes": [],
            "_model_module": "@jupyter-widgets/controls",
            "_model_module_version": "1.5.0",
            "_model_name": "HTMLModel",
            "_view_count": null,
            "_view_module": "@jupyter-widgets/controls",
            "_view_module_version": "1.5.0",
            "_view_name": "HTMLView",
            "description": "",
            "description_tooltip": null,
            "layout": "IPY_MODEL_f9f81354bf464eb8949a8bdbf32bfe2c",
            "placeholder": "​",
            "style": "IPY_MODEL_d3c3ee7e85ca4afa8d16dfb06ac92eee",
            "value": " 9932/9932 [01:40&lt;00:00, 58.79it/s]"
          }
        },
        "72aa1418312c40f7bca2ea36cfdc2a96": {
          "model_module": "@jupyter-widgets/controls",
          "model_module_version": "1.5.0",
          "model_name": "FloatProgressModel",
          "state": {
            "_dom_classes": [],
            "_model_module": "@jupyter-widgets/controls",
            "_model_module_version": "1.5.0",
            "_model_name": "FloatProgressModel",
            "_view_count": null,
            "_view_module": "@jupyter-widgets/controls",
            "_view_module_version": "1.5.0",
            "_view_name": "ProgressView",
            "bar_style": "success",
            "description": "",
            "description_tooltip": null,
            "layout": "IPY_MODEL_3948d3235d2b486d9d10edd0c48d6987",
            "max": 9932,
            "min": 0,
            "orientation": "horizontal",
            "style": "IPY_MODEL_7a240f0ac5604403a6d7029e57abe6cf",
            "value": 9932
          }
        },
        "7a240f0ac5604403a6d7029e57abe6cf": {
          "model_module": "@jupyter-widgets/controls",
          "model_module_version": "1.5.0",
          "model_name": "ProgressStyleModel",
          "state": {
            "_model_module": "@jupyter-widgets/controls",
            "_model_module_version": "1.5.0",
            "_model_name": "ProgressStyleModel",
            "_view_count": null,
            "_view_module": "@jupyter-widgets/base",
            "_view_module_version": "1.2.0",
            "_view_name": "StyleView",
            "bar_color": null,
            "description_width": ""
          }
        },
        "a58f736a70f043b2ad65b1061de6dcd0": {
          "model_module": "@jupyter-widgets/base",
          "model_module_version": "1.2.0",
          "model_name": "LayoutModel",
          "state": {
            "_model_module": "@jupyter-widgets/base",
            "_model_module_version": "1.2.0",
            "_model_name": "LayoutModel",
            "_view_count": null,
            "_view_module": "@jupyter-widgets/base",
            "_view_module_version": "1.2.0",
            "_view_name": "LayoutView",
            "align_content": null,
            "align_items": null,
            "align_self": null,
            "border": null,
            "bottom": null,
            "display": null,
            "flex": null,
            "flex_flow": null,
            "grid_area": null,
            "grid_auto_columns": null,
            "grid_auto_flow": null,
            "grid_auto_rows": null,
            "grid_column": null,
            "grid_gap": null,
            "grid_row": null,
            "grid_template_areas": null,
            "grid_template_columns": null,
            "grid_template_rows": null,
            "height": null,
            "justify_content": null,
            "justify_items": null,
            "left": null,
            "margin": null,
            "max_height": null,
            "max_width": null,
            "min_height": null,
            "min_width": null,
            "object_fit": null,
            "object_position": null,
            "order": null,
            "overflow": null,
            "overflow_x": null,
            "overflow_y": null,
            "padding": null,
            "right": null,
            "top": null,
            "visibility": null,
            "width": null
          }
        },
        "b8b7f787edaa46989c5074a3fea2eefe": {
          "model_module": "@jupyter-widgets/controls",
          "model_module_version": "1.5.0",
          "model_name": "HBoxModel",
          "state": {
            "_dom_classes": [],
            "_model_module": "@jupyter-widgets/controls",
            "_model_module_version": "1.5.0",
            "_model_name": "HBoxModel",
            "_view_count": null,
            "_view_module": "@jupyter-widgets/controls",
            "_view_module_version": "1.5.0",
            "_view_name": "HBoxView",
            "box_style": "",
            "children": [
              "IPY_MODEL_c0fe11b752a84e71b56517ee065a46af",
              "IPY_MODEL_72aa1418312c40f7bca2ea36cfdc2a96",
              "IPY_MODEL_71c62c7ab8e14bc7b807a0a86af612b3"
            ],
            "layout": "IPY_MODEL_a58f736a70f043b2ad65b1061de6dcd0"
          }
        },
        "c0fe11b752a84e71b56517ee065a46af": {
          "model_module": "@jupyter-widgets/controls",
          "model_module_version": "1.5.0",
          "model_name": "HTMLModel",
          "state": {
            "_dom_classes": [],
            "_model_module": "@jupyter-widgets/controls",
            "_model_module_version": "1.5.0",
            "_model_name": "HTMLModel",
            "_view_count": null,
            "_view_module": "@jupyter-widgets/controls",
            "_view_module_version": "1.5.0",
            "_view_name": "HTMLView",
            "description": "",
            "description_tooltip": null,
            "layout": "IPY_MODEL_c6af19c8bbff4920937067ab9e7fec8a",
            "placeholder": "​",
            "style": "IPY_MODEL_3368f63fc1b14fb590a3513541125bc8",
            "value": "100%"
          }
        },
        "c6af19c8bbff4920937067ab9e7fec8a": {
          "model_module": "@jupyter-widgets/base",
          "model_module_version": "1.2.0",
          "model_name": "LayoutModel",
          "state": {
            "_model_module": "@jupyter-widgets/base",
            "_model_module_version": "1.2.0",
            "_model_name": "LayoutModel",
            "_view_count": null,
            "_view_module": "@jupyter-widgets/base",
            "_view_module_version": "1.2.0",
            "_view_name": "LayoutView",
            "align_content": null,
            "align_items": null,
            "align_self": null,
            "border": null,
            "bottom": null,
            "display": null,
            "flex": null,
            "flex_flow": null,
            "grid_area": null,
            "grid_auto_columns": null,
            "grid_auto_flow": null,
            "grid_auto_rows": null,
            "grid_column": null,
            "grid_gap": null,
            "grid_row": null,
            "grid_template_areas": null,
            "grid_template_columns": null,
            "grid_template_rows": null,
            "height": null,
            "justify_content": null,
            "justify_items": null,
            "left": null,
            "margin": null,
            "max_height": null,
            "max_width": null,
            "min_height": null,
            "min_width": null,
            "object_fit": null,
            "object_position": null,
            "order": null,
            "overflow": null,
            "overflow_x": null,
            "overflow_y": null,
            "padding": null,
            "right": null,
            "top": null,
            "visibility": null,
            "width": null
          }
        },
        "d3c3ee7e85ca4afa8d16dfb06ac92eee": {
          "model_module": "@jupyter-widgets/controls",
          "model_module_version": "1.5.0",
          "model_name": "DescriptionStyleModel",
          "state": {
            "_model_module": "@jupyter-widgets/controls",
            "_model_module_version": "1.5.0",
            "_model_name": "DescriptionStyleModel",
            "_view_count": null,
            "_view_module": "@jupyter-widgets/base",
            "_view_module_version": "1.2.0",
            "_view_name": "StyleView",
            "description_width": ""
          }
        },
        "f9f81354bf464eb8949a8bdbf32bfe2c": {
          "model_module": "@jupyter-widgets/base",
          "model_module_version": "1.2.0",
          "model_name": "LayoutModel",
          "state": {
            "_model_module": "@jupyter-widgets/base",
            "_model_module_version": "1.2.0",
            "_model_name": "LayoutModel",
            "_view_count": null,
            "_view_module": "@jupyter-widgets/base",
            "_view_module_version": "1.2.0",
            "_view_name": "LayoutView",
            "align_content": null,
            "align_items": null,
            "align_self": null,
            "border": null,
            "bottom": null,
            "display": null,
            "flex": null,
            "flex_flow": null,
            "grid_area": null,
            "grid_auto_columns": null,
            "grid_auto_flow": null,
            "grid_auto_rows": null,
            "grid_column": null,
            "grid_gap": null,
            "grid_row": null,
            "grid_template_areas": null,
            "grid_template_columns": null,
            "grid_template_rows": null,
            "height": null,
            "justify_content": null,
            "justify_items": null,
            "left": null,
            "margin": null,
            "max_height": null,
            "max_width": null,
            "min_height": null,
            "min_width": null,
            "object_fit": null,
            "object_position": null,
            "order": null,
            "overflow": null,
            "overflow_x": null,
            "overflow_y": null,
            "padding": null,
            "right": null,
            "top": null,
            "visibility": null,
            "width": null
          }
        }
      }
    }
  },
  "nbformat": 4,
  "nbformat_minor": 0
}
